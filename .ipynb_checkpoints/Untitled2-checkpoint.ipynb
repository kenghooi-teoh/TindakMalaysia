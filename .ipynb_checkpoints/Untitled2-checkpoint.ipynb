{
 "cells": [
  {
   "cell_type": "code",
   "execution_count": null,
   "metadata": {
    "collapsed": true
   },
   "outputs": [],
   "source": [
    "import pandas as pd\n",
    "import seaborn as sns\n",
    "import matplotlib.pyplot as plt\n",
    "%matplotlib inline"
   ]
  },
  {
   "cell_type": "code",
   "execution_count": null,
   "metadata": {
    "collapsed": true
   },
   "outputs": [],
   "source": [
    "from analysis import *"
   ]
  },
  {
   "cell_type": "code",
   "execution_count": null,
   "metadata": {
    "collapsed": false
   },
   "outputs": [],
   "source": [
    "# VOTERS\n",
    "roll14 = pd.read_csv('Lembah Pantai GE14 Roll.csv')\n",
    "roll13 = pd.read_csv('Lembah Pantai GE13 Roll.csv')\n",
    "\n",
    "# SCORE\n",
    "score_slp = pd.read_excel('results.xlsx', sheetname='SouthLembahPantai')\n",
    "score_slp14 = score_slp[score_slp['GE'] == 'GE14']\n",
    "score_slp13 = score_slp[score_slp['GE'] == 'GE13']"
   ]
  },
  {
   "cell_type": "code",
   "execution_count": null,
   "metadata": {
    "collapsed": false
   },
   "outputs": [],
   "source": [
    "#______________________________________________________________________________________________________________________________\n",
    "\n",
    "roll_slp14 = roll14[(roll14['NamaDM']=='TAMAN BUKIT ANGKASA') | (roll14['NamaDM']=='PANTAI HILL PARK') |(roll14['NamaDM']=='TAMAN SRI SENTOSA UTARA') |(roll14['NamaDM']=='TAMAN SRI SENTOSA SELATAN')]\n",
    "roll_slp13 = roll13[(roll13['NamaDM']=='TAMAN BUKIT ANGKASA') | (roll13['NamaDM']=='PANTAI HILL PARK') |(roll13['NamaDM']=='TAMAN SRI SENTOSA UTARA') |(roll13['NamaDM']=='TAMAN SRI SENTOSA SELATAN')]\n",
    "\n",
    "def calculate_age(born):\n",
    "    electionday = pd.to_datetime('2018-05-09')\n",
    "    return electionday.year - born.year - ((electionday.month, electionday.day) < (born.month, born.day))\n",
    "\n",
    "roll_slp14['Age'] = pd.to_datetime(roll_slp14['TahunLahir']).apply(lambda x: calculate_age(x))\n",
    "max_age = max(roll_slp14['Age'].max(),roll_slp13['Umur'].max())\n",
    "\n",
    "roll_slp14['AgeGroup'] = pd.cut(roll_slp14['Age'], [20,30,40,50,60,70,80,max_age] )\n",
    "roll_slp13['AgeGroup'] = pd.cut(roll_slp13['Umur'], bins=[20,30,40,50,60,70,80,max_age])"
   ]
  },
  {
   "cell_type": "markdown",
   "metadata": {},
   "source": [
    "______"
   ]
  },
  {
   "cell_type": "code",
   "execution_count": null,
   "metadata": {
    "collapsed": true
   },
   "outputs": [],
   "source": [
    "slp_age_compare = pd.DataFrame([roll_slp13['AgeGroup'].value_counts(),roll_slp14['AgeGroup'].value_counts() ]).T\n",
    "slp_age_compare.columns = ['GE13','GE14']\n",
    "\n",
    "slp_age_compare['GE13_p'] = slp_age_compare['GE13']/slp_age_compare['GE13'].sum()\n",
    "slp_age_compare['GE14_p'] = slp_age_compare['GE14']/slp_age_compare['GE14'].sum()\n",
    "\n",
    "slp_age_compare_p = slp_age_compare[['GE13_p','GE14_p']]\n",
    "\n",
    "slp_age_compare2 = slp_age_compare[['GE13','GE14']].unstack().reset_index()\n",
    "slp_age_compare2.columns = ['GE','AgeGroup','count']\n",
    "\n",
    "slp_age_compare_p2 = slp_age_compare_p[['GE13_p','GE14_p']].unstack().reset_index()\n",
    "slp_age_compare_p2.columns = ['GE','AgeGroup','count']"
   ]
  },
  {
   "cell_type": "code",
   "execution_count": null,
   "metadata": {
    "collapsed": false
   },
   "outputs": [],
   "source": [
    "f,ax = plt.subplots(1,2, figsize=(12,5))\n",
    "p1 = sns.barplot(y='count', x='AgeGroup', hue='GE',data=slp_age_compare2, ax=ax[0])\n",
    "p2 = sns.barplot(y='count', x='AgeGroup', hue='GE',data=slp_age_compare_p2, ax=ax[1])\n",
    "\n",
    "for patch in p1.patches:\n",
    "    try:\n",
    "        if patch.get_height()>0:\n",
    "            p1.annotate(' %.f' % patch.get_height(), xy=( patch.get_x() + patch.get_width()/2 ,patch.get_height()+ 100), ha='center',fontsize=8)\n",
    "    except:\n",
    "        pass\n",
    "\n",
    "for patch in p2.patches:\n",
    "    try:\n",
    "        if patch.get_height()>0:\n",
    "            p2.annotate(' %.2f' % patch.get_height(), xy=( patch.get_x() + patch.get_width()/2 ,patch.get_height()+0.005), ha='center',fontsize=8)\n",
    "    except:\n",
    "        pass\n",
    "    \n",
    "p1.set_ylim(0,len(roll_slp14))\n",
    "p2.set_ylim(0,1)\n",
    "    \n",
    "plt.tight_layout()\n",
    "plt.suptitle('Age Group (Count, Percentage)')\n",
    "\n"
   ]
  },
  {
   "cell_type": "markdown",
   "metadata": {},
   "source": [
    "_____"
   ]
  },
  {
   "cell_type": "code",
   "execution_count": null,
   "metadata": {
    "collapsed": false
   },
   "outputs": [],
   "source": [
    "#______________________________________________________________________________________________________________________________\n",
    "age_group14_dict_tba = dict(age_group_ratio(roll_slp14, 'TAMAN BUKIT ANGKASA') )\n",
    "age_group14_dict_php = dict(age_group_ratio(roll_slp14, 'PANTAI HILL PARK') )\n",
    "age_group14_dict_tssu = dict(age_group_ratio(roll_slp14, 'TAMAN SRI SENTOSA UTARA') )\n",
    "age_group14_dict_tssa = dict(age_group_ratio(roll_slp14, 'TAMAN SRI SENTOSA SELATAN') )\n",
    "\n",
    "score_tba14 = score_slp14[score_slp14['NAMA DM']=='TAMAN BUKIT ANGKASA']\n",
    "score_php14 = score_slp14[score_slp14['NAMA DM']=='PANTAI HILL PARK']\n",
    "score_tssu14 = score_slp14[score_slp14['NAMA DM']=='TAMAN SRI SENTOSA UTARA']\n",
    "score_tssa14 = score_slp14[score_slp14['NAMA DM']=='TAMAN SRI SENTOSA SELATAN']\n",
    "\n",
    "tba_total_released_votes14 = get_released_vote_count(score_slp14 , \"TAMAN BUKIT ANGKASA\")\n",
    "php_total_released_votes14 = get_released_vote_count(score_slp14 , \"PANTAI HILL PARK\")\n",
    "tssu_total_released_votes14 = get_released_vote_count(score_slp14 , \"TAMAN SRI SENTOSA UTARA\")\n",
    "tssa_total_released_votes14 = get_released_vote_count(score_slp14 , \"TAMAN SRI SENTOSA SELATAN\")\n",
    "\n",
    "print('Total votes in Taman Bukit Angkasa in GE14: ', tba_total_released_votes14)\n",
    "print('Total votes in Pantai Hill Park in GE14: ', php_total_released_votes14)\n",
    "print('Total votes in Taman Sri Sentosa Utara in GE14: ', tssu_total_released_votes14)\n",
    "print('Total votes in Taman Sri Sentosa Selatan in GE14: ', tssa_total_released_votes14)"
   ]
  },
  {
   "cell_type": "code",
   "execution_count": null,
   "metadata": {
    "collapsed": false
   },
   "outputs": [],
   "source": [
    "#______________________________________________________________________________________________________________________________\n",
    "age_group13_dict_tba = dict(age_group_ratio(roll_slp13, 'TAMAN BUKIT ANGKASA') )\n",
    "age_group13_dict_php = dict(age_group_ratio(roll_slp13, 'PANTAI HILL PARK') )\n",
    "age_group13_dict_tssu = dict(age_group_ratio(roll_slp13, 'TAMAN SRI SENTOSA UTARA') )\n",
    "age_group13_dict_tssa = dict(age_group_ratio(roll_slp13, 'TAMAN SRI SENTOSA SELATAN') )\n",
    "\n",
    "score_tba13 = score_slp13[score_slp13['NAMA DM']=='TAMAN BUKIT ANGKASA']\n",
    "score_php13 = score_slp13[score_slp13['NAMA DM']=='PANTAI HILL PARK']\n",
    "score_tssu13 = score_slp13[score_slp13['NAMA DM']=='TAMAN SRI SENTOSA UTARA']\n",
    "score_tssa13 = score_slp13[score_slp13['NAMA DM']=='TAMAN SRI SENTOSA SELATAN']\n",
    "\n",
    "tba_total_released_votes13 = get_released_vote_count(score_slp13 , \"TAMAN BUKIT ANGKASA\")\n",
    "php_total_released_votes13 = get_released_vote_count(score_slp13 , \"PANTAI HILL PARK\")\n",
    "tssu_total_released_votes13 = get_released_vote_count(score_slp13 , \"TAMAN SRI SENTOSA UTARA\")\n",
    "tssa_total_released_votes13 = get_released_vote_count(score_slp13 , \"TAMAN SRI SENTOSA SELATAN\")\n",
    "\n",
    "print('Total votes in Taman Bukit Angkasa in GE13: ', tba_total_released_votes13)\n",
    "print('Total votes in Pantai Hill Park in GE13: ', php_total_released_votes13)\n",
    "print('Total votes in Taman Sri Sentosa Utara in GE13: ', tssu_total_released_votes13)\n",
    "print('Total votes in Taman Sri Sentosa Selatan in GE13: ', tssa_total_released_votes13)"
   ]
  },
  {
   "cell_type": "code",
   "execution_count": null,
   "metadata": {
    "collapsed": false
   },
   "outputs": [],
   "source": [
    "#______________________________________________________________________________________________________________________________\n",
    "f,ax = plt.subplots(2,2, figsize=(12,8))\n",
    "pd.DataFrame({'GE13':age_group13_dict_tba}).join(pd.DataFrame({'GE14':age_group14_dict_tba})).plot.bar(ax=ax[0][0])\n",
    "pd.DataFrame({'GE13':age_group13_dict_php}).join(pd.DataFrame({'GE14':age_group14_dict_php})).plot.bar(ax=ax[0][1])\n",
    "pd.DataFrame({'GE13':age_group13_dict_tssu}).join(pd.DataFrame({'GE14':age_group14_dict_tssu})).plot.bar(ax=ax[1][0])\n",
    "pd.DataFrame({'GE13':age_group13_dict_tssa}).join(pd.DataFrame({'GE14':age_group14_dict_tssu})).plot.bar(ax=ax[1][1])\n",
    "\n",
    "ax[0][0].set_ylim(0,1)\n",
    "ax[0][1].set_ylim(0,1)\n",
    "ax[1][0].set_ylim(0,1)\n",
    "ax[1][1].set_ylim(0,1)\n",
    "\n",
    "ax[0][0].set_title('Taman Bukit Angkasa')\n",
    "ax[0][1].set_title('Pantai Hill Park')\n",
    "ax[1][0].set_title('Taman Sri Sentosa Utara')\n",
    "ax[1][1].set_title('Taman Sri Sentosa Selatan')\n",
    "\n",
    "for plot in [p for row in ax for p in row]:\n",
    "    for patch in plot.patches:\n",
    "        try:\n",
    "            if patch.get_height()>0:\n",
    "                plot.annotate(' %.2f' % patch.get_height(), xy=( patch.get_x() + patch.get_width()/2 ,patch.get_height()+ 0.01), ha='center',fontsize=8)\n",
    "        except:\n",
    "            pass\n",
    "\n",
    "\n",
    "plt.tight_layout()\n",
    "plt.show()"
   ]
  },
  {
   "cell_type": "code",
   "execution_count": null,
   "metadata": {
    "collapsed": false
   },
   "outputs": [],
   "source": [
    "len(roll14[roll14['NamaDM']=='TAMAN BUKIT ANGKASA'])"
   ]
  },
  {
   "cell_type": "code",
   "execution_count": null,
   "metadata": {
    "collapsed": true
   },
   "outputs": [],
   "source": [
    "#______________________________________________________________________________________________________________________________\n",
    "slp_dict13 = {'TAMAN BUKIT ANGKASA':{'BN': score_tba13['Barisan Nasional '].sum() / tba_total_released_votes13,\n",
    "                              'Pakatan':score_tba13['Pakatan Rakyat'].sum() / tba_total_released_votes13,\n",
    "                               'Bebas':score_tba13['Bebas'].sum() / tba_total_released_votes13,\n",
    "                                'UndiRosak':score_tba13['Rejected Votes'].sum() / tba_total_released_votes13,\n",
    "                                'NorReturnedVote':score_tba13['BIL KERTAS UNDI YG TIDAK DIKEMBALIKAN (D)'].sum() / tba_total_released_votes13},\n",
    "               'PANTAI HILL PARK':{'BN': score_php13['Barisan Nasional '].sum() / php_total_released_votes13,\n",
    "                              'Pakatan':score_php13['Pakatan Rakyat'].sum() / php_total_released_votes13,\n",
    "                               'Bebas':score_php13['Bebas'].sum() / php_total_released_votes13,\n",
    "                                'UndiRosak':score_php13['Rejected Votes'].sum() / php_total_released_votes13,\n",
    "                                'NorReturnedVote':score_php13['BIL KERTAS UNDI YG TIDAK DIKEMBALIKAN (D)'].sum() / php_total_released_votes13},\n",
    "               'TAMAN SRI SENTOSA UTARA':{'BN': score_tssu13['Barisan Nasional '].sum() / tssu_total_released_votes13,\n",
    "                              'Pakatan':score_tssu13['Pakatan Rakyat'].sum() / tssu_total_released_votes13,\n",
    "                               'Bebas':score_tssu13['Bebas'].sum() / tssu_total_released_votes13,\n",
    "                                'UndiRosak':score_tssu13['Rejected Votes'].sum() / tssu_total_released_votes13,\n",
    "                                'NorReturnedVote':score_tssu13['BIL KERTAS UNDI YG TIDAK DIKEMBALIKAN (D)'].sum() / tssu_total_released_votes13},\n",
    "               'TAMAN SRI SENTOSA SELATAN':{'BN': score_tssa13['Barisan Nasional '].sum() / tssa_total_released_votes13,\n",
    "                              'Pakatan':score_tssa13['Pakatan Rakyat'].sum() / tssa_total_released_votes13,\n",
    "                               'Bebas':score_tssa13['Bebas'].sum() / tssa_total_released_votes13,\n",
    "                                'UndiRosak':score_tssa13['Rejected Votes'].sum() / tssa_total_released_votes13,\n",
    "                                'NorReturnedVote':score_tssa13['BIL KERTAS UNDI YG TIDAK DIKEMBALIKAN (D)'].sum() / tssa_total_released_votes13}\n",
    "                                }\n",
    "\n",
    "slp_dict14 = {'TAMAN BUKIT ANGKASA':{'BN': score_tba14['Barisan Nasional '].sum() / tba_total_released_votes14,\n",
    "                              'Pakatan':score_tba14['Pakatan Rakyat'].sum() / tba_total_released_votes14,\n",
    "                               'PAS':score_tba14['PAS'].sum() / tba_total_released_votes14,\n",
    "                                'UndiRosak':score_tba14['Rejected Votes'].sum() / tba_total_released_votes14,\n",
    "                                'NorReturnedVote':score_tba14['BIL KERTAS UNDI YG TIDAK DIKEMBALIKAN (D)'].sum() / tba_total_released_votes14},\n",
    "               'PANTAI HILL PARK':{'BN': score_php14['Barisan Nasional '].sum() / php_total_released_votes14,\n",
    "                              'Pakatan':score_php14['Pakatan Rakyat'].sum() / php_total_released_votes14,\n",
    "                               'PAS':score_php14['PAS'].sum() / php_total_released_votes14,\n",
    "                                'UndiRosak':score_php14['Rejected Votes'].sum() / php_total_released_votes14,\n",
    "                                'NorReturnedVote':score_php14['BIL KERTAS UNDI YG TIDAK DIKEMBALIKAN (D)'].sum() / php_total_released_votes14},\n",
    "               'TAMAN SRI SENTOSA UTARA':{'BN': score_tssu14['Barisan Nasional '].sum() / tssu_total_released_votes14,\n",
    "                              'Pakatan':score_tssu14['Pakatan Rakyat'].sum() / tssu_total_released_votes14,\n",
    "                               'PAS':score_tssu14['PAS'].sum() / tssu_total_released_votes14,\n",
    "                                'UndiRosak':score_tssu14['Rejected Votes'].sum() / tssu_total_released_votes14,\n",
    "                                'NorReturnedVote':score_tssu14['BIL KERTAS UNDI YG TIDAK DIKEMBALIKAN (D)'].sum() / tssu_total_released_votes14},\n",
    "               'TAMAN SRI SENTOSA SELATAN':{'BN': score_tssa14['Barisan Nasional '].sum() / tssa_total_released_votes14,\n",
    "                              'Pakatan':score_tssa14['Pakatan Rakyat'].sum() / tssa_total_released_votes14,\n",
    "                               'PAS':score_tssa14['PAS'].sum() / tssa_total_released_votes14,\n",
    "                                'UndiRosak':score_tssa14['Rejected Votes'].sum() / tssa_total_released_votes14,\n",
    "                                'NorReturnedVote':score_tssa14['BIL KERTAS UNDI YG TIDAK DIKEMBALIKAN (D)'].sum() / tssa_total_released_votes14}\n",
    "                                }\n",
    "\n",
    "tba13 = slp_dict13['TAMAN BUKIT ANGKASA']\n",
    "tba14 = slp_dict14['TAMAN BUKIT ANGKASA']\n",
    "\n",
    "php13 = slp_dict13['PANTAI HILL PARK']\n",
    "php14 = slp_dict14['PANTAI HILL PARK']\n",
    "\n",
    "tssu13 = slp_dict13['TAMAN SRI SENTOSA UTARA']\n",
    "tssu14 = slp_dict14['TAMAN SRI SENTOSA UTARA']\n",
    "\n",
    "tssa13 = slp_dict13['TAMAN SRI SENTOSA SELATAN']\n",
    "tssa14 = slp_dict14['TAMAN SRI SENTOSA SELATAN']\n",
    "\n",
    "tamanbukitangkasa = pd.DataFrame({'tamanbukitangkasa13':tba13, 'tamanbukitangkasa14':tba14})\n",
    "pantaihillpark = pd.DataFrame({'pantaihillpark13':php13, 'pantaihillpark14':php14})\n",
    "tamanssutara = pd.DataFrame({'tamanssutara13':tssu13, 'tamanssutara14':tssu14})\n",
    "tamanssselatan = pd.DataFrame({'tamanssselatan13':tssa13, 'tamanssselatan14':tssa14})\n",
    "\n",
    "tamanbukitangkasa.loc['Bebas','tamanbukitangkasa14'] = tamanbukitangkasa.loc['PAS','tamanbukitangkasa14']\n",
    "tamanbukitangkasa.drop('PAS', inplace=True)\n",
    "tamanbukitangkasa.index = ['BN', 'Bebas to PAS', 'NorReturnedVote', 'Pakatan', 'UndiRosak']\n",
    "\n",
    "pantaihillpark.loc['Bebas','pantaihillpark14'] = pantaihillpark.loc['PAS','pantaihillpark14']\n",
    "pantaihillpark.drop('PAS', inplace=True)\n",
    "pantaihillpark.index = ['BN', 'Bebas to PAS', 'NorReturnedVote', 'Pakatan', 'UndiRosak']\n",
    "\n",
    "tamanssutara.loc['Bebas','tamanssutara14'] = tamanssutara.loc['PAS','tamanssutara14']\n",
    "tamanssutara.drop('PAS', inplace=True)\n",
    "tamanssutara.index = ['BN', 'Bebas to PAS', 'NorReturnedVote', 'Pakatan', 'UndiRosak']\n",
    "\n",
    "tamanssselatan.loc['Bebas','tamanssselatan14'] = tamanssselatan.loc['PAS','tamanssselatan14']\n",
    "tamanssselatan.drop('PAS', inplace=True)\n",
    "tamanssselatan.index = ['BN', 'Bebas to PAS', 'NorReturnedVote', 'Pakatan', 'UndiRosak']\n",
    "\n",
    "\n",
    "dict_score_13_tamanbukitangkasa = {}\n",
    "dict_score_13_tamanbukitangkasa.update({'BN':score_tba13['Barisan Nasional '].sum() / tba_total_released_votes13})\n",
    "dict_score_13_tamanbukitangkasa.update({'Pakatan':score_tba13['Pakatan Rakyat'].sum() / tba_total_released_votes13})\n",
    "dict_score_13_tamanbukitangkasa.update({'Bebas':score_tba13['Bebas'].sum() / tba_total_released_votes13})\n",
    "dict_score_13_tamanbukitangkasa.update({'Rejected':score_tba13['Rejected Votes'].sum() / tba_total_released_votes13})\n",
    "dict_score_13_tamanbukitangkasa.update({'NotReturned':score_tba13['BIL KERTAS UNDI YG TIDAK DIKEMBALIKAN (D)'].sum() / tba_total_released_votes13})\n",
    "\n",
    "dict_score_13_pantaihillpark = {}\n",
    "dict_score_13_pantaihillpark.update({'BN':score_php13['Barisan Nasional '].sum() / php_total_released_votes13})\n",
    "dict_score_13_pantaihillpark.update({'Pakatan':score_php13['Pakatan Rakyat'].sum() / php_total_released_votes13})\n",
    "dict_score_13_pantaihillpark.update({'Bebas':score_php13['Bebas'].sum() / php_total_released_votes13})\n",
    "dict_score_13_pantaihillpark.update({'Rejected':score_php13['Rejected Votes'].sum() / php_total_released_votes13})\n",
    "dict_score_13_pantaihillpark.update({'NotReturned':score_php13['BIL KERTAS UNDI YG TIDAK DIKEMBALIKAN (D)'].sum() / php_total_released_votes13})\n",
    "\n",
    "dict_score_13_tamanssutara = {}\n",
    "dict_score_13_tamanssutara.update({'BN':score_tssu13['Barisan Nasional '].sum() / tssu_total_released_votes13})\n",
    "dict_score_13_tamanssutara.update({'Pakatan':score_tssu13['Pakatan Rakyat'].sum() / tssu_total_released_votes13})\n",
    "dict_score_13_tamanssutara.update({'Bebas':score_tssu13['Bebas'].sum() / tssu_total_released_votes13})\n",
    "dict_score_13_tamanssutara.update({'Rejected':score_tssu13['Rejected Votes'].sum() / tssu_total_released_votes13})\n",
    "dict_score_13_tamanssutara.update({'NotReturned':score_tssu13['BIL KERTAS UNDI YG TIDAK DIKEMBALIKAN (D)'].sum() / tssu_total_released_votes13})\n",
    "\n",
    "dict_score_13_tamanssselatan = {}\n",
    "dict_score_13_tamanssselatan.update({'BN':score_tssa13['Barisan Nasional '].sum() / tssa_total_released_votes13})\n",
    "dict_score_13_tamanssselatan.update({'Pakatan':score_tssa13['Pakatan Rakyat'].sum() / tssa_total_released_votes13})\n",
    "dict_score_13_tamanssselatan.update({'Bebas':score_tssa13['Bebas'].sum() / tssa_total_released_votes13})\n",
    "dict_score_13_tamanssselatan.update({'Rejected':score_tssa13['Rejected Votes'].sum() / tssa_total_released_votes13})\n",
    "dict_score_13_tamanssselatan.update({'NotReturned':score_tssa13['BIL KERTAS UNDI YG TIDAK DIKEMBALIKAN (D)'].sum() / tssa_total_released_votes13})\n",
    "\n",
    "dict_score_14_tamanbukitangkasa = {}\n",
    "dict_score_14_tamanbukitangkasa.update({'BN':score_tba14['Barisan Nasional '].sum() / tba_total_released_votes14})\n",
    "dict_score_14_tamanbukitangkasa.update({'Pakatan':score_tba14['Pakatan Rakyat'].sum() / tba_total_released_votes14})\n",
    "dict_score_14_tamanbukitangkasa.update({'PAS':score_tba14['PAS'].sum() / tba_total_released_votes14})\n",
    "dict_score_14_tamanbukitangkasa.update({'Rejected':score_tba14['Rejected Votes'].sum() / tba_total_released_votes14})\n",
    "dict_score_14_tamanbukitangkasa.update({'NotReturned':score_tba14['BIL KERTAS UNDI YG TIDAK DIKEMBALIKAN (D)'].sum() / tba_total_released_votes14})\n",
    "\n",
    "dict_score_14_pantaihillpark = {}\n",
    "dict_score_14_pantaihillpark.update({'BN':score_php14['Barisan Nasional '].sum() / php_total_released_votes14})\n",
    "dict_score_14_pantaihillpark.update({'Pakatan':score_php14['Pakatan Rakyat'].sum() / php_total_released_votes14})\n",
    "dict_score_14_pantaihillpark.update({'PAS':score_php14['PAS'].sum() / php_total_released_votes14})\n",
    "dict_score_14_pantaihillpark.update({'Rejected':score_php14['Rejected Votes'].sum() / php_total_released_votes14})\n",
    "dict_score_14_pantaihillpark.update({'NotReturned':score_php14['BIL KERTAS UNDI YG TIDAK DIKEMBALIKAN (D)'].sum() / php_total_released_votes14})\n",
    "\n",
    "dict_score_14_tamanssutara = {}\n",
    "dict_score_14_tamanssutara.update({'BN':score_tssu14['Barisan Nasional '].sum() / tssu_total_released_votes14})\n",
    "dict_score_14_tamanssutara.update({'Pakatan':score_tssu14['Pakatan Rakyat'].sum() / tssu_total_released_votes14})\n",
    "dict_score_14_tamanssutara.update({'PAS':score_tssu14['PAS'].sum() / tssu_total_released_votes14})\n",
    "dict_score_14_tamanssutara.update({'Rejected':score_tssu14['Rejected Votes'].sum() / tssu_total_released_votes14})\n",
    "dict_score_14_tamanssutara.update({'NotReturned':score_tssu14['BIL KERTAS UNDI YG TIDAK DIKEMBALIKAN (D)'].sum() / tssu_total_released_votes14})\n",
    "\n",
    "dict_score_14_tamanssselatan = {}\n",
    "dict_score_14_tamanssselatan.update({'BN':score_tssa14['Barisan Nasional '].sum() / tssa_total_released_votes14})\n",
    "dict_score_14_tamanssselatan.update({'Pakatan':score_tssa14['Pakatan Rakyat'].sum() / tssa_total_released_votes14})\n",
    "dict_score_14_tamanssselatan.update({'PAS':score_tssa14['PAS'].sum() / tssa_total_released_votes14})\n",
    "dict_score_14_tamanssselatan.update({'Rejected':score_tssa14['Rejected Votes'].sum() / tssa_total_released_votes14})\n",
    "dict_score_14_tamanssselatan.update({'NotReturned':score_tssa14['BIL KERTAS UNDI YG TIDAK DIKEMBALIKAN (D)'].sum() / tssa_total_released_votes14})\n",
    "\n",
    "df_tba_score = pd.DataFrame({'GE13':dict_score_13_tamanbukitangkasa}).join(pd.DataFrame({'GE14':dict_score_14_tamanbukitangkasa}), how='outer')\n",
    "\n",
    "df_php_score = pd.DataFrame({'GE13':dict_score_13_pantaihillpark}).join(pd.DataFrame({'GE14':dict_score_14_pantaihillpark}), how='outer')\n",
    "\n",
    "df_tssu_score = pd.DataFrame({'GE13':dict_score_13_tamanssutara}).join(pd.DataFrame({'GE14':dict_score_14_tamanssutara}), how='outer')\n",
    "\n",
    "df_tssa_score = pd.DataFrame({'GE13':dict_score_13_tamanssselatan}).join(pd.DataFrame({'GE14':dict_score_14_tamanssselatan}), how='outer')\n",
    "\n",
    "\n",
    "df_tba_score.loc['Bebas','GE14'] = df_tba_score.loc['PAS','GE14']\n",
    "df_php_score.loc['Bebas','GE14'] = df_php_score.loc['PAS','GE14']\n",
    "df_tssu_score.loc['Bebas','GE14'] = df_tssu_score.loc['PAS','GE14']\n",
    "df_tssa_score.loc['Bebas','GE14'] = df_tssa_score.loc['PAS','GE14']\n",
    "\n",
    "df_tba_score.drop('PAS', inplace=True)\n",
    "df_php_score.drop('PAS', inplace=True)\n",
    "df_tssu_score.drop('PAS', inplace=True)\n",
    "df_tssa_score.drop('PAS', inplace=True)\n",
    "\n",
    "df_tba_score.index = ['BN', 'Bebas->PAS', 'NotReturned', 'Pakatan', 'Rejected']\n",
    "df_php_score.index = ['BN', 'Bebas->PAS', 'NotReturned', 'Pakatan', 'Rejected']\n",
    "df_tssu_score.index = ['BN', 'Bebas->PAS', 'NotReturned', 'Pakatan', 'Rejected']\n",
    "df_tssa_score.index = ['BN', 'Bebas->PAS', 'NotReturned', 'Pakatan', 'Rejected']\n",
    "\n",
    "\n",
    "df_tba = pd.DataFrame({'GE13':{'BN':score_tba13['Barisan Nasional '].sum(),\n",
    "\t\t\t\t\t\t\t\t'Pakatan':score_tba13['Pakatan Rakyat'].sum(),\n",
    "\t\t\t\t\t\t\t\t'Bebas->PAS':score_tba13['Bebas'].sum(),\n",
    "\t\t\t\t\t\t\t\t'Rejected':score_tba13['Rejected Votes'].sum(),\n",
    "\t\t\t\t\t\t\t\t'NotReturned':score_tba13['BIL KERTAS UNDI YG TIDAK DIKEMBALIKAN (D)'].sum()} ,\n",
    "\t\t\t\t\t'GE14':{'BN':score_tba14['Barisan Nasional '].sum(),\n",
    "\t\t\t\t\t\t\t\t'Pakatan':score_tba14['Pakatan Rakyat'].sum(),\n",
    "\t\t\t\t\t\t\t\t'Bebas->PAS':score_tba14['PAS'].sum(),\n",
    "\t\t\t\t\t\t\t\t'Rejected':score_tba14['Rejected Votes'].sum(),\n",
    "\t\t\t\t\t\t\t\t'NotReturned':score_tba14['BIL KERTAS UNDI YG TIDAK DIKEMBALIKAN (D)'].sum()}})\t\n",
    "\n",
    "df_php = pd.DataFrame({'GE13':{'BN':score_php13['Barisan Nasional '].sum(),\n",
    "\t\t\t\t\t\t\t'Pakatan':score_php13['Pakatan Rakyat'].sum(),\n",
    "\t\t\t\t\t\t\t'Bebas->PAS':score_php13['Bebas'].sum(),\n",
    "\t\t\t\t\t\t\t'Rejected':score_php13['Rejected Votes'].sum(),\n",
    "\t\t\t\t\t\t\t'NotReturned':score_php13['BIL KERTAS UNDI YG TIDAK DIKEMBALIKAN (D)'].sum()} ,\n",
    "\t\t\t\t\t'GE14':{'BN':score_php14['Barisan Nasional '].sum(),\n",
    "\t\t\t\t\t\t\t'Pakatan':score_php14['Pakatan Rakyat'].sum(),\n",
    "\t\t\t\t\t\t\t'Bebas->PAS':score_php14['PAS'].sum(),\n",
    "\t\t\t\t\t\t\t'Rejected':score_php14['Rejected Votes'].sum(),\n",
    "\t\t\t\t\t\t\t'NotReturned':score_php14['BIL KERTAS UNDI YG TIDAK DIKEMBALIKAN (D)'].sum()}})\n",
    "\n",
    "df_tssu = pd.DataFrame({'GE13':{'BN':score_tssu13['Barisan Nasional '].sum(),\n",
    "\t\t\t\t\t\t\t'Pakatan':score_tssu13['Pakatan Rakyat'].sum(),\n",
    "\t\t\t\t\t\t\t'Bebas->PAS':score_tssu13['Bebas'].sum(),\n",
    "\t\t\t\t\t\t\t'Rejected':score_tssu13['Rejected Votes'].sum(),\n",
    "\t\t\t\t\t\t\t'NotReturned':score_tssu13['BIL KERTAS UNDI YG TIDAK DIKEMBALIKAN (D)'].sum()} ,\n",
    "\t\t\t\t\t'GE14':{'BN':score_tssu14['Barisan Nasional '].sum(),\n",
    "\t\t\t\t\t\t\t'Pakatan':score_tssu14['Pakatan Rakyat'].sum(),\n",
    "\t\t\t\t\t\t\t'Bebas->PAS':score_tssu14['PAS'].sum(),\n",
    "\t\t\t\t\t\t\t'Rejected':score_tssu14['Rejected Votes'].sum(),\n",
    "\t\t\t\t\t\t\t'NotReturned':score_tssu14['BIL KERTAS UNDI YG TIDAK DIKEMBALIKAN (D)'].sum()}})\n",
    "\n",
    "df_tssa = pd.DataFrame({'GE13':{'BN':score_tssa13['Barisan Nasional '].sum(),\n",
    "\t\t\t\t\t\t\t'Pakatan':score_tssa13['Pakatan Rakyat'].sum(),\n",
    "\t\t\t\t\t\t\t'Bebas->PAS':score_tssa13['Bebas'].sum(),\n",
    "\t\t\t\t\t\t\t'Rejected':score_tssa13['Rejected Votes'].sum(),\n",
    "\t\t\t\t\t\t\t'NotReturned':score_tssa13['BIL KERTAS UNDI YG TIDAK DIKEMBALIKAN (D)'].sum()} ,\n",
    "\t\t\t\t\t'GE14':{'BN':score_tssa14['Barisan Nasional '].sum(),\n",
    "\t\t\t\t\t\t\t'Pakatan':score_tssa14['Pakatan Rakyat'].sum(),\n",
    "\t\t\t\t\t\t\t'Bebas->PAS':score_tssa14['PAS'].sum(),\n",
    "\t\t\t\t\t\t\t'Rejected':score_tssa14['Rejected Votes'].sum(),\n",
    "\t\t\t\t\t\t\t'NotReturned':score_tssa14['BIL KERTAS UNDI YG TIDAK DIKEMBALIKAN (D)'].sum()}})"
   ]
  },
  {
   "cell_type": "code",
   "execution_count": null,
   "metadata": {
    "collapsed": false
   },
   "outputs": [],
   "source": [
    "len(roll_slp13[roll_slp13['NamaDM'] == 'TAMAN BUKIT ANGKASA'])"
   ]
  },
  {
   "cell_type": "code",
   "execution_count": null,
   "metadata": {
    "collapsed": false
   },
   "outputs": [],
   "source": [
    "len(roll_slp14[roll_slp14['NamaDM'] == 'TAMAN BUKIT ANGKASA'])"
   ]
  },
  {
   "cell_type": "code",
   "execution_count": null,
   "metadata": {
    "collapsed": false
   },
   "outputs": [],
   "source": [
    "#_______________________________________________________________________________________________________________________________\n",
    "\n",
    "f, ax = plt.subplots(2,2, figsize=(12,8))\n",
    "\n",
    "p1 = df_tba.plot.bar(ax=ax[0][0])\n",
    "p2 = df_php.plot.bar(ax=ax[0][1], sharey = p1)\n",
    "p3 = df_tssu.plot.bar(ax=ax[1][0], sharey = p1)\n",
    "p4 = df_tssa.plot.bar(ax=ax[1][1], sharey = p1)\n",
    "\n",
    "plt.subplots_adjust(wspace = 0.02)\n",
    "\n",
    "p1.set_title('Taman Bukit Angkasa (Vote count)')\n",
    "p2.set_title('Pantai Hill Park(Vote count)')\n",
    "p3.set_title('Taman Sri Sentosa Utara(Vote count)')\n",
    "p4.set_title('Taman Sri Sentosa Selatan (Vote count)')\n",
    "\n",
    "p1.set_ylim(0,max(roll_slp14['NamaDM'].value_counts()) )\n",
    "p2.set_ylim(0,max(roll_slp14['NamaDM'].value_counts()) )\n",
    "p3.set_ylim(0,max(roll_slp14['NamaDM'].value_counts()) )\n",
    "p4.set_ylim(0,max(roll_slp14['NamaDM'].value_counts()) )\n",
    "\n",
    "p1.legend().remove()\n",
    "p2.legend().remove()\n",
    "p3.legend().remove()\n",
    "p4.legend().remove()\n",
    "\n",
    "for patch in p1.patches:\n",
    "\ttry:\n",
    "\t\tif patch.get_height()>0:\n",
    "\t\t\tp1.annotate(' %.0f' % patch.get_height(), xy=( patch.get_x() + patch.get_width()/2 ,patch.get_height()+ 100), ha='center',fontsize=9)\n",
    "\texcept:\n",
    "\t\tpass\n",
    "    \n",
    "for patch in p2.patches:\n",
    "    try:\n",
    "        if patch.get_height()>0:\n",
    "            p2.annotate(' %.0f' % patch.get_height(), xy=( patch.get_x() + patch.get_width()/2 ,patch.get_height()+100), ha='center',fontsize=9)\n",
    "    except:\n",
    "        pass\n",
    "    \n",
    "for patch in p3.patches:\n",
    "    try:\n",
    "        if patch.get_height()>0:\n",
    "            p3.annotate(' %.0f' % patch.get_height(), xy=( patch.get_x() + patch.get_width()/2 ,patch.get_height()+100), ha='center',fontsize=9)\n",
    "    except:\n",
    "        pass\n",
    "\n",
    "for patch in p4.patches:\n",
    "    try:\n",
    "        if patch.get_height()>0:\n",
    "            p4.annotate(' %.0f' % patch.get_height(), xy=( patch.get_x() + patch.get_width()/2 ,patch.get_height()+100), ha='center',fontsize=9)\n",
    "    except:\n",
    "        pass\n",
    "    \n",
    "handles, labels = p1.get_legend_handles_labels()\n",
    "plt.figlegend(handles,labels ,loc = 'lower center', ncol=2, bbox_to_anchor=[0.5, 0.])\n",
    "\n",
    "plt.tight_layout()\n",
    "plt.show()"
   ]
  },
  {
   "cell_type": "code",
   "execution_count": null,
   "metadata": {
    "collapsed": false
   },
   "outputs": [],
   "source": [
    "df_tba_score"
   ]
  },
  {
   "cell_type": "code",
   "execution_count": null,
   "metadata": {
    "collapsed": false,
    "scrolled": true
   },
   "outputs": [],
   "source": [
    "#_______________________________________________________________________________________________________________________________\n",
    "\n",
    "f, ax = plt.subplots(2,2, figsize=(12,8))\n",
    "\n",
    "p1 = df_tba_score.plot.bar(ax=ax[0][0])\n",
    "p2 = df_php_score.plot.bar(ax=ax[0][1], sharey = p1)\n",
    "p3 = df_tssu_score.plot.bar(ax=ax[1][0], sharey = p1)\n",
    "p4 = df_tssa_score.plot.bar(ax=ax[1][1], sharey = p1)\n",
    "\n",
    "plt.subplots_adjust(wspace = 0.02)\n",
    "\n",
    "p1.set_title('Taman Bukit Angkasa (Vote count/ voters)')\n",
    "p2.set_title('Pantai Hill Park(Vote count/ voters)')\n",
    "p3.set_title('Taman Sri Sentosa Utara(Vote count/ voters)')\n",
    "p4.set_title('Taman Sri Sentosa Selatan (Vote count/ voters)')\n",
    "\n",
    "p1.set_ylim(0,1 )\n",
    "p2.set_ylim(0,1 )\n",
    "p3.set_ylim(0,1 )\n",
    "p4.set_ylim(0,1 )\n",
    "\n",
    "p1.legend().remove()\n",
    "p2.legend().remove()\n",
    "p3.legend().remove()\n",
    "p4.legend().remove()\n",
    "\n",
    "for patch in p1.patches:\n",
    "    try:\n",
    "        if patch.get_height()>0:\n",
    "            p1.annotate(' %.2f' % patch.get_height(), xy=( patch.get_x() + patch.get_width()/2 ,patch.get_height()+ .01), ha='center',fontsize=9)\n",
    "    except:\n",
    "        pass\n",
    "    \n",
    "for patch in p2.patches:\n",
    "    try:\n",
    "        if patch.get_height()>0:\n",
    "            p2.annotate(' %.2f' % patch.get_height(), xy=( patch.get_x() + patch.get_width()/2 ,patch.get_height()+.01), ha='center',fontsize=9)\n",
    "    except:\n",
    "        pass\n",
    "    \n",
    "for patch in p3.patches:\n",
    "    try:\n",
    "        if patch.get_height()>0:\n",
    "            p3.annotate(' %.2f' % patch.get_height(), xy=( patch.get_x() + patch.get_width()/2 ,patch.get_height()+.01), ha='center',fontsize=9)\n",
    "    except:\n",
    "        pass\n",
    "\n",
    "for patch in p4.patches:\n",
    "    try:\n",
    "        if patch.get_height()>0:\n",
    "            p4.annotate(' %.2f' % patch.get_height(), xy=( patch.get_x() + patch.get_width()/2 ,patch.get_height()+.01), ha='center',fontsize=9)\n",
    "    except:\n",
    "        pass\n",
    "    \n",
    "handles, labels = p1.get_legend_handles_labels()\n",
    "plt.figlegend(handles,labels ,loc = 'lower center', ncol=2, bbox_to_anchor=[0.5, 0.])\n",
    "\n",
    "plt.tight_layout()\n",
    "plt.show()"
   ]
  },
  {
   "cell_type": "code",
   "execution_count": null,
   "metadata": {
    "collapsed": true
   },
   "outputs": [],
   "source": []
  },
  {
   "cell_type": "code",
   "execution_count": null,
   "metadata": {
    "collapsed": true
   },
   "outputs": [],
   "source": []
  },
  {
   "cell_type": "code",
   "execution_count": null,
   "metadata": {
    "collapsed": true
   },
   "outputs": [],
   "source": []
  },
  {
   "cell_type": "code",
   "execution_count": null,
   "metadata": {
    "collapsed": false
   },
   "outputs": [],
   "source": [
    "# print((tssu_total_released_votes13),\n",
    "# (tssu_total_released_votes14))"
   ]
  },
  {
   "cell_type": "code",
   "execution_count": null,
   "metadata": {
    "collapsed": true
   },
   "outputs": [],
   "source": []
  },
  {
   "cell_type": "code",
   "execution_count": null,
   "metadata": {
    "collapsed": false
   },
   "outputs": [],
   "source": [
    "# print((tssa_total_released_votes13),\n",
    "# (tssa_total_released_votes14))"
   ]
  },
  {
   "cell_type": "code",
   "execution_count": null,
   "metadata": {
    "collapsed": false
   },
   "outputs": [],
   "source": [
    "# print((tba_total_released_votes13),\n",
    "# (tba_total_released_votes14))"
   ]
  },
  {
   "cell_type": "code",
   "execution_count": null,
   "metadata": {
    "collapsed": false
   },
   "outputs": [],
   "source": [
    "# print(php_total_released_votes13)\n",
    "# print(php_total_released_votes14)"
   ]
  },
  {
   "cell_type": "code",
   "execution_count": null,
   "metadata": {
    "collapsed": true
   },
   "outputs": [],
   "source": [
    "# i = 'PANTAI HILL PARK'"
   ]
  },
  {
   "cell_type": "code",
   "execution_count": null,
   "metadata": {
    "collapsed": false
   },
   "outputs": [],
   "source": [
    "# print(score_slp13[score_slp13['NAMA DM']==i][['VotesByElectors','BIL KERTAS UNDI YG TIDAK DIKEMBALIKAN (D)']].sum().sum())\n",
    "# print(score_slp14[score_slp14['NAMA DM']==i][['VotesByElectors','BIL KERTAS UNDI YG TIDAK DIKEMBALIKAN (D)']].sum().sum())"
   ]
  },
  {
   "cell_type": "code",
   "execution_count": null,
   "metadata": {
    "collapsed": false
   },
   "outputs": [],
   "source": [
    "# print(len(roll_slp13[roll_slp13['NamaDM'] == i]))\n",
    "# print(len(roll_slp14[roll_slp14['NamaDM'] == i]))"
   ]
  },
  {
   "cell_type": "code",
   "execution_count": null,
   "metadata": {
    "collapsed": true
   },
   "outputs": [],
   "source": []
  }
 ],
 "metadata": {
  "kernelspec": {
   "display_name": "Python 3",
   "language": "python",
   "name": "python3"
  },
  "language_info": {
   "codemirror_mode": {
    "name": "ipython",
    "version": 3
   },
   "file_extension": ".py",
   "mimetype": "text/x-python",
   "name": "python",
   "nbconvert_exporter": "python",
   "pygments_lexer": "ipython3",
   "version": "3.5.2"
  },
  "varInspector": {
   "cols": {
    "lenName": 16,
    "lenType": 16,
    "lenVar": 40
   },
   "kernels_config": {
    "python": {
     "delete_cmd_postfix": "",
     "delete_cmd_prefix": "del ",
     "library": "var_list.py",
     "varRefreshCmd": "print(var_dic_list())"
    },
    "r": {
     "delete_cmd_postfix": ") ",
     "delete_cmd_prefix": "rm(",
     "library": "var_list.r",
     "varRefreshCmd": "cat(var_dic_list()) "
    }
   },
   "types_to_exclude": [
    "module",
    "function",
    "builtin_function_or_method",
    "instance",
    "_Feature"
   ],
   "window_display": false
  }
 },
 "nbformat": 4,
 "nbformat_minor": 2
}
