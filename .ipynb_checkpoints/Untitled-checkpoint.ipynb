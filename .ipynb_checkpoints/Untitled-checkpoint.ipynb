{
 "cells": [
  {
   "cell_type": "code",
   "execution_count": 1,
   "metadata": {
    "collapsed": true
   },
   "outputs": [],
   "source": [
    "import pandas as pd\n",
    "import seaborn as sns\n",
    "import matplotlib.pyplot as plt\n",
    "%matplotlib inline"
   ]
  },
  {
   "cell_type": "code",
   "execution_count": 2,
   "metadata": {
    "collapsed": true
   },
   "outputs": [],
   "source": [
    "from analysis import *"
   ]
  },
  {
   "cell_type": "code",
   "execution_count": 82,
   "metadata": {
    "collapsed": false
   },
   "outputs": [
    {
     "name": "stderr",
     "output_type": "stream",
     "text": [
      "/Users/kenghooi/anaconda2/envs/nltk3/lib/python3.5/site-packages/IPython/core/interactiveshell.py:2717: DtypeWarning: Columns (4) have mixed types. Specify dtype option on import or set low_memory=False.\n",
      "  interactivity=interactivity, compiler=compiler, result=result)\n",
      "/Users/kenghooi/anaconda2/envs/nltk3/lib/python3.5/site-packages/IPython/core/interactiveshell.py:2717: DtypeWarning: Columns (1,6,22) have mixed types. Specify dtype option on import or set low_memory=False.\n",
      "  interactivity=interactivity, compiler=compiler, result=result)\n"
     ]
    }
   ],
   "source": [
    "# VOTERS\n",
    "roll14 = pd.read_csv('Lembah Pantai GE14 Roll.csv')\n",
    "roll13 = pd.read_csv('Lembah Pantai GE13 Roll.csv')\n",
    "\n",
    "# SCORE\n",
    "score_bangsar = pd.read_excel('results.xlsx', sheetname='Bangsar')\n",
    "score_bangsar14 = score_bangsar[score_bangsar['GE'] == 'GE14']\n",
    "score_bangsar13 = score_bangsar[score_bangsar['GE'] == 'GE13']"
   ]
  },
  {
   "cell_type": "markdown",
   "metadata": {},
   "source": [
    "## HIDE"
   ]
  },
  {
   "cell_type": "markdown",
   "metadata": {},
   "source": [
    "### GE14"
   ]
  },
  {
   "cell_type": "markdown",
   "metadata": {},
   "source": [
    "in GE 14 there is no ind candidate"
   ]
  },
  {
   "cell_type": "code",
   "execution_count": 83,
   "metadata": {
    "collapsed": false
   },
   "outputs": [
    {
     "name": "stderr",
     "output_type": "stream",
     "text": [
      "/Users/kenghooi/anaconda2/envs/nltk3/lib/python3.5/site-packages/ipykernel/__main__.py:1: SettingWithCopyWarning: \n",
      "A value is trying to be set on a copy of a slice from a DataFrame\n",
      "\n",
      "See the caveats in the documentation: http://pandas.pydata.org/pandas-docs/stable/indexing.html#indexing-view-versus-copy\n",
      "  if __name__ == '__main__':\n"
     ]
    }
   ],
   "source": [
    "score_bangsar14.drop('Bebas', axis=1, inplace=True)"
   ]
  },
  {
   "cell_type": "code",
   "execution_count": 84,
   "metadata": {
    "collapsed": false
   },
   "outputs": [],
   "source": [
    "roll_bangsar14 = roll14[(roll14['NamaDM']=='BANGSAR BARU') | (roll14['NamaDM']=='TAMAN LUCKY') |(roll14['NamaDM']=='JALAN MAAROF')]"
   ]
  },
  {
   "cell_type": "code",
   "execution_count": 85,
   "metadata": {
    "collapsed": false
   },
   "outputs": [
    {
     "name": "stderr",
     "output_type": "stream",
     "text": [
      "/Users/kenghooi/anaconda2/envs/nltk3/lib/python3.5/site-packages/ipykernel/__main__.py:2: SettingWithCopyWarning: \n",
      "A value is trying to be set on a copy of a slice from a DataFrame.\n",
      "Try using .loc[row_indexer,col_indexer] = value instead\n",
      "\n",
      "See the caveats in the documentation: http://pandas.pydata.org/pandas-docs/stable/indexing.html#indexing-view-versus-copy\n",
      "  from ipykernel import kernelapp as app\n"
     ]
    }
   ],
   "source": [
    "roll_bangsar13 = roll13[(roll13['NamaDM']=='BANGSAR BARU') | (roll13['NamaDM']=='TAMAN LUCKY') |(roll13['NamaDM']=='JALAN MAAROF')]\n",
    "roll_bangsar13['AgeGroup'] = pd.cut(roll_bangsar13['Umur'], bins=[20,30,40,50,60,70,80,max_age])"
   ]
  },
  {
   "cell_type": "code",
   "execution_count": 87,
   "metadata": {
    "collapsed": false
   },
   "outputs": [
    {
     "name": "stderr",
     "output_type": "stream",
     "text": [
      "/Users/kenghooi/anaconda2/envs/nltk3/lib/python3.5/site-packages/ipykernel/__main__.py:5: SettingWithCopyWarning: \n",
      "A value is trying to be set on a copy of a slice from a DataFrame.\n",
      "Try using .loc[row_indexer,col_indexer] = value instead\n",
      "\n",
      "See the caveats in the documentation: http://pandas.pydata.org/pandas-docs/stable/indexing.html#indexing-view-versus-copy\n",
      "/Users/kenghooi/anaconda2/envs/nltk3/lib/python3.5/site-packages/ipykernel/__main__.py:7: SettingWithCopyWarning: \n",
      "A value is trying to be set on a copy of a slice from a DataFrame.\n",
      "Try using .loc[row_indexer,col_indexer] = value instead\n",
      "\n",
      "See the caveats in the documentation: http://pandas.pydata.org/pandas-docs/stable/indexing.html#indexing-view-versus-copy\n"
     ]
    }
   ],
   "source": [
    "def calculate_age(born):\n",
    "    electionday = pd.to_datetime('2018-05-09')\n",
    "    return electionday.year - born.year - ((electionday.month, electionday.day) < (born.month, born.day))\n",
    "\n",
    "roll_bangsar14['Age'] = pd.to_datetime(roll_bangsar14['TahunLahir']).apply(lambda x: calculate_age(x))\n",
    "max_age = max(roll_bangsar14['Age'].max(),roll_bangsar13['Umur'].max())\n",
    "roll_bangsar14['AgeGroup'] = pd.cut(roll_bangsar14['Age'], [20,30,40,50,60,70,80,max_age] )"
   ]
  },
  {
   "cell_type": "code",
   "execution_count": 19,
   "metadata": {
    "collapsed": false,
    "scrolled": true
   },
   "outputs": [
    {
     "data": {
      "image/png": "[encoded data removed]",
      "text/plain": [
       "<matplotlib.figure.Figure at 0x11015b6d8>"
      ]
     },
     "metadata": {},
     "output_type": "display_data"
    }
   ],
   "source": [
    "f,ax = plt.subplots()\n",
    "p = sns.countplot(roll_bangsar14['AgeGroup'], palette='Blues', ax=ax)\n",
    "\n",
    "for patch in p.patches:\n",
    "    try:\n",
    "        if patch.get_height()>0:\n",
    "            p.annotate(' %.f' % patch.get_height(), xy=( patch.get_x() + patch.get_width()/2 ,patch.get_height()+ 100), ha='center',fontsize=8)\n",
    "    except:\n",
    "        pass"
   ]
  },
  {
   "cell_type": "code",
   "execution_count": 80,
   "metadata": {
    "collapsed": false
   },
   "outputs": [],
   "source": [
    "# f,ax = plt.subplots()\n",
    "# p = sns.countplot(roll_bangsar13['AgeGroup'], palette='Blues', ax=ax)\n",
    "\n",
    "# for patch in p.patches:\n",
    "#     try:\n",
    "#         if patch.get_height()>0:\n",
    "#             p.annotate(' %.f' % patch.get_height(), xy=( patch.get_x() + patch.get_width()/2 ,patch.get_height()+ 100), ha='center',fontsize=8)\n",
    "#     except:\n",
    "#         pass"
   ]
  },
  {
   "cell_type": "code",
   "execution_count": 25,
   "metadata": {
    "collapsed": false
   },
   "outputs": [],
   "source": [
    "bangsar_age_compare = pd.DataFrame([roll_bangsar13['AgeGroup'].value_counts(),roll_bangsar14['AgeGroup'].value_counts() ]).T\n",
    "bangsar_age_compare.columns = ['GE13','GE14']"
   ]
  },
  {
   "cell_type": "code",
   "execution_count": 26,
   "metadata": {
    "collapsed": false
   },
   "outputs": [],
   "source": [
    "bangsar_age_compare['GE13_p'] = bangsar_age_compare['GE13']/bangsar_age_compare['GE13'].sum()\n",
    "bangsar_age_compare['GE14_p'] = bangsar_age_compare['GE14']/bangsar_age_compare['GE14'].sum()"
   ]
  },
  {
   "cell_type": "code",
   "execution_count": 28,
   "metadata": {
    "collapsed": false,
    "scrolled": true
   },
   "outputs": [],
   "source": [
    "bangsar_age_compare_p = bangsar_age_compare[['GE13_p','GE14_p']]"
   ]
  },
  {
   "cell_type": "code",
   "execution_count": 29,
   "metadata": {
    "collapsed": false
   },
   "outputs": [],
   "source": [
    "bangsar_age_compare2 = bangsar_age_compare[['GE13','GE14']].unstack().reset_index()\n",
    "bangsar_age_compare2.columns = ['GE','AgeGroup','count']"
   ]
  },
  {
   "cell_type": "code",
   "execution_count": 30,
   "metadata": {
    "collapsed": false
   },
   "outputs": [],
   "source": [
    "bangsar_age_compare_p2 = bangsar_age_compare_p[['GE13_p','GE14_p']].unstack().reset_index()\n",
    "bangsar_age_compare_p2.columns = ['GE','AgeGroup','count']"
   ]
  },
  {
   "cell_type": "code",
   "execution_count": 31,
   "metadata": {
    "collapsed": false
   },
   "outputs": [
    {
     "data": {
      "text/plain": [
       "<matplotlib.text.Text at 0x111ff4b70>"
      ]
     },
     "execution_count": 31,
     "metadata": {},
     "output_type": "execute_result"
    },
    {
     "data": {
      "image/png": "[encoded data removed]",
      "text/plain": [
       "<matplotlib.figure.Figure at 0x111fcd240>"
      ]
     },
     "metadata": {},
     "output_type": "display_data"
    }
   ],
   "source": [
    "f,ax = plt.subplots(1,2, figsize=(12,5))\n",
    "p1 = sns.barplot(y='count', x='AgeGroup', hue='GE',data=bangsar_age_compare2, ax=ax[0])\n",
    "p2 = sns.barplot(y='count', x='AgeGroup', hue='GE',data=bangsar_age_compare_p2, ax=ax[1])\n",
    "\n",
    "for patch in p1.patches:\n",
    "    try:\n",
    "        if patch.get_height()>0:\n",
    "            p1.annotate(' %.f' % patch.get_height(), xy=( patch.get_x() + patch.get_width()/2 ,patch.get_height()+ 100), ha='center',fontsize=8)\n",
    "    except:\n",
    "        pass\n",
    "\n",
    "for patch in p2.patches:\n",
    "    try:\n",
    "        if patch.get_height()>0:\n",
    "            p2.annotate(' %.2f' % patch.get_height(), xy=( patch.get_x() + patch.get_width()/2 ,patch.get_height()+0.005), ha='center',fontsize=8)\n",
    "    except:\n",
    "        pass\n",
    "    \n",
    "p1.set_ylim(0,len(roll_bangsar14))\n",
    "p2.set_ylim(0,1)\n",
    "    \n",
    "plt.tight_layout()\n",
    "plt.suptitle('Age Group (Count, Percentage)')\n"
   ]
  },
  {
   "cell_type": "code",
   "execution_count": null,
   "metadata": {
    "collapsed": true
   },
   "outputs": [],
   "source": []
  },
  {
   "cell_type": "code",
   "execution_count": null,
   "metadata": {
    "collapsed": true
   },
   "outputs": [],
   "source": []
  },
  {
   "cell_type": "code",
   "execution_count": null,
   "metadata": {
    "collapsed": true
   },
   "outputs": [],
   "source": []
  },
  {
   "cell_type": "markdown",
   "metadata": {},
   "source": [
    "## ANALYSIS"
   ]
  },
  {
   "cell_type": "markdown",
   "metadata": {},
   "source": [
    "### Bangsar"
   ]
  },
  {
   "cell_type": "markdown",
   "metadata": {},
   "source": [
    "<h5>Bangsar: GE14"
   ]
  },
  {
   "cell_type": "code",
   "execution_count": 32,
   "metadata": {
    "collapsed": false
   },
   "outputs": [],
   "source": [
    "age_group14_dict_bangsarbaru = dict(age_group_ratio(roll_bangsar14, 'BANGSAR BARU') )\n",
    "age_group14_dict_jlnmaarof = dict(age_group_ratio(roll_bangsar14, 'JALAN MAAROF') )\n",
    "age_group14_dict_tmnlucky = dict(age_group_ratio(roll_bangsar14, 'TAMAN LUCKY') )"
   ]
  },
  {
   "cell_type": "code",
   "execution_count": 33,
   "metadata": {
    "collapsed": false
   },
   "outputs": [],
   "source": [
    "score_bangsarbaru14 = score_bangsar14[score_bangsar14['NAMA DM']=='BANGSAR BARU']\n",
    "score_jlnmaarof14 = score_bangsar14[score_bangsar14['NAMA DM']=='JALAN MAAROF']\n",
    "score_tmnlucky14 = score_bangsar14[score_bangsar14['NAMA DM']=='TAMAN LUCKY']\n",
    "\n",
    "bangsarbaru_total_released_votes14 = get_released_vote_count(score_bangsar14 , \"BANGSAR BARU\")\n",
    "jlnmaarof_total_released_votes14 = get_released_vote_count(score_bangsar14 , \"JALAN MAAROF\")\n",
    "tmnlucky_total_released_votes14 = get_released_vote_count(score_bangsar14 , \"TAMAN LUCKY\")"
   ]
  },
  {
   "cell_type": "code",
   "execution_count": 34,
   "metadata": {
    "collapsed": false
   },
   "outputs": [
    {
     "name": "stdout",
     "output_type": "stream",
     "text": [
      "Total votes in Bangsar Baru in GE14:  4399\n",
      "Total votes in Jalan Maarof in GE14:  2731\n",
      "Total votes in Taman Lucky in GE14:  2531\n"
     ]
    }
   ],
   "source": [
    "print('Total votes in Bangsar Baru in GE14: ', bangsarbaru_total_released_votes14)\n",
    "print('Total votes in Jalan Maarof in GE14: ', jlnmaarof_total_released_votes14)\n",
    "print('Total votes in Taman Lucky in GE14: ', tmnlucky_total_released_votes14)"
   ]
  },
  {
   "cell_type": "markdown",
   "metadata": {},
   "source": [
    "<h5>Bangsar: GE13"
   ]
  },
  {
   "cell_type": "code",
   "execution_count": 35,
   "metadata": {
    "collapsed": true
   },
   "outputs": [],
   "source": [
    "age_group13_dict_bangsarbaru = dict(age_group_ratio(roll_bangsar13, 'BANGSAR BARU') )\n",
    "age_group13_dict_jlnmaarof = dict(age_group_ratio(roll_bangsar13, 'JALAN MAAROF') )\n",
    "age_group13_dict_tmnlucky = dict(age_group_ratio(roll_bangsar13, 'TAMAN LUCKY') )"
   ]
  },
  {
   "cell_type": "code",
   "execution_count": 36,
   "metadata": {
    "collapsed": true
   },
   "outputs": [],
   "source": [
    "score_bangsarbaru13= score_bangsar13[score_bangsar13['NAMA DM']=='BANGSAR BARU']\n",
    "score_jlnmaarof13 = score_bangsar13[score_bangsar13['NAMA DM']=='JALAN MAAROF']\n",
    "score_tmnlucky13 = score_bangsar13[score_bangsar13['NAMA DM']=='TAMAN LUCKY']\n",
    "\n",
    "bangsarbaru_total_released_votes13 = get_released_vote_count(score_bangsar13 , \"BANGSAR BARU\")\n",
    "jlnmaarof_total_released_votes13 = get_released_vote_count(score_bangsar13 , \"JALAN MAAROF\")\n",
    "tmnlucky_total_released_votes13 = get_released_vote_count(score_bangsar13 , \"TAMAN LUCKY\")"
   ]
  },
  {
   "cell_type": "code",
   "execution_count": 37,
   "metadata": {
    "collapsed": false
   },
   "outputs": [
    {
     "name": "stdout",
     "output_type": "stream",
     "text": [
      "Total votes in Bangsar Baru in GE13:  4138\n",
      "Total votes in Jalan Maarof in GE13:  2664\n",
      "Total votes in Taman Lucky in GE13:  4702\n"
     ]
    }
   ],
   "source": [
    "print('Total votes in Bangsar Baru in GE13: ', bangsarbaru_total_released_votes13)\n",
    "print('Total votes in Jalan Maarof in GE13: ', jlnmaarof_total_released_votes13)\n",
    "print('Total votes in Taman Lucky in GE13: ', tmnlucky_total_released_votes13)"
   ]
  },
  {
   "cell_type": "code",
   "execution_count": 38,
   "metadata": {
    "collapsed": false
   },
   "outputs": [
    {
     "data": {
      "text/plain": [
       "<matplotlib.text.Text at 0x1124fda20>"
      ]
     },
     "execution_count": 38,
     "metadata": {},
     "output_type": "execute_result"
    },
    {
     "data": {
      "image/png": "[encoded data removed]",
      "text/plain": [
       "<matplotlib.figure.Figure at 0x10fefdef0>"
      ]
     },
     "metadata": {},
     "output_type": "display_data"
    }
   ],
   "source": [
    "f,ax = plt.subplots(1,3, figsize=(15,5))\n",
    "pd.DataFrame({'GE13':age_group13_dict_bangsarbaru}).join(pd.DataFrame({'GE14':age_group14_dict_bangsarbaru})).plot.bar(ax=ax[0])\n",
    "pd.DataFrame({'GE13':age_group13_dict_jlnmaarof}).join(pd.DataFrame({'GE14':age_group14_dict_jlnmaarof})).plot.bar(ax=ax[1])\n",
    "pd.DataFrame({'GE13':age_group13_dict_tmnlucky}).join(pd.DataFrame({'GE14':age_group14_dict_tmnlucky})).plot.bar(ax=ax[2])\n",
    "\n",
    "ax[0].set_ylim(0,1)\n",
    "ax[1].set_ylim(0,1)\n",
    "ax[2].set_ylim(0,1)\n",
    "\n",
    "ax[0].set_title('Bangsar Baru')\n",
    "ax[1].set_title('Jalan Maarof')\n",
    "ax[2].set_title('Taman Lucky')\n"
   ]
  },
  {
   "cell_type": "markdown",
   "metadata": {},
   "source": [
    "<h6> Bangsar - Taman Lucky"
   ]
  },
  {
   "cell_type": "code",
   "execution_count": 39,
   "metadata": {
    "collapsed": false
   },
   "outputs": [
    {
     "data": {
      "text/plain": [
       "JUM TIDAK KELUAR MENGUNDI                       NaN\n",
       "Rejected Votes                                 58.0\n",
       "BIL KERTAS UNDI YG TIDAK DIKEMBALIKAN (D)       0.0\n",
       "Bebas                                           4.0\n",
       "Barisan Nasional                             2033.0\n",
       "Pakatan Rakyat                               2607.0\n",
       "Turnout                                         NaN\n",
       "dtype: float64"
      ]
     },
     "execution_count": 39,
     "metadata": {},
     "output_type": "execute_result"
    }
   ],
   "source": [
    "score_tmnlucky13[['JUM TIDAK KELUAR MENGUNDI','Rejected Votes','BIL KERTAS UNDI YG TIDAK DIKEMBALIKAN (D)','Bebas','Barisan Nasional ','Pakatan Rakyat','Turnout']].sum()"
   ]
  },
  {
   "cell_type": "markdown",
   "metadata": {},
   "source": [
    "Number of votes cast/not cast by Taman Lucky voters who turn out in <b>GE13</b>:"
   ]
  },
  {
   "cell_type": "code",
   "execution_count": 40,
   "metadata": {
    "collapsed": false,
    "scrolled": true
   },
   "outputs": [
    {
     "name": "stdout",
     "output_type": "stream",
     "text": [
      "0.432369204594\n",
      "0.554444917057\n",
      "0.000850701829009\n",
      "0.0123351765206\n",
      "0.0\n"
     ]
    }
   ],
   "source": [
    "print(score_tmnlucky13['Barisan Nasional '].sum() / tmnlucky_total_released_votes13)\n",
    "print(score_tmnlucky13['Pakatan Rakyat'].sum() / tmnlucky_total_released_votes13)\n",
    "print(score_tmnlucky13['Bebas'].sum() / tmnlucky_total_released_votes13)\n",
    "print(score_tmnlucky13['Rejected Votes'].sum() / tmnlucky_total_released_votes13)\n",
    "print(score_tmnlucky13['BIL KERTAS UNDI YG TIDAK DIKEMBALIKAN (D)'].sum() / tmnlucky_total_released_votes13)"
   ]
  },
  {
   "cell_type": "markdown",
   "metadata": {},
   "source": [
    "Number of votes cast/not cast by Taman Lucky voters who turn out in <b>GE14</b>:"
   ]
  },
  {
   "cell_type": "code",
   "execution_count": 41,
   "metadata": {
    "collapsed": false
   },
   "outputs": [
    {
     "name": "stdout",
     "output_type": "stream",
     "text": [
      "Number of votes cast/not cast by Taman Lucky voters who turn out in GE14:  \n",
      "\n",
      "0.147767680759\n",
      "0.813907546424\n",
      "0.0304227578032\n",
      "0.00276570525484\n",
      "0.00118530225207\n"
     ]
    }
   ],
   "source": [
    "print('Number of votes cast/not cast by Taman Lucky voters who turn out in GE14: ','\\n')\n",
    "print(score_tmnlucky14['Barisan Nasional '].sum() / tmnlucky_total_released_votes14)\n",
    "print(score_tmnlucky14['Pakatan Rakyat'].sum() / tmnlucky_total_released_votes14)\n",
    "print(score_tmnlucky14['PAS'].sum() / tmnlucky_total_released_votes14)\n",
    "print(score_tmnlucky14['Rejected Votes'].sum() / tmnlucky_total_released_votes14)\n",
    "print(score_tmnlucky14['BIL KERTAS UNDI YG TIDAK DIKEMBALIKAN (D)'].sum() / tmnlucky_total_released_votes14)"
   ]
  },
  {
   "cell_type": "markdown",
   "metadata": {},
   "source": [
    "<h6> Bangsar - Jalan Maarof"
   ]
  },
  {
   "cell_type": "markdown",
   "metadata": {},
   "source": [
    "Number of votes cast/not cast by Jalan Maarof voters who turn out in <b>GE13</b>:"
   ]
  },
  {
   "cell_type": "code",
   "execution_count": 42,
   "metadata": {
    "collapsed": false
   },
   "outputs": [
    {
     "name": "stdout",
     "output_type": "stream",
     "text": [
      "0.265765765766\n",
      "0.725600600601\n",
      "0.00375375375375\n",
      "0.00412912912913\n",
      "0.000750750750751\n"
     ]
    }
   ],
   "source": [
    "print(score_jlnmaarof13['Barisan Nasional '].sum() / jlnmaarof_total_released_votes13)\n",
    "print(score_jlnmaarof13['Pakatan Rakyat'].sum() / jlnmaarof_total_released_votes13)\n",
    "print(score_jlnmaarof13['Bebas'].sum() / jlnmaarof_total_released_votes13)\n",
    "print(score_jlnmaarof13['Rejected Votes'].sum() / jlnmaarof_total_released_votes13)\n",
    "print(score_jlnmaarof13['BIL KERTAS UNDI YG TIDAK DIKEMBALIKAN (D)'].sum() / jlnmaarof_total_released_votes13)"
   ]
  },
  {
   "cell_type": "markdown",
   "metadata": {},
   "source": [
    "Number of votes cast/not cast by Jalan Maarof voters who turn out in <b>GE14</b>:"
   ]
  },
  {
   "cell_type": "code",
   "execution_count": 43,
   "metadata": {
    "collapsed": false
   },
   "outputs": [
    {
     "name": "stdout",
     "output_type": "stream",
     "text": [
      "0.133650677408\n",
      "0.84730867814\n",
      "0.0190406444526\n",
      "0.0\n",
      "0.0\n"
     ]
    }
   ],
   "source": [
    "print(score_jlnmaarof14['Barisan Nasional '].sum() / jlnmaarof_total_released_votes14)\n",
    "print(score_jlnmaarof14['Pakatan Rakyat'].sum() / jlnmaarof_total_released_votes14)\n",
    "print(score_jlnmaarof14['PAS'].sum() / jlnmaarof_total_released_votes14)\n",
    "print(score_jlnmaarof14['Rejected Votes'].sum() / jlnmaarof_total_released_votes14)\n",
    "print(score_jlnmaarof14['BIL KERTAS UNDI YG TIDAK DIKEMBALIKAN (D)'].sum() / jlnmaarof_total_released_votes14)"
   ]
  },
  {
   "cell_type": "markdown",
   "metadata": {},
   "source": [
    "<h6> Bangsar - Bangsar Baru"
   ]
  },
  {
   "cell_type": "markdown",
   "metadata": {},
   "source": [
    "Number of votes cast/not cast by Bangsar Baru voters who turn out in <b>GE13</b>:"
   ]
  },
  {
   "cell_type": "code",
   "execution_count": 44,
   "metadata": {
    "collapsed": false
   },
   "outputs": [
    {
     "name": "stdout",
     "output_type": "stream",
     "text": [
      "0.228854519091\n",
      "0.766070565491\n",
      "0.00193330111165\n",
      "0.00289995166747\n",
      "0.000241662638956\n"
     ]
    }
   ],
   "source": [
    "print(score_bangsarbaru13['Barisan Nasional '].sum() / bangsarbaru_total_released_votes13)\n",
    "print(score_bangsarbaru13['Pakatan Rakyat'].sum() / bangsarbaru_total_released_votes13)\n",
    "print(score_bangsarbaru13['Bebas'].sum() / bangsarbaru_total_released_votes13)\n",
    "print(score_bangsarbaru13['Rejected Votes'].sum() / bangsarbaru_total_released_votes13)\n",
    "print(score_bangsarbaru13['BIL KERTAS UNDI YG TIDAK DIKEMBALIKAN (D)'].sum() / bangsarbaru_total_released_votes13)"
   ]
  },
  {
   "cell_type": "markdown",
   "metadata": {},
   "source": [
    "Number of votes cast/not cast by Bangsar Baru voters who turn out in <b>GE14</b>:"
   ]
  },
  {
   "cell_type": "code",
   "execution_count": 45,
   "metadata": {
    "collapsed": false
   },
   "outputs": [
    {
     "name": "stdout",
     "output_type": "stream",
     "text": [
      "0.107524437372\n",
      "0.871789042964\n",
      "0.0206865196636\n",
      "0.0\n",
      "0.0\n"
     ]
    }
   ],
   "source": [
    "print(score_bangsarbaru14['Barisan Nasional '].sum() / bangsarbaru_total_released_votes14)\n",
    "print(score_bangsarbaru14['Pakatan Rakyat'].sum() / bangsarbaru_total_released_votes14)\n",
    "print(score_bangsarbaru14['PAS'].sum() / bangsarbaru_total_released_votes14)\n",
    "print(score_bangsarbaru14['Rejected Votes'].sum() / bangsarbaru_total_released_votes14)\n",
    "print(score_bangsarbaru14['BIL KERTAS UNDI YG TIDAK DIKEMBALIKAN (D)'].sum() / bangsarbaru_total_released_votes14)"
   ]
  },
  {
   "cell_type": "code",
   "execution_count": 57,
   "metadata": {
    "collapsed": true
   },
   "outputs": [],
   "source": [
    "bangsar_dict13 = {'JALAN MAAROF':{'BN': score_jlnmaarof13['Barisan Nasional '].sum() / jlnmaarof_total_released_votes13,\n",
    "                              'Pakatan':score_jlnmaarof13['Pakatan Rakyat'].sum() / jlnmaarof_total_released_votes13,\n",
    "                               'Bebas':score_jlnmaarof13['Bebas'].sum() / jlnmaarof_total_released_votes13,\n",
    "                                'UndiRosak':score_jlnmaarof13['Rejected Votes'].sum() / jlnmaarof_total_released_votes13,\n",
    "                                'NorReturnedVote':score_jlnmaarof13['BIL KERTAS UNDI YG TIDAK DIKEMBALIKAN (D)'].sum() / bangsarbaru_total_released_votes13},\n",
    "               'BANGSAR BARU':{'BN': score_bangsarbaru13['Barisan Nasional '].sum() / bangsarbaru_total_released_votes13,\n",
    "                              'Pakatan':score_bangsarbaru13['Pakatan Rakyat'].sum() / bangsarbaru_total_released_votes13,\n",
    "                               'Bebas':score_bangsarbaru13['Bebas'].sum() / bangsarbaru_total_released_votes13,\n",
    "                                'UndiRosak':score_bangsarbaru13['Rejected Votes'].sum() / bangsarbaru_total_released_votes13,\n",
    "                                'NorReturnedVote':score_bangsarbaru13['BIL KERTAS UNDI YG TIDAK DIKEMBALIKAN (D)'].sum() / jlnmaarof_total_released_votes13},\n",
    "               'TAMAN LUCKY':{'BN': score_tmnlucky13['Barisan Nasional '].sum() / tmnlucky_total_released_votes13,\n",
    "                              'Pakatan':score_tmnlucky13['Pakatan Rakyat'].sum() / tmnlucky_total_released_votes13,\n",
    "                               'Bebas':score_tmnlucky13['Bebas'].sum() / tmnlucky_total_released_votes13,\n",
    "                                'UndiRosak':score_tmnlucky13['Rejected Votes'].sum() / tmnlucky_total_released_votes13,\n",
    "                                'NorReturnedVote':score_tmnlucky13['BIL KERTAS UNDI YG TIDAK DIKEMBALIKAN (D)'].sum() / tmnlucky_total_released_votes13}}\n",
    "\n",
    "bangsar_dict14 = {'JALAN MAAROF':{'BN': score_jlnmaarof14['Barisan Nasional '].sum() / jlnmaarof_total_released_votes14,\n",
    "                              'Pakatan':score_jlnmaarof14['Pakatan Rakyat'].sum() / jlnmaarof_total_released_votes14,\n",
    "                               'PAS':score_jlnmaarof14['PAS'].sum() / jlnmaarof_total_released_votes14,\n",
    "                                'UndiRosak':score_jlnmaarof14['Rejected Votes'].sum() / jlnmaarof_total_released_votes14,\n",
    "                                'NorReturnedVote':score_jlnmaarof14['BIL KERTAS UNDI YG TIDAK DIKEMBALIKAN (D)'].sum() / jlnmaarof_total_released_votes14},\n",
    "               'BANGSAR BARU':{'BN': score_bangsarbaru14['Barisan Nasional '].sum() / bangsarbaru_total_released_votes14,\n",
    "                              'Pakatan':score_bangsarbaru14['Pakatan Rakyat'].sum() / bangsarbaru_total_released_votes14,\n",
    "                               'PAS':score_bangsarbaru14['PAS'].sum() / bangsarbaru_total_released_votes14,\n",
    "                                'UndiRosak':score_bangsarbaru14['Rejected Votes'].sum() / bangsarbaru_total_released_votes14,\n",
    "                                'NorReturnedVote':score_bangsarbaru14['BIL KERTAS UNDI YG TIDAK DIKEMBALIKAN (D)'].sum() / jlnmaarof_total_released_votes13},\n",
    "               'TAMAN LUCKY':{'BN': score_tmnlucky14['Barisan Nasional '].sum() / tmnlucky_total_released_votes14,\n",
    "                              'Pakatan':score_tmnlucky14['Pakatan Rakyat'].sum() / tmnlucky_total_released_votes14,\n",
    "                               'PAS':score_tmnlucky14['PAS'].sum() / tmnlucky_total_released_votes14,\n",
    "                                'UndiRosak':score_tmnlucky14['Rejected Votes'].sum() / tmnlucky_total_released_votes14,\n",
    "                                'NorReturnedVote':score_tmnlucky14['BIL KERTAS UNDI YG TIDAK DIKEMBALIKAN (D)'].sum() / tmnlucky_total_released_votes14}}"
   ]
  },
  {
   "cell_type": "code",
   "execution_count": 58,
   "metadata": {
    "collapsed": false
   },
   "outputs": [],
   "source": [
    "bb13 = bangsar_dict13['BANGSAR BARU']\n",
    "bb14 = bangsar_dict14['BANGSAR BARU']\n",
    "\n",
    "tl13 = bangsar_dict13['TAMAN LUCKY']\n",
    "tl14 = bangsar_dict14['TAMAN LUCKY']\n",
    "\n",
    "jm13 = bangsar_dict13['JALAN MAAROF']\n",
    "jm14 = bangsar_dict14['JALAN MAAROF']"
   ]
  },
  {
   "cell_type": "code",
   "execution_count": 59,
   "metadata": {
    "collapsed": false
   },
   "outputs": [],
   "source": [
    "bangsarbaru = pd.DataFrame({'bangsarbaru13':bb13, 'bangsarbaru14':bb14})\n",
    "jalanmaarof = pd.DataFrame({'jalanmaarof13':jm13, 'jalanmaarof14':jm14})\n",
    "tamanlucky = pd.DataFrame({'tamanlucky13':tl13, 'tamanlucky14':tl14})"
   ]
  },
  {
   "cell_type": "code",
   "execution_count": 60,
   "metadata": {
    "collapsed": false
   },
   "outputs": [],
   "source": [
    "bangsarbaru.loc['Bebas','bangsarbaru14'] = bangsarbaru.loc['PAS','bangsarbaru14']\n",
    "bangsarbaru.drop('PAS', inplace=True)\n",
    "bangsarbaru.index = ['BN', 'Bebas to PAS', 'NorReturnedVote', 'Pakatan', 'UndiRosak']\n",
    "\n",
    "jalanmaarof.loc['Bebas','jalanmaarof14'] = jalanmaarof.loc['PAS','jalanmaarof14']\n",
    "jalanmaarof.drop('PAS', inplace=True)\n",
    "jalanmaarof.index = ['BN', 'Bebas to PAS', 'NorReturnedVote', 'Pakatan', 'UndiRosak']\n",
    "\n",
    "tamanlucky.loc['Bebas','tamanlucky14'] = tamanlucky.loc['PAS','tamanlucky14']\n",
    "tamanlucky.drop('PAS', inplace=True)\n",
    "tamanlucky.index = ['BN', 'Bebas to PAS', 'NorReturnedVote', 'Pakatan', 'UndiRosak']"
   ]
  },
  {
   "cell_type": "code",
   "execution_count": 61,
   "metadata": {
    "collapsed": false
   },
   "outputs": [
    {
     "data": {
      "text/html": [
       "<div>\n",
       "<style>\n",
       "    .dataframe thead tr:only-child th {\n",
       "        text-align: right;\n",
       "    }\n",
       "\n",
       "    .dataframe thead th {\n",
       "        text-align: left;\n",
       "    }\n",
       "\n",
       "    .dataframe tbody tr th {\n",
       "        vertical-align: top;\n",
       "    }\n",
       "</style>\n",
       "<table border=\"1\" class=\"dataframe\">\n",
       "  <thead>\n",
       "    <tr style=\"text-align: right;\">\n",
       "      <th></th>\n",
       "      <th>bangsarbaru_14</th>\n",
       "      <th>jlnmaarof_14</th>\n",
       "      <th>tmnlucky_14</th>\n",
       "    </tr>\n",
       "  </thead>\n",
       "  <tbody>\n",
       "    <tr>\n",
       "      <th>(20, 30]</th>\n",
       "      <td>0.078201</td>\n",
       "      <td>0.081972</td>\n",
       "      <td>0.058165</td>\n",
       "    </tr>\n",
       "    <tr>\n",
       "      <th>(30, 40]</th>\n",
       "      <td>0.143426</td>\n",
       "      <td>0.138310</td>\n",
       "      <td>0.123484</td>\n",
       "    </tr>\n",
       "    <tr>\n",
       "      <th>(40, 50]</th>\n",
       "      <td>0.199135</td>\n",
       "      <td>0.183099</td>\n",
       "      <td>0.188491</td>\n",
       "    </tr>\n",
       "    <tr>\n",
       "      <th>(50, 60]</th>\n",
       "      <td>0.196713</td>\n",
       "      <td>0.206197</td>\n",
       "      <td>0.233593</td>\n",
       "    </tr>\n",
       "    <tr>\n",
       "      <th>(60, 70]</th>\n",
       "      <td>0.190311</td>\n",
       "      <td>0.214648</td>\n",
       "      <td>0.206843</td>\n",
       "    </tr>\n",
       "    <tr>\n",
       "      <th>(70, 80]</th>\n",
       "      <td>0.142561</td>\n",
       "      <td>0.120000</td>\n",
       "      <td>0.131260</td>\n",
       "    </tr>\n",
       "    <tr>\n",
       "      <th>(80, 109]</th>\n",
       "      <td>0.049654</td>\n",
       "      <td>0.055775</td>\n",
       "      <td>0.058165</td>\n",
       "    </tr>\n",
       "  </tbody>\n",
       "</table>\n",
       "</div>"
      ],
      "text/plain": [
       "           bangsarbaru_14  jlnmaarof_14  tmnlucky_14\n",
       "(20, 30]         0.078201      0.081972     0.058165\n",
       "(30, 40]         0.143426      0.138310     0.123484\n",
       "(40, 50]         0.199135      0.183099     0.188491\n",
       "(50, 60]         0.196713      0.206197     0.233593\n",
       "(60, 70]         0.190311      0.214648     0.206843\n",
       "(70, 80]         0.142561      0.120000     0.131260\n",
       "(80, 109]        0.049654      0.055775     0.058165"
      ]
     },
     "execution_count": 61,
     "metadata": {},
     "output_type": "execute_result"
    }
   ],
   "source": [
    "pd.DataFrame({'bangsarbaru_14':age_group14_dict_bangsarbaru})\\\n",
    ".join(pd.DataFrame({'jlnmaarof_14':age_group14_dict_jlnmaarof}))\\\n",
    ".join(pd.DataFrame({'tmnlucky_14':age_group14_dict_tmnlucky}))"
   ]
  },
  {
   "cell_type": "code",
   "execution_count": 62,
   "metadata": {
    "collapsed": false
   },
   "outputs": [
    {
     "data": {
      "text/html": [
       "<div>\n",
       "<style>\n",
       "    .dataframe thead tr:only-child th {\n",
       "        text-align: right;\n",
       "    }\n",
       "\n",
       "    .dataframe thead th {\n",
       "        text-align: left;\n",
       "    }\n",
       "\n",
       "    .dataframe tbody tr th {\n",
       "        vertical-align: top;\n",
       "    }\n",
       "</style>\n",
       "<table border=\"1\" class=\"dataframe\">\n",
       "  <thead>\n",
       "    <tr style=\"text-align: right;\">\n",
       "      <th></th>\n",
       "      <th>bangsarbaru_13</th>\n",
       "      <th>jlnmaarof_13</th>\n",
       "      <th>tmnlucky_13</th>\n",
       "    </tr>\n",
       "  </thead>\n",
       "  <tbody>\n",
       "    <tr>\n",
       "      <th>(20, 30]</th>\n",
       "      <td>0.085214</td>\n",
       "      <td>0.087034</td>\n",
       "      <td>0.069496</td>\n",
       "    </tr>\n",
       "    <tr>\n",
       "      <th>(30, 40]</th>\n",
       "      <td>0.163093</td>\n",
       "      <td>0.150385</td>\n",
       "      <td>0.142374</td>\n",
       "    </tr>\n",
       "    <tr>\n",
       "      <th>(40, 50]</th>\n",
       "      <td>0.204289</td>\n",
       "      <td>0.187093</td>\n",
       "      <td>0.206335</td>\n",
       "    </tr>\n",
       "    <tr>\n",
       "      <th>(50, 60]</th>\n",
       "      <td>0.212566</td>\n",
       "      <td>0.239491</td>\n",
       "      <td>0.242927</td>\n",
       "    </tr>\n",
       "    <tr>\n",
       "      <th>(60, 70]</th>\n",
       "      <td>0.189240</td>\n",
       "      <td>0.190941</td>\n",
       "      <td>0.192804</td>\n",
       "    </tr>\n",
       "    <tr>\n",
       "      <th>(70, 80]</th>\n",
       "      <td>0.110798</td>\n",
       "      <td>0.095619</td>\n",
       "      <td>0.106396</td>\n",
       "    </tr>\n",
       "    <tr>\n",
       "      <th>(80, 109]</th>\n",
       "      <td>0.034801</td>\n",
       "      <td>0.049438</td>\n",
       "      <td>0.039668</td>\n",
       "    </tr>\n",
       "  </tbody>\n",
       "</table>\n",
       "</div>"
      ],
      "text/plain": [
       "           bangsarbaru_13  jlnmaarof_13  tmnlucky_13\n",
       "(20, 30]         0.085214      0.087034     0.069496\n",
       "(30, 40]         0.163093      0.150385     0.142374\n",
       "(40, 50]         0.204289      0.187093     0.206335\n",
       "(50, 60]         0.212566      0.239491     0.242927\n",
       "(60, 70]         0.189240      0.190941     0.192804\n",
       "(70, 80]         0.110798      0.095619     0.106396\n",
       "(80, 109]        0.034801      0.049438     0.039668"
      ]
     },
     "execution_count": 62,
     "metadata": {},
     "output_type": "execute_result"
    }
   ],
   "source": [
    "pd.DataFrame({'bangsarbaru_13':age_group13_dict_bangsarbaru})\\\n",
    ".join(pd.DataFrame({'jlnmaarof_13':age_group13_dict_jlnmaarof}))\\\n",
    ".join(pd.DataFrame({'tmnlucky_13':age_group13_dict_tmnlucky}))"
   ]
  },
  {
   "cell_type": "code",
   "execution_count": 63,
   "metadata": {
    "collapsed": false
   },
   "outputs": [],
   "source": [
    "dict_score_13_bangsarbaru = {}\n",
    "dict_score_13_bangsarbaru.update({'BN':score_bangsarbaru13['Barisan Nasional '].sum() / bangsarbaru_total_released_votes13})\n",
    "dict_score_13_bangsarbaru.update({'Pakatan':score_bangsarbaru13['Pakatan Rakyat'].sum() / bangsarbaru_total_released_votes13})\n",
    "dict_score_13_bangsarbaru.update({'Bebas':score_bangsarbaru13['Bebas'].sum() / bangsarbaru_total_released_votes13})\n",
    "dict_score_13_bangsarbaru.update({'Rejected':score_bangsarbaru13['Rejected Votes'].sum() / bangsarbaru_total_released_votes13})\n",
    "dict_score_13_bangsarbaru.update({'NotReturned':score_bangsarbaru13['BIL KERTAS UNDI YG TIDAK DIKEMBALIKAN (D)'].sum() / bangsarbaru_total_released_votes13})\n",
    "\n",
    "dict_score_13_jlnmaarof = {}\n",
    "dict_score_13_jlnmaarof.update({'BN':score_jlnmaarof13['Barisan Nasional '].sum() / jlnmaarof_total_released_votes13})\n",
    "dict_score_13_jlnmaarof.update({'Pakatan':score_jlnmaarof13['Pakatan Rakyat'].sum() / jlnmaarof_total_released_votes13})\n",
    "dict_score_13_jlnmaarof.update({'Bebas':score_jlnmaarof13['Bebas'].sum() / jlnmaarof_total_released_votes13})\n",
    "dict_score_13_jlnmaarof.update({'Rejected':score_jlnmaarof13['Rejected Votes'].sum() / jlnmaarof_total_released_votes13})\n",
    "dict_score_13_jlnmaarof.update({'NotReturned':score_jlnmaarof13['BIL KERTAS UNDI YG TIDAK DIKEMBALIKAN (D)'].sum() / jlnmaarof_total_released_votes13})\n",
    "\n",
    "dict_score_13_tmnlucky = {}\n",
    "dict_score_13_tmnlucky.update({'BN':score_tmnlucky13['Barisan Nasional '].sum() / tmnlucky_total_released_votes13})\n",
    "dict_score_13_tmnlucky.update({'Pakatan':score_tmnlucky13['Pakatan Rakyat'].sum() / tmnlucky_total_released_votes13})\n",
    "dict_score_13_tmnlucky.update({'Bebas':score_tmnlucky13['Bebas'].sum() / tmnlucky_total_released_votes13})\n",
    "dict_score_13_tmnlucky.update({'Rejected':score_tmnlucky13['Rejected Votes'].sum() / tmnlucky_total_released_votes13})\n",
    "dict_score_13_tmnlucky.update({'NotReturned':score_tmnlucky13['BIL KERTAS UNDI YG TIDAK DIKEMBALIKAN (D)'].sum() / tmnlucky_total_released_votes13})\n",
    "\n",
    "dict_score_14_bangsarbaru = {}\n",
    "dict_score_14_bangsarbaru.update({'BN':score_bangsarbaru14['Barisan Nasional '].sum() / bangsarbaru_total_released_votes14})\n",
    "dict_score_14_bangsarbaru.update({'Pakatan':score_bangsarbaru14['Pakatan Rakyat'].sum() / bangsarbaru_total_released_votes14})\n",
    "dict_score_14_bangsarbaru.update({'PAS':score_bangsarbaru14['PAS'].sum() / bangsarbaru_total_released_votes14})\n",
    "dict_score_14_bangsarbaru.update({'Rejected':score_bangsarbaru14['Rejected Votes'].sum() / bangsarbaru_total_released_votes14})\n",
    "dict_score_14_bangsarbaru.update({'NotReturned':score_bangsarbaru14['BIL KERTAS UNDI YG TIDAK DIKEMBALIKAN (D)'].sum() / bangsarbaru_total_released_votes14})\n",
    "\n",
    "dict_score_14_jlnmaarof = {}\n",
    "dict_score_14_jlnmaarof.update({'BN':score_jlnmaarof14['Barisan Nasional '].sum() / jlnmaarof_total_released_votes14})\n",
    "dict_score_14_jlnmaarof.update({'Pakatan':score_jlnmaarof14['Pakatan Rakyat'].sum() / jlnmaarof_total_released_votes14})\n",
    "dict_score_14_jlnmaarof.update({'PAS':score_jlnmaarof14['PAS'].sum() / jlnmaarof_total_released_votes14})\n",
    "dict_score_14_jlnmaarof.update({'Rejected':score_jlnmaarof14['Rejected Votes'].sum() / jlnmaarof_total_released_votes14})\n",
    "dict_score_14_jlnmaarof.update({'NotReturned':score_jlnmaarof14['BIL KERTAS UNDI YG TIDAK DIKEMBALIKAN (D)'].sum() / jlnmaarof_total_released_votes14})\n",
    "\n",
    "dict_score_14_tmnlucky = {}\n",
    "dict_score_14_tmnlucky.update({'BN':score_tmnlucky14['Barisan Nasional '].sum() / tmnlucky_total_released_votes14})\n",
    "dict_score_14_tmnlucky.update({'Pakatan':score_tmnlucky14['Pakatan Rakyat'].sum() / tmnlucky_total_released_votes14})\n",
    "dict_score_14_tmnlucky.update({'PAS':score_tmnlucky14['PAS'].sum() / tmnlucky_total_released_votes14})\n",
    "dict_score_14_tmnlucky.update({'Rejected':score_tmnlucky14['Rejected Votes'].sum() / tmnlucky_total_released_votes14})\n",
    "dict_score_14_tmnlucky.update({'NotReturned':score_tmnlucky14['BIL KERTAS UNDI YG TIDAK DIKEMBALIKAN (D)'].sum() / tmnlucky_total_released_votes14})"
   ]
  },
  {
   "cell_type": "code",
   "execution_count": 64,
   "metadata": {
    "collapsed": false
   },
   "outputs": [],
   "source": [
    "df_bb_score = pd.DataFrame({'GE13':dict_score_13_bangsarbaru})\\\n",
    ".join(pd.DataFrame({'GE14':dict_score_14_bangsarbaru}), how='outer')\n",
    "\n",
    "df_jm_score = pd.DataFrame({'GE13':dict_score_13_jlnmaarof})\\\n",
    ".join(pd.DataFrame({'GE14':dict_score_14_jlnmaarof}), how='outer')\n",
    "\n",
    "df_tl_score = pd.DataFrame({'GE13':dict_score_13_tmnlucky})\\\n",
    ".join(pd.DataFrame({'GE14':dict_score_14_tmnlucky}), how='outer')\n",
    "\n",
    "df_bb_score.loc['Bebas','GE14'] = df_bb_score.loc['PAS','GE14']\n",
    "df_jm_score.loc['Bebas','GE14'] = df_jm_score.loc['PAS','GE14']\n",
    "df_tl_score.loc['Bebas','GE14'] = df_tl_score.loc['PAS','GE14']\n",
    "\n",
    "df_bb_score.drop('PAS', inplace=True)\n",
    "df_jm_score.drop('PAS', inplace=True)\n",
    "df_tl_score.drop('PAS', inplace=True)\n",
    "\n",
    "df_bb_score.index = ['BN', 'Bebas->PAS', 'NotReturned', 'Pakatan', 'Rejected']\n",
    "df_jm_score.index = ['BN', 'Bebas->PAS', 'NotReturned', 'Pakatan', 'Rejected']\n",
    "df_tl_score.index = ['BN', 'Bebas->PAS', 'NotReturned', 'Pakatan', 'Rejected']"
   ]
  },
  {
   "cell_type": "code",
   "execution_count": 65,
   "metadata": {
    "collapsed": false
   },
   "outputs": [],
   "source": [
    "df_jm = pd.DataFrame({'GE13':{'BN':score_jlnmaarof13['Barisan Nasional '].sum(),\n",
    "'Pakatan':score_jlnmaarof13['Pakatan Rakyat'].sum(),\n",
    "'Bebas->PAS':score_jlnmaarof13['Bebas'].sum(),\n",
    "'Rejected':score_jlnmaarof13['Rejected Votes'].sum(),\n",
    "'NotReturned':score_jlnmaarof13['BIL KERTAS UNDI YG TIDAK DIKEMBALIKAN (D)'].sum()} ,\n",
    "             'GE14':{'BN':score_jlnmaarof14['Barisan Nasional '].sum(),\n",
    "'Pakatan':score_jlnmaarof14['Pakatan Rakyat'].sum(),\n",
    "'Bebas->PAS':score_jlnmaarof14['PAS'].sum(),\n",
    "'Rejected':score_jlnmaarof14['Rejected Votes'].sum(),\n",
    "'NotReturned':score_jlnmaarof14['BIL KERTAS UNDI YG TIDAK DIKEMBALIKAN (D)'].sum()}})\n",
    "\n",
    "df_tl = pd.DataFrame({'GE13':{'BN':score_tmnlucky13['Barisan Nasional '].sum(),\n",
    "'Pakatan':score_tmnlucky13['Pakatan Rakyat'].sum(),\n",
    "'Bebas->PAS':score_tmnlucky13['Bebas'].sum(),\n",
    "'Rejected':score_tmnlucky13['Rejected Votes'].sum(),\n",
    "'NotReturned':score_tmnlucky13['BIL KERTAS UNDI YG TIDAK DIKEMBALIKAN (D)'].sum()} ,\n",
    "             'GE14':{'BN':score_tmnlucky14['Barisan Nasional '].sum(),\n",
    "'Pakatan':score_tmnlucky14['Pakatan Rakyat'].sum(),\n",
    "'Bebas->PAS':score_tmnlucky14['PAS'].sum(),\n",
    "'Rejected':score_tmnlucky14['Rejected Votes'].sum(),\n",
    "'NotReturned':score_tmnlucky14['BIL KERTAS UNDI YG TIDAK DIKEMBALIKAN (D)'].sum()}})\n",
    "\n",
    "df_bb = pd.DataFrame({'GE13':{'BN':score_bangsarbaru13['Barisan Nasional '].sum(),\n",
    "'Pakatan':score_bangsarbaru13['Pakatan Rakyat'].sum(),\n",
    "'Bebas->PAS':score_bangsarbaru13['Bebas'].sum(),\n",
    "'Rejected':score_bangsarbaru13['Rejected Votes'].sum(),\n",
    "'NotReturned':score_bangsarbaru13['BIL KERTAS UNDI YG TIDAK DIKEMBALIKAN (D)'].sum()} ,\n",
    "             'GE14':{'BN':score_bangsarbaru14['Barisan Nasional '].sum(),\n",
    "'Pakatan':score_bangsarbaru14['Pakatan Rakyat'].sum(),\n",
    "'Bebas->PAS':score_bangsarbaru14['PAS'].sum(),\n",
    "'Rejected':score_bangsarbaru14['Rejected Votes'].sum(),\n",
    "'NotReturned':score_bangsarbaru14['BIL KERTAS UNDI YG TIDAK DIKEMBALIKAN (D)'].sum()}})"
   ]
  },
  {
   "cell_type": "code",
   "execution_count": 66,
   "metadata": {
    "collapsed": false
   },
   "outputs": [
    {
     "data": {
      "text/html": [
       "<div>\n",
       "<style>\n",
       "    .dataframe thead tr:only-child th {\n",
       "        text-align: right;\n",
       "    }\n",
       "\n",
       "    .dataframe thead th {\n",
       "        text-align: left;\n",
       "    }\n",
       "\n",
       "    .dataframe tbody tr th {\n",
       "        vertical-align: top;\n",
       "    }\n",
       "</style>\n",
       "<table border=\"1\" class=\"dataframe\">\n",
       "  <thead>\n",
       "    <tr style=\"text-align: right;\">\n",
       "      <th></th>\n",
       "      <th>VotersNum</th>\n",
       "      <th>JUM TIDAK KELUAR MENGUNDI</th>\n",
       "      <th>VotesByElectors</th>\n",
       "      <th>Rejected Votes</th>\n",
       "      <th>BIL KERTAS UNDI YG TIDAK DIKEMBALIKAN (D)</th>\n",
       "      <th>Bebas</th>\n",
       "      <th>Barisan Nasional</th>\n",
       "      <th>Pakatan Rakyat</th>\n",
       "    </tr>\n",
       "  </thead>\n",
       "  <tbody>\n",
       "    <tr>\n",
       "      <th>35</th>\n",
       "      <td>NaN</td>\n",
       "      <td>NaN</td>\n",
       "      <td>214</td>\n",
       "      <td>2</td>\n",
       "      <td>0</td>\n",
       "      <td>0.0</td>\n",
       "      <td>80</td>\n",
       "      <td>134</td>\n",
       "    </tr>\n",
       "    <tr>\n",
       "      <th>36</th>\n",
       "      <td>NaN</td>\n",
       "      <td>NaN</td>\n",
       "      <td>526</td>\n",
       "      <td>7</td>\n",
       "      <td>0</td>\n",
       "      <td>1.0</td>\n",
       "      <td>188</td>\n",
       "      <td>337</td>\n",
       "    </tr>\n",
       "    <tr>\n",
       "      <th>37</th>\n",
       "      <td>NaN</td>\n",
       "      <td>NaN</td>\n",
       "      <td>539</td>\n",
       "      <td>5</td>\n",
       "      <td>0</td>\n",
       "      <td>0.0</td>\n",
       "      <td>217</td>\n",
       "      <td>322</td>\n",
       "    </tr>\n",
       "    <tr>\n",
       "      <th>38</th>\n",
       "      <td>NaN</td>\n",
       "      <td>NaN</td>\n",
       "      <td>569</td>\n",
       "      <td>5</td>\n",
       "      <td>0</td>\n",
       "      <td>0.0</td>\n",
       "      <td>243</td>\n",
       "      <td>326</td>\n",
       "    </tr>\n",
       "    <tr>\n",
       "      <th>39</th>\n",
       "      <td>NaN</td>\n",
       "      <td>NaN</td>\n",
       "      <td>572</td>\n",
       "      <td>4</td>\n",
       "      <td>0</td>\n",
       "      <td>0.0</td>\n",
       "      <td>271</td>\n",
       "      <td>301</td>\n",
       "    </tr>\n",
       "    <tr>\n",
       "      <th>40</th>\n",
       "      <td>NaN</td>\n",
       "      <td>NaN</td>\n",
       "      <td>583</td>\n",
       "      <td>6</td>\n",
       "      <td>0</td>\n",
       "      <td>0.0</td>\n",
       "      <td>278</td>\n",
       "      <td>305</td>\n",
       "    </tr>\n",
       "    <tr>\n",
       "      <th>41</th>\n",
       "      <td>NaN</td>\n",
       "      <td>NaN</td>\n",
       "      <td>564</td>\n",
       "      <td>6</td>\n",
       "      <td>0</td>\n",
       "      <td>1.0</td>\n",
       "      <td>284</td>\n",
       "      <td>279</td>\n",
       "    </tr>\n",
       "    <tr>\n",
       "      <th>42</th>\n",
       "      <td>NaN</td>\n",
       "      <td>NaN</td>\n",
       "      <td>543</td>\n",
       "      <td>2</td>\n",
       "      <td>0</td>\n",
       "      <td>1.0</td>\n",
       "      <td>226</td>\n",
       "      <td>316</td>\n",
       "    </tr>\n",
       "    <tr>\n",
       "      <th>43</th>\n",
       "      <td>NaN</td>\n",
       "      <td>NaN</td>\n",
       "      <td>534</td>\n",
       "      <td>21</td>\n",
       "      <td>0</td>\n",
       "      <td>1.0</td>\n",
       "      <td>246</td>\n",
       "      <td>287</td>\n",
       "    </tr>\n",
       "  </tbody>\n",
       "</table>\n",
       "</div>"
      ],
      "text/plain": [
       "    VotersNum  JUM TIDAK KELUAR MENGUNDI  VotesByElectors  Rejected Votes  \\\n",
       "35        NaN                        NaN              214               2   \n",
       "36        NaN                        NaN              526               7   \n",
       "37        NaN                        NaN              539               5   \n",
       "38        NaN                        NaN              569               5   \n",
       "39        NaN                        NaN              572               4   \n",
       "40        NaN                        NaN              583               6   \n",
       "41        NaN                        NaN              564               6   \n",
       "42        NaN                        NaN              543               2   \n",
       "43        NaN                        NaN              534              21   \n",
       "\n",
       "    BIL KERTAS UNDI YG TIDAK DIKEMBALIKAN (D)  Bebas  Barisan Nasional   \\\n",
       "35                                          0    0.0                 80   \n",
       "36                                          0    1.0                188   \n",
       "37                                          0    0.0                217   \n",
       "38                                          0    0.0                243   \n",
       "39                                          0    0.0                271   \n",
       "40                                          0    0.0                278   \n",
       "41                                          0    1.0                284   \n",
       "42                                          0    1.0                226   \n",
       "43                                          0    1.0                246   \n",
       "\n",
       "    Pakatan Rakyat  \n",
       "35             134  \n",
       "36             337  \n",
       "37             322  \n",
       "38             326  \n",
       "39             301  \n",
       "40             305  \n",
       "41             279  \n",
       "42             316  \n",
       "43             287  "
      ]
     },
     "execution_count": 66,
     "metadata": {},
     "output_type": "execute_result"
    }
   ],
   "source": [
    "score_tmnlucky13[['VotersNum','JUM TIDAK KELUAR MENGUNDI','VotesByElectors','Rejected Votes','BIL KERTAS UNDI YG TIDAK DIKEMBALIKAN (D)','Bebas','Barisan Nasional ','Pakatan Rakyat']]"
   ]
  },
  {
   "cell_type": "code",
   "execution_count": 67,
   "metadata": {
    "collapsed": false
   },
   "outputs": [
    {
     "data": {
      "text/plain": [
       "0.2151307596513076"
      ]
     },
     "execution_count": 67,
     "metadata": {},
     "output_type": "execute_result"
    }
   ],
   "source": [
    "score_tmnlucky14['JUM TIDAK KELUAR MENGUNDI'].sum() / score_tmnlucky14['VotersNum'].sum()"
   ]
  },
  {
   "cell_type": "code",
   "execution_count": 68,
   "metadata": {
    "collapsed": false
   },
   "outputs": [
    {
     "data": {
      "text/html": [
       "<div>\n",
       "<style>\n",
       "    .dataframe thead tr:only-child th {\n",
       "        text-align: right;\n",
       "    }\n",
       "\n",
       "    .dataframe thead th {\n",
       "        text-align: left;\n",
       "    }\n",
       "\n",
       "    .dataframe tbody tr th {\n",
       "        vertical-align: top;\n",
       "    }\n",
       "</style>\n",
       "<table border=\"1\" class=\"dataframe\">\n",
       "  <thead>\n",
       "    <tr style=\"text-align: right;\">\n",
       "      <th></th>\n",
       "      <th>VotersNum</th>\n",
       "      <th>JUM TIDAK KELUAR MENGUNDI</th>\n",
       "      <th>VotesByElectors</th>\n",
       "      <th>Rejected Votes</th>\n",
       "      <th>BIL KERTAS UNDI YG TIDAK DIKEMBALIKAN (D)</th>\n",
       "      <th>PAS</th>\n",
       "      <th>Barisan Nasional</th>\n",
       "      <th>Pakatan Rakyat</th>\n",
       "    </tr>\n",
       "  </thead>\n",
       "  <tbody>\n",
       "    <tr>\n",
       "      <th>9</th>\n",
       "      <td>350.0</td>\n",
       "      <td>117.0</td>\n",
       "      <td>233</td>\n",
       "      <td>0</td>\n",
       "      <td>0</td>\n",
       "      <td>7.0</td>\n",
       "      <td>40</td>\n",
       "      <td>186</td>\n",
       "    </tr>\n",
       "    <tr>\n",
       "      <th>10</th>\n",
       "      <td>572.0</td>\n",
       "      <td>127.0</td>\n",
       "      <td>445</td>\n",
       "      <td>2</td>\n",
       "      <td>0</td>\n",
       "      <td>13.0</td>\n",
       "      <td>93</td>\n",
       "      <td>337</td>\n",
       "    </tr>\n",
       "    <tr>\n",
       "      <th>11</th>\n",
       "      <td>572.0</td>\n",
       "      <td>122.0</td>\n",
       "      <td>450</td>\n",
       "      <td>1</td>\n",
       "      <td>0</td>\n",
       "      <td>10.0</td>\n",
       "      <td>74</td>\n",
       "      <td>365</td>\n",
       "    </tr>\n",
       "    <tr>\n",
       "      <th>12</th>\n",
       "      <td>572.0</td>\n",
       "      <td>125.0</td>\n",
       "      <td>447</td>\n",
       "      <td>1</td>\n",
       "      <td>0</td>\n",
       "      <td>11.0</td>\n",
       "      <td>45</td>\n",
       "      <td>390</td>\n",
       "    </tr>\n",
       "    <tr>\n",
       "      <th>13</th>\n",
       "      <td>572.0</td>\n",
       "      <td>105.0</td>\n",
       "      <td>467</td>\n",
       "      <td>1</td>\n",
       "      <td>2</td>\n",
       "      <td>17.0</td>\n",
       "      <td>52</td>\n",
       "      <td>395</td>\n",
       "    </tr>\n",
       "    <tr>\n",
       "      <th>14</th>\n",
       "      <td>574.0</td>\n",
       "      <td>95.0</td>\n",
       "      <td>479</td>\n",
       "      <td>2</td>\n",
       "      <td>1</td>\n",
       "      <td>19.0</td>\n",
       "      <td>70</td>\n",
       "      <td>387</td>\n",
       "    </tr>\n",
       "  </tbody>\n",
       "</table>\n",
       "</div>"
      ],
      "text/plain": [
       "    VotersNum  JUM TIDAK KELUAR MENGUNDI  VotesByElectors  Rejected Votes  \\\n",
       "9       350.0                      117.0              233               0   \n",
       "10      572.0                      127.0              445               2   \n",
       "11      572.0                      122.0              450               1   \n",
       "12      572.0                      125.0              447               1   \n",
       "13      572.0                      105.0              467               1   \n",
       "14      574.0                       95.0              479               2   \n",
       "\n",
       "    BIL KERTAS UNDI YG TIDAK DIKEMBALIKAN (D)   PAS  Barisan Nasional   \\\n",
       "9                                           0   7.0                 40   \n",
       "10                                          0  13.0                 93   \n",
       "11                                          0  10.0                 74   \n",
       "12                                          0  11.0                 45   \n",
       "13                                          2  17.0                 52   \n",
       "14                                          1  19.0                 70   \n",
       "\n",
       "    Pakatan Rakyat  \n",
       "9              186  \n",
       "10             337  \n",
       "11             365  \n",
       "12             390  \n",
       "13             395  \n",
       "14             387  "
      ]
     },
     "execution_count": 68,
     "metadata": {},
     "output_type": "execute_result"
    }
   ],
   "source": [
    "score_tmnlucky14[['VotersNum','JUM TIDAK KELUAR MENGUNDI','VotesByElectors','Rejected Votes','BIL KERTAS UNDI YG TIDAK DIKEMBALIKAN (D)','PAS','Barisan Nasional ','Pakatan Rakyat']]"
   ]
  },
  {
   "cell_type": "code",
   "execution_count": 69,
   "metadata": {
    "collapsed": false
   },
   "outputs": [
    {
     "name": "stdout",
     "output_type": "stream",
     "text": [
      "4702\n",
      "2531\n"
     ]
    }
   ],
   "source": [
    "print(tmnlucky_total_released_votes13)\n",
    "print(tmnlucky_total_released_votes14)"
   ]
  },
  {
   "cell_type": "code",
   "execution_count": 70,
   "metadata": {
    "collapsed": false
   },
   "outputs": [
    {
     "name": "stdout",
     "output_type": "stream",
     "text": [
      "2664\n",
      "2731\n"
     ]
    }
   ],
   "source": [
    "print(jlnmaarof_total_released_votes13)\n",
    "print(jlnmaarof_total_released_votes14)"
   ]
  },
  {
   "cell_type": "code",
   "execution_count": 71,
   "metadata": {
    "collapsed": false
   },
   "outputs": [
    {
     "name": "stdout",
     "output_type": "stream",
     "text": [
      "4138\n",
      "4399\n"
     ]
    }
   ],
   "source": [
    "print(bangsarbaru_total_released_votes13)\n",
    "print(bangsarbaru_total_released_votes14)"
   ]
  },
  {
   "cell_type": "code",
   "execution_count": 72,
   "metadata": {
    "collapsed": false,
    "scrolled": false
   },
   "outputs": [
    {
     "data": {
      "image/png": "[encoded data removed]",
      "text/plain": [
       "<matplotlib.figure.Figure at 0x111873780>"
      ]
     },
     "metadata": {},
     "output_type": "display_data"
    }
   ],
   "source": [
    "f, ax = plt.subplots(1,3, figsize=(12,3))\n",
    "\n",
    "p1 = df_bb.plot.bar(ax=ax[0])\n",
    "p2 = df_jm.plot.bar(ax=ax[1], sharey = p1)\n",
    "p3 = df_tl.plot.bar(ax=ax[2], sharey = p1)\n",
    "\n",
    "plt.subplots_adjust(wspace = 0.02)\n",
    "\n",
    "p1.set_title('Bangsar Baru (Vote count)')\n",
    "p2.set_title('Jalan Maarof (Vote count)')\n",
    "p3.set_title('Taman Lucky (Vote count)')\n",
    "\n",
    "p1.set_ylim(0,max(roll_bangsar14['NamaDM'].value_counts()) )\n",
    "p2.set_ylim(0,max(roll_bangsar14['NamaDM'].value_counts()) )\n",
    "p3.set_ylim(0,max(roll_bangsar14['NamaDM'].value_counts()) )\n",
    "\n",
    "p1.legend().remove()\n",
    "p2.legend().remove()\n",
    "p3.legend().remove()\n",
    "\n",
    "for patch in p1.patches:\n",
    "    try:\n",
    "        if patch.get_height()>0:\n",
    "            p1.annotate(' %.0f' % patch.get_height(), xy=( patch.get_x() + patch.get_width()/2 ,patch.get_height()+ 100), ha='center',fontsize=9)\n",
    "    except:\n",
    "        pass\n",
    "    \n",
    "for patch in p2.patches:\n",
    "    try:\n",
    "        if patch.get_height()>0:\n",
    "            p2.annotate(' %.0f' % patch.get_height(), xy=( patch.get_x() + patch.get_width()/2 ,patch.get_height()+100), ha='center',fontsize=9)\n",
    "    except:\n",
    "        pass\n",
    "    \n",
    "for patch in p3.patches:\n",
    "    try:\n",
    "        if patch.get_height()>0:\n",
    "            p3.annotate(' %.0f' % patch.get_height(), xy=( patch.get_x() + patch.get_width()/2 ,patch.get_height()+100), ha='center',fontsize=9)\n",
    "    except:\n",
    "        pass\n",
    "    \n",
    "handles, labels = p1.get_legend_handles_labels()\n",
    "plt.figlegend(handles,labels ,loc = 'lower center', ncol=2, bbox_to_anchor=[0.5, 0.])\n",
    "\n",
    "plt.tight_layout()"
   ]
  },
  {
   "cell_type": "code",
   "execution_count": 73,
   "metadata": {
    "collapsed": false
   },
   "outputs": [
    {
     "data": {
      "image/png": "[encoded data removed]",
      "text/plain": [
       "<matplotlib.figure.Figure at 0x112929ba8>"
      ]
     },
     "metadata": {},
     "output_type": "display_data"
    }
   ],
   "source": [
    "f, ax = plt.subplots(1,3, figsize=(12,3))\n",
    "\n",
    "p1 = df_bb_score.plot.bar(ax=ax[0])\n",
    "p2 = df_jm_score.plot.bar(ax=ax[1], sharey = p1)\n",
    "p3 = df_tl_score.plot.bar(ax=ax[2], sharey = p1)\n",
    "\n",
    "plt.subplots_adjust(wspace = 0.02)\n",
    "\n",
    "p1.set_title('Bangsar Baru (Vote count/ voters)')\n",
    "p2.set_title('Jalan Maarof (Vote count/ voters)')\n",
    "p3.set_title('Taman Lucky (Vote count/ voters)')\n",
    "\n",
    "p1.set_ylim(0,1)\n",
    "p2.set_ylim(0,1)\n",
    "p3.set_ylim(0,1)\n",
    "\n",
    "p1.legend().remove()\n",
    "p2.legend().remove()\n",
    "p3.legend().remove()\n",
    "\n",
    "for patch in p1.patches:\n",
    "    try:\n",
    "        if patch.get_height()>0:\n",
    "            p1.annotate(' %.2f' % patch.get_height(), xy=( patch.get_x() + patch.get_width()/2 ,patch.get_height()+0.01), ha='center',fontsize=8)\n",
    "    except:\n",
    "        pass\n",
    "    \n",
    "for patch in p2.patches:\n",
    "    try:\n",
    "        if patch.get_height()>0:\n",
    "            p2.annotate(' %.2f' % patch.get_height(), xy=( patch.get_x() + patch.get_width()/2 ,patch.get_height()+0.01), ha='center',fontsize=8)\n",
    "    except:\n",
    "        pass\n",
    "    \n",
    "for patch in p3.patches:\n",
    "    try:\n",
    "        if patch.get_height()>0:\n",
    "            p3.annotate(' %.2f' % patch.get_height(), xy=( patch.get_x() + patch.get_width()/2 ,patch.get_height()+0.01), ha='center',fontsize=8)\n",
    "    except:\n",
    "        pass\n",
    "    \n",
    "handles, labels = p1.get_legend_handles_labels()\n",
    "plt.figlegend(handles,labels ,loc = 'lower center', ncol=2, bbox_to_anchor=[0.5, 0.])\n",
    "\n",
    "plt.tight_layout()"
   ]
  },
  {
   "cell_type": "code",
   "execution_count": 74,
   "metadata": {
    "collapsed": false
   },
   "outputs": [
    {
     "data": {
      "text/plain": [
       "<matplotlib.text.Text at 0x111910358>"
      ]
     },
     "execution_count": 74,
     "metadata": {},
     "output_type": "execute_result"
    },
    {
     "data": {
      "image/png": "[encoded data removed]",
      "text/plain": [
       "<matplotlib.figure.Figure at 0x11244c240>"
      ]
     },
     "metadata": {},
     "output_type": "display_data"
    }
   ],
   "source": [
    "f,ax = plt.subplots(1,2, figsize=(12,5))\n",
    "\n",
    "\n",
    "p1 = pd.DataFrame({'score_bangsarbaru_13':dict_score_13_bangsarbaru})\\\n",
    ".join(pd.DataFrame({'score_jlnmaarof_13':dict_score_13_jlnmaarof}))\\\n",
    ".join(pd.DataFrame({'score_tmnlucky_13':dict_score_13_tmnlucky})).plot.bar(ax=ax[0])\n",
    "\n",
    "for p in p1.patches:\n",
    "    try:\n",
    "        if p.get_height()>0:\n",
    "            p1.annotate(' %.1f%%' % p.get_height(), xy=( p.get_x() + p.get_width() / 2.,p.get_height()+0.02), ha='center',fontsize=8)\n",
    "    except:\n",
    "        pass\n",
    "\n",
    "\n",
    "p2 = pd.DataFrame({'score_bangsarbaru_14':dict_score_14_bangsarbaru})\\\n",
    ".join(pd.DataFrame({'score_jlnmaarof_14':dict_score_14_jlnmaarof}))\\\n",
    ".join(pd.DataFrame({'score_tmnlucky_14':dict_score_14_tmnlucky})).plot.bar(ax=ax[1])\n",
    "\n",
    "for p in p2.patches:\n",
    "    try:\n",
    "        if p.get_height()>0:\n",
    "            p2.annotate(' %.2f%%' % p.get_height(), xy=( p.get_x() + p.get_width()/2 ,p.get_height()+0.02), ha='center',fontsize=8)\n",
    "    except:\n",
    "        pass\n",
    "\n",
    "p1.set_ylim(0,1)\n",
    "p2.set_ylim(0,1)\n",
    "\n",
    "p1.set_title('GE13')\n",
    "p2.set_title('GE14')"
   ]
  },
  {
   "cell_type": "markdown",
   "metadata": {},
   "source": [
    "The graphs above show that votes for Pakatan Rakyat go up in Bangsar. <br>\n",
    "There is a very obvious spike in favour of Pakatan in Taman Lucky. <br>\n",
    "Votes for BN decrease drastically, especially in Taman Lucky, losing ~50% of their votes in GE13."
   ]
  },
  {
   "cell_type": "code",
   "execution_count": 75,
   "metadata": {
    "collapsed": false
   },
   "outputs": [],
   "source": [
    "BN13 = {'bangsarbaru':dict_score_13_bangsarbaru['BN'], 'jlnmaarof':dict_score_13_jlnmaarof['BN'], 'tmnlucky':dict_score_13_tmnlucky['BN']}\n",
    "BN14 = {'bangsarbaru':dict_score_14_bangsarbaru['BN'], 'jlnmaarof':dict_score_14_jlnmaarof['BN'], 'tmnlucky':dict_score_14_tmnlucky['BN']}\n",
    "\n",
    "PR13 = {'bangsarbaru':dict_score_13_bangsarbaru['Pakatan'], 'jlnmaarof':dict_score_13_jlnmaarof['Pakatan'], 'tmnlucky':dict_score_13_tmnlucky['Pakatan']}\n",
    "PR14 = {'bangsarbaru':dict_score_14_bangsarbaru['Pakatan'], 'jlnmaarof':dict_score_14_jlnmaarof['Pakatan'], 'tmnlucky':dict_score_14_tmnlucky['Pakatan']}\n",
    "\n",
    "PAS_BEBAS13 = {'bangsarbaru':dict_score_13_bangsarbaru['Bebas'], 'jlnmaarof':dict_score_13_jlnmaarof['Bebas'], 'tmnlucky':dict_score_13_tmnlucky['Bebas']}\n",
    "PAS_BEBAS14 = {'bangsarbaru':dict_score_14_bangsarbaru['PAS'], 'jlnmaarof':dict_score_14_jlnmaarof['PAS'], 'tmnlucky':dict_score_14_tmnlucky['PAS']}\n",
    "\n",
    "REJ13 = {'bangsarbaru':dict_score_13_bangsarbaru['Rejected'], 'jlnmaarof':dict_score_13_jlnmaarof['Rejected'], 'tmnlucky':dict_score_13_tmnlucky['Rejected']}\n",
    "REJ14 = {'bangsarbaru':dict_score_14_bangsarbaru['Rejected'], 'jlnmaarof':dict_score_14_jlnmaarof['Rejected'], 'tmnlucky':dict_score_14_tmnlucky['Rejected']}\n",
    "\n",
    "NR13 = {'bangsarbaru':dict_score_13_bangsarbaru['NotReturned'], 'jlnmaarof':dict_score_13_jlnmaarof['NotReturned'], 'tmnlucky':dict_score_13_tmnlucky['NotReturned']}\n",
    "NR14 = {'bangsarbaru':dict_score_13_bangsarbaru['NotReturned'], 'jlnmaarof':dict_score_13_jlnmaarof['NotReturned'], 'tmnlucky':dict_score_13_tmnlucky['NotReturned']}"
   ]
  },
  {
   "cell_type": "markdown",
   "metadata": {},
   "source": [
    "age"
   ]
  },
  {
   "cell_type": "code",
   "execution_count": 76,
   "metadata": {
    "collapsed": false
   },
   "outputs": [
    {
     "name": "stderr",
     "output_type": "stream",
     "text": [
      "/Users/kenghooi/anaconda2/envs/nltk3/lib/python3.5/site-packages/ipykernel/__main__.py:2: SettingWithCopyWarning: \n",
      "A value is trying to be set on a copy of a slice from a DataFrame.\n",
      "Try using .loc[row_indexer,col_indexer] = value instead\n",
      "\n",
      "See the caveats in the documentation: http://pandas.pydata.org/pandas-docs/stable/indexing.html#indexing-view-versus-copy\n",
      "  from ipykernel import kernelapp as app\n",
      "/Users/kenghooi/anaconda2/envs/nltk3/lib/python3.5/site-packages/ipykernel/__main__.py:5: SettingWithCopyWarning: \n",
      "A value is trying to be set on a copy of a slice from a DataFrame.\n",
      "Try using .loc[row_indexer,col_indexer] = value instead\n",
      "\n",
      "See the caveats in the documentation: http://pandas.pydata.org/pandas-docs/stable/indexing.html#indexing-view-versus-copy\n"
     ]
    }
   ],
   "source": [
    "b1 = roll_bangsar13[['Umur','NamaDM']]\n",
    "b1['GE'] = 'GE13'\n",
    "\n",
    "b2=roll_bangsar14[['Age','NamaDM']]\n",
    "b2['GE'] = 'GE14'\n",
    "b2.columns = ['Umur','NamaDM','GE']\n",
    "\n",
    "bp_data = b1.append(b2)\n",
    "bp_data['Umur2'] = bp_data['Umur'] + 30"
   ]
  },
  {
   "cell_type": "code",
   "execution_count": 77,
   "metadata": {
    "collapsed": false,
    "scrolled": false
   },
   "outputs": [
    {
     "data": {
      "image/png": "[encoded data removed]",
      "text/plain": [
       "<matplotlib.figure.Figure at 0x112811f98>"
      ]
     },
     "metadata": {},
     "output_type": "display_data"
    }
   ],
   "source": [
    "f,ax = plt.subplots(3,2,figsize=(10,12))\n",
    "p_bn = pd.DataFrame({'GE13':BN13,'GE14':BN14}).plot.bar(ax=ax[0][1])\n",
    "p_pr = pd.DataFrame({'GE13':PR13,'GE14':PR14}).plot.bar(ax=ax[1][0])\n",
    "p_pas_bebas = pd.DataFrame({'GE13':PAS_BEBAS13,'GE14':PAS_BEBAS14}).plot.bar(ax=ax[1][1])\n",
    "p_rej = pd.DataFrame({'GE13':REJ13,'GE14':REJ14}).plot.bar(ax=ax[2][0])\n",
    "p_nr = pd.DataFrame({'GE13':NR13,'GE14':NR14}).plot.bar(ax=ax[2][1])\n",
    "\n",
    "p_bn.set_ylim(0,1)\n",
    "p_pr.set_ylim(0,1)\n",
    "p_pas_bebas.set_ylim(0,1)\n",
    "p_rej.set_ylim(0,1)\n",
    "p_nr.set_ylim(0,1)\n",
    "\n",
    "# p_bn2 = p_bn.twinx()\n",
    "# p_pr2 = p_pr.twinx()\n",
    "\n",
    "# boxplot\n",
    "sns.boxplot(x='NamaDM',y='Umur',hue='GE',data=bp_data,ax=ax[0][0],width=0.4, boxprops=dict(alpha=1))\n",
    "ax[0][0].legend().remove()\n",
    "# p_bn2.set_ylim(0,180)\n",
    "\n",
    "ax[0][0].set_title(\"Voters' age\")\n",
    "p_bn.set_title('Votes gained by BN')\n",
    "p_pr.set_title('Votes gained by Pakatan')\n",
    "p_pas_bebas.set_title('Votes gained by PAS(GE14) / Bebas(GE13)')\n",
    "p_rej.set_title('Rejected votes')\n",
    "p_nr.set_title('Votes not returned')\n",
    "\n",
    "plt.tight_layout()"
   ]
  },
  {
   "cell_type": "code",
   "execution_count": 78,
   "metadata": {
    "collapsed": false
   },
   "outputs": [
    {
     "name": "stdout",
     "output_type": "stream",
     "text": [
      "2033 947 708\n"
     ]
    }
   ],
   "source": [
    "print(score_tmnlucky13['Barisan Nasional '].sum(),\n",
    "score_bangsarbaru13['Barisan Nasional '].sum(),\n",
    "score_jlnmaarof13['Barisan Nasional '].sum())"
   ]
  },
  {
   "cell_type": "markdown",
   "metadata": {},
   "source": [
    "___"
   ]
  },
  {
   "cell_type": "markdown",
   "metadata": {},
   "source": [
    "### South Lembah Pantai"
   ]
  },
  {
   "cell_type": "code",
   "execution_count": 79,
   "metadata": {
    "collapsed": false
   },
   "outputs": [
    {
     "data": {
      "text/plain": [
       "('TAMAN SRI SENTOSA UTARA', 'TAMAN SRI SENTOSA SELATAN')"
      ]
     },
     "execution_count": 79,
     "metadata": {},
     "output_type": "execute_result"
    }
   ],
   "source": [
    "'TAMAN BUKIT ANGKASA','PANTAI HILL PARK'\n",
    "'TAMAN SRI SENTOSA UTARA', 'TAMAN SRI SENTOSA SELATAN'"
   ]
  },
  {
   "cell_type": "code",
   "execution_count": null,
   "metadata": {
    "collapsed": true
   },
   "outputs": [],
   "source": []
  },
  {
   "cell_type": "code",
   "execution_count": null,
   "metadata": {
    "collapsed": true
   },
   "outputs": [],
   "source": []
  },
  {
   "cell_type": "code",
   "execution_count": null,
   "metadata": {
    "collapsed": true
   },
   "outputs": [],
   "source": []
  },
  {
   "cell_type": "code",
   "execution_count": null,
   "metadata": {
    "collapsed": true
   },
   "outputs": [],
   "source": []
  },
  {
   "cell_type": "code",
   "execution_count": null,
   "metadata": {
    "collapsed": true
   },
   "outputs": [],
   "source": []
  },
  {
   "cell_type": "code",
   "execution_count": null,
   "metadata": {
    "collapsed": true
   },
   "outputs": [],
   "source": []
  },
  {
   "cell_type": "code",
   "execution_count": null,
   "metadata": {
    "collapsed": true
   },
   "outputs": [],
   "source": []
  },
  {
   "cell_type": "markdown",
   "metadata": {
    "heading_collapsed": true
   },
   "source": [
    "# Linear regression"
   ]
  },
  {
   "cell_type": "code",
   "execution_count": null,
   "metadata": {
    "collapsed": false,
    "hidden": true
   },
   "outputs": [],
   "source": [
    "# GE13\n",
    "dat13 = pd.DataFrame({'bb':age_group13_dict_bangsarbaru}).T\n",
    "dat13 = dat13.append(pd.DataFrame({'jm':age_group13_dict_jlnmaarof}).T)\n",
    "dat13 = dat13.append(pd.DataFrame({'tl':age_group13_dict_tmnlucky}).T)\n",
    "dat13.columns=['20_30','30_40','40_50','50_60','60_70','70_80','>80']\n",
    "dat13.loc['bb','BN_vote'] = BN13['bangsarbaru']\n",
    "dat13.loc['jm','BN_vote'] = BN13['jlnmaarof']\n",
    "dat13.loc['tl','BN_vote'] = BN13['tmnlucky']"
   ]
  },
  {
   "cell_type": "code",
   "execution_count": null,
   "metadata": {
    "collapsed": true,
    "hidden": true
   },
   "outputs": [],
   "source": [
    "# GE14\n",
    "dat14 = pd.DataFrame({'bb':age_group14_dict_bangsarbaru}).T\n",
    "dat14 = dat14.append(pd.DataFrame({'jm':age_group13_dict_jlnmaarof}).T)\n",
    "dat14 = dat14.append(pd.DataFrame({'tl':age_group13_dict_tmnlucky}).T)\n",
    "dat14.columns=['20_30','30_40','40_50','50_60','60_70','70_80','>80']\n",
    "dat14.loc['bb','BN_vote'] = BN14['bangsarbaru']\n",
    "dat14.loc['jm','BN_vote'] = BN14['jlnmaarof']\n",
    "dat14.loc['tl','BN_vote'] = BN14['tmnlucky']"
   ]
  },
  {
   "cell_type": "code",
   "execution_count": null,
   "metadata": {
    "collapsed": false,
    "hidden": true
   },
   "outputs": [],
   "source": [
    "from sklearn.linear_model import LinearRegression\n",
    "lm = LinearRegression()\n",
    "import statsmodels.api as sm\n",
    "\n",
    "from scipy import stats\n"
   ]
  },
  {
   "cell_type": "code",
   "execution_count": null,
   "metadata": {
    "collapsed": false,
    "hidden": true
   },
   "outputs": [],
   "source": [
    "stats.ttest_rel(dat13['BN_vote'],dat14['BN_vote'])"
   ]
  },
  {
   "cell_type": "code",
   "execution_count": null,
   "metadata": {
    "collapsed": true,
    "hidden": true
   },
   "outputs": [],
   "source": [
    "stats.ttest_rel??"
   ]
  },
  {
   "cell_type": "code",
   "execution_count": null,
   "metadata": {
    "collapsed": true,
    "hidden": true
   },
   "outputs": [],
   "source": []
  },
  {
   "cell_type": "code",
   "execution_count": null,
   "metadata": {
    "collapsed": true,
    "hidden": true
   },
   "outputs": [],
   "source": []
  },
  {
   "cell_type": "code",
   "execution_count": null,
   "metadata": {
    "collapsed": false,
    "hidden": true
   },
   "outputs": [],
   "source": [
    "# X = dat13[['20_30','30_40','40_50','50_60','60_70','70_80','>80']]\n",
    "# y = dat13['BN_vote']"
   ]
  },
  {
   "cell_type": "code",
   "execution_count": null,
   "metadata": {
    "collapsed": false,
    "hidden": true
   },
   "outputs": [],
   "source": [
    "# lm.fit(X, y)\n",
    "\n",
    "# print(lm.intercept_)\n",
    "# print(lm.coef_)"
   ]
  },
  {
   "cell_type": "code",
   "execution_count": null,
   "metadata": {
    "collapsed": false,
    "hidden": true
   },
   "outputs": [],
   "source": [
    "# X2 = sm.add_constant(X)\n",
    "# est = sm.OLS(y, X2)\n",
    "# est2 = est.fit()\n",
    "# print(est2.summary())"
   ]
  },
  {
   "cell_type": "code",
   "execution_count": null,
   "metadata": {
    "collapsed": true,
    "hidden": true
   },
   "outputs": [],
   "source": []
  }
 ],
 "metadata": {
  "kernelspec": {
   "display_name": "Python 3",
   "language": "python",
   "name": "python3"
  },
  "language_info": {
   "codemirror_mode": {
    "name": "ipython",
    "version": 3
   },
   "file_extension": ".py",
   "mimetype": "text/x-python",
   "name": "python",
   "nbconvert_exporter": "python",
   "pygments_lexer": "ipython3",
   "version": "3.5.2"
  },
  "varInspector": {
   "cols": {
    "lenName": 16,
    "lenType": 16,
    "lenVar": 40
   },
   "kernels_config": {
    "python": {
     "delete_cmd_postfix": "",
     "delete_cmd_prefix": "del ",
     "library": "var_list.py",
     "varRefreshCmd": "print(var_dic_list())"
    },
    "r": {
     "delete_cmd_postfix": ") ",
     "delete_cmd_prefix": "rm(",
     "library": "var_list.r",
     "varRefreshCmd": "cat(var_dic_list()) "
    }
   },
   "types_to_exclude": [
    "module",
    "function",
    "builtin_function_or_method",
    "instance",
    "_Feature"
   ],
   "window_display": false
  }
 },
 "nbformat": 4,
 "nbformat_minor": 2
}
