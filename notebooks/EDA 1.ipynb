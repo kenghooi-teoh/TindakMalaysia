{
 "cells": [
  {
   "cell_type": "markdown",
   "metadata": {},
   "source": [
    "<font size=3>In this notebook, we present:\n",
    "    <li>A comparison on the age group distributions in Bangsar and its constituents </li>\n",
    "    <li></li>\n",
    "</font>"
   ]
  },
  {
   "cell_type": "code",
   "execution_count": 81,
   "metadata": {},
   "outputs": [],
   "source": [
    "import pandas as pd\n",
    "import seaborn as sns\n",
    "sns.set_style('dark')\n",
    "import matplotlib.pyplot as plt\n",
    "%matplotlib inline"
   ]
  },
  {
   "cell_type": "code",
   "execution_count": 52,
   "metadata": {},
   "outputs": [],
   "source": [
    "def age_group_count(votersData,DM):    \n",
    "    \"\"\"\n",
    "    Return count of each group in a voting population\n",
    "    \"\"\"\n",
    "    return votersData[votersData['NamaDM']==DM ]['AgeGroup'].value_counts()\n",
    "\n",
    "def get_totalvoters(votersData, DM):\n",
    "    \"\"\"\n",
    "    Return size of voting population in a DM\n",
    "    \"\"\"\n",
    "    return len(votersData[votersData['NamaDM']==DM])\n",
    "\n",
    "def age_group_ratio(votersData, DM):\n",
    "    \"\"\"\n",
    "    Return percentage of each age group that comprises a voting population\n",
    "    \"\"\"\n",
    "    ratio = age_group_count(votersData, DM) / get_totalvoters(votersData, DM)\n",
    "\n",
    "    return ratio\n",
    "\n",
    "def get_released_vote_count(scoreData, DM):\n",
    "    \"\"\"\n",
    "    Get the total numebr of votes released at polling station on election day.\n",
    "    Total = Rejected votes + Not Returned votes + Accepted votes\n",
    "    \"\"\"\n",
    "    scoreData_DM = scoreData[scoreData['NAMA DM'] == DM]\n",
    "    return scoreData_DM[['VotesByElectors','Rejected Votes','BIL KERTAS UNDI YG TIDAK DIKEMBALIKAN (D)']].sum().sum()\n",
    "\n",
    "def calculate_age(born):\n",
    "    \"\"\"\n",
    "    Returns age as of election day\n",
    "    \"\"\"\n",
    "    electionday = pd.to_datetime('2018-05-09')\n",
    "    return electionday.year - born.year - ((electionday.month, electionday.day) < (born.month, born.day))"
   ]
  },
  {
   "cell_type": "markdown",
   "metadata": {},
   "source": [
    "Load data"
   ]
  },
  {
   "cell_type": "code",
   "execution_count": 64,
   "metadata": {},
   "outputs": [
    {
     "name": "stderr",
     "output_type": "stream",
     "text": [
      "/Users/kenghooi/miniconda3/envs/basic/lib/python3.6/site-packages/IPython/core/interactiveshell.py:2785: DtypeWarning: Columns (4) have mixed types. Specify dtype option on import or set low_memory=False.\n",
      "  interactivity=interactivity, compiler=compiler, result=result)\n",
      "/Users/kenghooi/miniconda3/envs/basic/lib/python3.6/site-packages/IPython/core/interactiveshell.py:2785: DtypeWarning: Columns (1,6,22) have mixed types. Specify dtype option on import or set low_memory=False.\n",
      "  interactivity=interactivity, compiler=compiler, result=result)\n",
      "/Users/kenghooi/miniconda3/envs/basic/lib/python3.6/site-packages/pandas/io/excel.py:329: FutureWarning: The `sheetname` keyword is deprecated, use `sheet_name` instead\n",
      "  **kwds)\n"
     ]
    }
   ],
   "source": [
    "# VOTERS\n",
    "roll14 = pd.read_csv('../data/Lembah Pantai GE14 Roll.csv')\n",
    "roll13 = pd.read_csv('../data/Lembah Pantai GE13 Roll.csv')\n",
    "\n",
    "# SCORE\n",
    "score_bangsar = pd.read_excel('../data/results.xlsx', sheetname='Bangsar')\n",
    "score_bangsar14 = score_bangsar[score_bangsar['GE'] == 'GE14']\n",
    "score_bangsar13 = score_bangsar[score_bangsar['GE'] == 'GE13']"
   ]
  },
  {
   "cell_type": "markdown",
   "metadata": {},
   "source": [
    "### HIDE"
   ]
  },
  {
   "cell_type": "code",
   "execution_count": 65,
   "metadata": {
    "scrolled": true
   },
   "outputs": [
    {
     "name": "stderr",
     "output_type": "stream",
     "text": [
      "/Users/kenghooi/miniconda3/envs/basic/lib/python3.6/site-packages/pandas/core/frame.py:3697: SettingWithCopyWarning: \n",
      "A value is trying to be set on a copy of a slice from a DataFrame\n",
      "\n",
      "See the caveats in the documentation: http://pandas.pydata.org/pandas-docs/stable/indexing.html#indexing-view-versus-copy\n",
      "  errors=errors)\n"
     ]
    },
    {
     "data": {
      "text/html": [
       "<div>\n",
       "<style scoped>\n",
       "    .dataframe tbody tr th:only-of-type {\n",
       "        vertical-align: middle;\n",
       "    }\n",
       "\n",
       "    .dataframe tbody tr th {\n",
       "        vertical-align: top;\n",
       "    }\n",
       "\n",
       "    .dataframe thead th {\n",
       "        text-align: right;\n",
       "    }\n",
       "</style>\n",
       "<table border=\"1\" class=\"dataframe\">\n",
       "  <thead>\n",
       "    <tr style=\"text-align: right;\">\n",
       "      <th></th>\n",
       "      <th>GE</th>\n",
       "      <th>NAMA DM</th>\n",
       "      <th>PollingCentreName</th>\n",
       "      <th>Stream</th>\n",
       "      <th>VotersNum</th>\n",
       "      <th>JUM TIDAK KELUAR MENGUNDI</th>\n",
       "      <th>VotesByElectors</th>\n",
       "      <th>Rejected Votes</th>\n",
       "      <th>BIL KERTAS UNDI YG TIDAK DIKEMBALIKAN (D)</th>\n",
       "      <th>PAS</th>\n",
       "      <th>Barisan Nasional</th>\n",
       "      <th>Pakatan Rakyat</th>\n",
       "      <th>Turnout</th>\n",
       "    </tr>\n",
       "  </thead>\n",
       "  <tbody>\n",
       "    <tr>\n",
       "      <th>0</th>\n",
       "      <td>GE14</td>\n",
       "      <td>BANGSAR BARU</td>\n",
       "      <td>SEKOLAH KEBANGSAAN BUKIT BANDARAYA</td>\n",
       "      <td>1</td>\n",
       "      <td>350.0</td>\n",
       "      <td>140.0</td>\n",
       "      <td>210</td>\n",
       "      <td>0</td>\n",
       "      <td>0</td>\n",
       "      <td>5.0</td>\n",
       "      <td>42</td>\n",
       "      <td>163</td>\n",
       "      <td>NaN</td>\n",
       "    </tr>\n",
       "    <tr>\n",
       "      <th>1</th>\n",
       "      <td>GE14</td>\n",
       "      <td>BANGSAR BARU</td>\n",
       "      <td>SEKOLAH KEBANGSAAN BUKIT BANDARAYA</td>\n",
       "      <td>2</td>\n",
       "      <td>670.0</td>\n",
       "      <td>180.0</td>\n",
       "      <td>490</td>\n",
       "      <td>0</td>\n",
       "      <td>0</td>\n",
       "      <td>11.0</td>\n",
       "      <td>71</td>\n",
       "      <td>408</td>\n",
       "      <td>NaN</td>\n",
       "    </tr>\n",
       "    <tr>\n",
       "      <th>2</th>\n",
       "      <td>GE14</td>\n",
       "      <td>BANGSAR BARU</td>\n",
       "      <td>SEKOLAH KEBANGSAAN BUKIT BANDARAYA</td>\n",
       "      <td>3</td>\n",
       "      <td>670.0</td>\n",
       "      <td>156.0</td>\n",
       "      <td>514</td>\n",
       "      <td>0</td>\n",
       "      <td>0</td>\n",
       "      <td>12.0</td>\n",
       "      <td>54</td>\n",
       "      <td>448</td>\n",
       "      <td>NaN</td>\n",
       "    </tr>\n",
       "    <tr>\n",
       "      <th>3</th>\n",
       "      <td>GE14</td>\n",
       "      <td>BANGSAR BARU</td>\n",
       "      <td>SEKOLAH KEBANGSAAN BUKIT BANDARAYA</td>\n",
       "      <td>4</td>\n",
       "      <td>670.0</td>\n",
       "      <td>141.0</td>\n",
       "      <td>529</td>\n",
       "      <td>0</td>\n",
       "      <td>0</td>\n",
       "      <td>6.0</td>\n",
       "      <td>50</td>\n",
       "      <td>473</td>\n",
       "      <td>NaN</td>\n",
       "    </tr>\n",
       "    <tr>\n",
       "      <th>4</th>\n",
       "      <td>GE14</td>\n",
       "      <td>BANGSAR BARU</td>\n",
       "      <td>SEKOLAH KEBANGSAAN BUKIT BANDARAYA</td>\n",
       "      <td>5</td>\n",
       "      <td>670.0</td>\n",
       "      <td>142.0</td>\n",
       "      <td>528</td>\n",
       "      <td>0</td>\n",
       "      <td>0</td>\n",
       "      <td>16.0</td>\n",
       "      <td>71</td>\n",
       "      <td>441</td>\n",
       "      <td>NaN</td>\n",
       "    </tr>\n",
       "  </tbody>\n",
       "</table>\n",
       "</div>"
      ],
      "text/plain": [
       "     GE       NAMA DM                   PollingCentreName  Stream  VotersNum  \\\n",
       "0  GE14  BANGSAR BARU  SEKOLAH KEBANGSAAN BUKIT BANDARAYA       1      350.0   \n",
       "1  GE14  BANGSAR BARU  SEKOLAH KEBANGSAAN BUKIT BANDARAYA       2      670.0   \n",
       "2  GE14  BANGSAR BARU  SEKOLAH KEBANGSAAN BUKIT BANDARAYA       3      670.0   \n",
       "3  GE14  BANGSAR BARU  SEKOLAH KEBANGSAAN BUKIT BANDARAYA       4      670.0   \n",
       "4  GE14  BANGSAR BARU  SEKOLAH KEBANGSAAN BUKIT BANDARAYA       5      670.0   \n",
       "\n",
       "   JUM TIDAK KELUAR MENGUNDI  VotesByElectors  Rejected Votes  \\\n",
       "0                      140.0              210               0   \n",
       "1                      180.0              490               0   \n",
       "2                      156.0              514               0   \n",
       "3                      141.0              529               0   \n",
       "4                      142.0              528               0   \n",
       "\n",
       "   BIL KERTAS UNDI YG TIDAK DIKEMBALIKAN (D)   PAS  Barisan Nasional   \\\n",
       "0                                          0   5.0                 42   \n",
       "1                                          0  11.0                 71   \n",
       "2                                          0  12.0                 54   \n",
       "3                                          0   6.0                 50   \n",
       "4                                          0  16.0                 71   \n",
       "\n",
       "   Pakatan Rakyat  Turnout  \n",
       "0             163      NaN  \n",
       "1             408      NaN  \n",
       "2             448      NaN  \n",
       "3             473      NaN  \n",
       "4             441      NaN  "
      ]
     },
     "execution_count": 65,
     "metadata": {},
     "output_type": "execute_result"
    }
   ],
   "source": [
    "## In GE 14, there is no independent candidate\n",
    "score_bangsar14.drop('Bebas', axis=1, inplace=True)\n",
    "score_bangsar14.head()"
   ]
  },
  {
   "cell_type": "markdown",
   "metadata": {},
   "source": [
    "Bangsar DMs:\n",
    "<li>Bangsar Baru</li>\n",
    "<li>Taman Lucky</li>\n",
    "<li>Jalan Maarof</li>"
   ]
  },
  {
   "cell_type": "code",
   "execution_count": 66,
   "metadata": {
    "collapsed": true
   },
   "outputs": [
    {
     "name": "stderr",
     "output_type": "stream",
     "text": [
      "/Users/kenghooi/miniconda3/envs/basic/lib/python3.6/site-packages/ipykernel_launcher.py:5: SettingWithCopyWarning: \n",
      "A value is trying to be set on a copy of a slice from a DataFrame.\n",
      "Try using .loc[row_indexer,col_indexer] = value instead\n",
      "\n",
      "See the caveats in the documentation: http://pandas.pydata.org/pandas-docs/stable/indexing.html#indexing-view-versus-copy\n",
      "  \"\"\"\n",
      "/Users/kenghooi/miniconda3/envs/basic/lib/python3.6/site-packages/ipykernel_launcher.py:9: SettingWithCopyWarning: \n",
      "A value is trying to be set on a copy of a slice from a DataFrame.\n",
      "Try using .loc[row_indexer,col_indexer] = value instead\n",
      "\n",
      "See the caveats in the documentation: http://pandas.pydata.org/pandas-docs/stable/indexing.html#indexing-view-versus-copy\n",
      "  if __name__ == '__main__':\n"
     ]
    }
   ],
   "source": [
    "## Subsetting for Bangsar voter roll (GE 14)\n",
    "roll_bangsar14 = roll14[(roll14['NamaDM']=='BANGSAR BARU') | (roll14['NamaDM']=='TAMAN LUCKY') |(roll14['NamaDM']=='JALAN MAAROF')]\n",
    "\n",
    "## Get voters' Age\n",
    "roll_bangsar14['Age'] = pd.to_datetime(roll_bangsar14['TahunLahir']).apply(lambda x: calculate_age(x)) \n",
    "\n",
    "## Binning voters's age \n",
    "max_age = max(roll_bangsar14['Age'].max(),roll_bangsar13['Umur'].max())\n",
    "roll_bangsar14['AgeGroup'] = pd.cut(roll_bangsar14['Age'], [20,30,40,50,60,70,80,max_age] )"
   ]
  },
  {
   "cell_type": "code",
   "execution_count": 67,
   "metadata": {},
   "outputs": [
    {
     "name": "stderr",
     "output_type": "stream",
     "text": [
      "/Users/kenghooi/miniconda3/envs/basic/lib/python3.6/site-packages/ipykernel_launcher.py:3: SettingWithCopyWarning: \n",
      "A value is trying to be set on a copy of a slice from a DataFrame.\n",
      "Try using .loc[row_indexer,col_indexer] = value instead\n",
      "\n",
      "See the caveats in the documentation: http://pandas.pydata.org/pandas-docs/stable/indexing.html#indexing-view-versus-copy\n",
      "  This is separate from the ipykernel package so we can avoid doing imports until\n"
     ]
    }
   ],
   "source": [
    "## Subsetting for Bangsar voter roll (GE 13)\n",
    "roll_bangsar13 = roll13[(roll13['NamaDM']=='BANGSAR BARU') | (roll13['NamaDM']=='TAMAN LUCKY') |(roll13['NamaDM']=='JALAN MAAROF')]\n",
    "roll_bangsar13['AgeGroup'] = pd.cut(roll_bangsar13['Umur'], bins=[20,30,40,50,60,70,80,max_age])"
   ]
  },
  {
   "cell_type": "code",
   "execution_count": 71,
   "metadata": {},
   "outputs": [
    {
     "data": {
      "text/html": [
       "<div>\n",
       "<style scoped>\n",
       "    .dataframe tbody tr th:only-of-type {\n",
       "        vertical-align: middle;\n",
       "    }\n",
       "\n",
       "    .dataframe tbody tr th {\n",
       "        vertical-align: top;\n",
       "    }\n",
       "\n",
       "    .dataframe thead th {\n",
       "        text-align: right;\n",
       "    }\n",
       "</style>\n",
       "<table border=\"1\" class=\"dataframe\">\n",
       "  <thead>\n",
       "    <tr style=\"text-align: right;\">\n",
       "      <th></th>\n",
       "      <th>GE13</th>\n",
       "      <th>GE14</th>\n",
       "    </tr>\n",
       "  </thead>\n",
       "  <tbody>\n",
       "    <tr>\n",
       "      <th>(20, 30]</th>\n",
       "      <td>973</td>\n",
       "      <td>930</td>\n",
       "    </tr>\n",
       "    <tr>\n",
       "      <th>(30, 40]</th>\n",
       "      <td>1838</td>\n",
       "      <td>1717</td>\n",
       "    </tr>\n",
       "    <tr>\n",
       "      <th>(40, 50]</th>\n",
       "      <td>2389</td>\n",
       "      <td>2407</td>\n",
       "    </tr>\n",
       "    <tr>\n",
       "      <th>(50, 60]</th>\n",
       "      <td>2729</td>\n",
       "      <td>2620</td>\n",
       "    </tr>\n",
       "    <tr>\n",
       "      <th>(60, 70]</th>\n",
       "      <td>2278</td>\n",
       "      <td>2527</td>\n",
       "    </tr>\n",
       "    <tr>\n",
       "      <th>(70, 80]</th>\n",
       "      <td>1258</td>\n",
       "      <td>1672</td>\n",
       "    </tr>\n",
       "    <tr>\n",
       "      <th>(80, 109]</th>\n",
       "      <td>481</td>\n",
       "      <td>672</td>\n",
       "    </tr>\n",
       "  </tbody>\n",
       "</table>\n",
       "</div>"
      ],
      "text/plain": [
       "           GE13  GE14\n",
       "(20, 30]    973   930\n",
       "(30, 40]   1838  1717\n",
       "(40, 50]   2389  2407\n",
       "(50, 60]   2729  2620\n",
       "(60, 70]   2278  2527\n",
       "(70, 80]   1258  1672\n",
       "(80, 109]   481   672"
      ]
     },
     "execution_count": 71,
     "metadata": {},
     "output_type": "execute_result"
    }
   ],
   "source": [
    "## Comparing age group distributions in Bangsar, between GE13 & GE14\n",
    "bangsar_age_compare = pd.DataFrame([roll_bangsar13['AgeGroup'].value_counts(),roll_bangsar14['AgeGroup'].value_counts() ]).T\n",
    "bangsar_age_compare.columns = ['GE13','GE14'] # rename columns\n",
    "bangsar_age_compare"
   ]
  },
  {
   "cell_type": "code",
   "execution_count": 76,
   "metadata": {},
   "outputs": [
    {
     "data": {
      "text/html": [
       "<div>\n",
       "<style scoped>\n",
       "    .dataframe tbody tr th:only-of-type {\n",
       "        vertical-align: middle;\n",
       "    }\n",
       "\n",
       "    .dataframe tbody tr th {\n",
       "        vertical-align: top;\n",
       "    }\n",
       "\n",
       "    .dataframe thead th {\n",
       "        text-align: right;\n",
       "    }\n",
       "</style>\n",
       "<table border=\"1\" class=\"dataframe\">\n",
       "  <thead>\n",
       "    <tr style=\"text-align: right;\">\n",
       "      <th></th>\n",
       "      <th>GE13</th>\n",
       "      <th>GE14</th>\n",
       "      <th>GE13_p</th>\n",
       "      <th>GE14_p</th>\n",
       "    </tr>\n",
       "  </thead>\n",
       "  <tbody>\n",
       "    <tr>\n",
       "      <th>(20, 30]</th>\n",
       "      <td>973</td>\n",
       "      <td>930</td>\n",
       "      <td>0.081450</td>\n",
       "      <td>0.074133</td>\n",
       "    </tr>\n",
       "    <tr>\n",
       "      <th>(30, 40]</th>\n",
       "      <td>1838</td>\n",
       "      <td>1717</td>\n",
       "      <td>0.153859</td>\n",
       "      <td>0.136867</td>\n",
       "    </tr>\n",
       "    <tr>\n",
       "      <th>(40, 50]</th>\n",
       "      <td>2389</td>\n",
       "      <td>2407</td>\n",
       "      <td>0.199983</td>\n",
       "      <td>0.191869</td>\n",
       "    </tr>\n",
       "    <tr>\n",
       "      <th>(50, 60]</th>\n",
       "      <td>2729</td>\n",
       "      <td>2620</td>\n",
       "      <td>0.228445</td>\n",
       "      <td>0.208848</td>\n",
       "    </tr>\n",
       "    <tr>\n",
       "      <th>(60, 70]</th>\n",
       "      <td>2278</td>\n",
       "      <td>2527</td>\n",
       "      <td>0.190691</td>\n",
       "      <td>0.201435</td>\n",
       "    </tr>\n",
       "  </tbody>\n",
       "</table>\n",
       "</div>"
      ],
      "text/plain": [
       "          GE13  GE14    GE13_p    GE14_p\n",
       "(20, 30]   973   930  0.081450  0.074133\n",
       "(30, 40]  1838  1717  0.153859  0.136867\n",
       "(40, 50]  2389  2407  0.199983  0.191869\n",
       "(50, 60]  2729  2620  0.228445  0.208848\n",
       "(60, 70]  2278  2527  0.190691  0.201435"
      ]
     },
     "execution_count": 76,
     "metadata": {},
     "output_type": "execute_result"
    }
   ],
   "source": [
    "## Get the ratio of age group distribution in Bangsar in both GE's\n",
    "bangsar_age_compare['GE13_p'] = bangsar_age_compare['GE13']/bangsar_age_compare['GE13'].sum()\n",
    "bangsar_age_compare['GE14_p'] = bangsar_age_compare['GE14']/bangsar_age_compare['GE14'].sum()\n",
    "bangsar_age_compare.head()"
   ]
  },
  {
   "cell_type": "code",
   "execution_count": 77,
   "metadata": {},
   "outputs": [],
   "source": [
    "##\n",
    "bangsar_age_compare2 = bangsar_age_compare[['GE13','GE14']].unstack().reset_index()\n",
    "bangsar_age_compare2.columns = ['GE','AgeGroup','count']\n",
    "\n",
    "##\n",
    "bangsar_age_compare_p = bangsar_age_compare[['GE13_p','GE14_p']]\n",
    "bangsar_age_compare_p2 = bangsar_age_compare_p[['GE13_p','GE14_p']].unstack().reset_index()\n",
    "bangsar_age_compare_p2.columns = ['GE','AgeGroup','count']"
   ]
  },
  {
   "cell_type": "code",
   "execution_count": 82,
   "metadata": {},
   "outputs": [
    {
     "data": {
      "text/plain": [
       "Text(0.5,0.98,'Age Group (Count, Percentage)')"
      ]
     },
     "execution_count": 82,
     "metadata": {},
     "output_type": "execute_result"
    },
    {
     "data": {
      "image/png": "[encoded data removed]",
      "text/plain": [
       "<Figure size 864x360 with 2 Axes>"
      ]
     },
     "metadata": {},
     "output_type": "display_data"
    }
   ],
   "source": [
    "f,ax = plt.subplots(1,2, figsize=(12,5))\n",
    "p1 = sns.barplot(y='count', x='AgeGroup', hue='GE',data=bangsar_age_compare2, ax=ax[0])\n",
    "p2 = sns.barplot(y='count', x='AgeGroup', hue='GE',data=bangsar_age_compare_p2, ax=ax[1])\n",
    "\n",
    "for patch in p1.patches:\n",
    "    try:\n",
    "        if patch.get_height()>0:\n",
    "            p1.annotate(' %.f' % patch.get_height(), xy=( patch.get_x() + patch.get_width()/2 ,patch.get_height()+ 100), ha='center',fontsize=8)\n",
    "    except:\n",
    "        pass\n",
    "\n",
    "for patch in p2.patches:\n",
    "    try:\n",
    "        if patch.get_height()>0:\n",
    "            p2.annotate(' %.2f' % patch.get_height(), xy=( patch.get_x() + patch.get_width()/2 ,patch.get_height()+0.005), ha='center',fontsize=8)\n",
    "    except:\n",
    "        pass\n",
    "    \n",
    "p1.set_ylim(0,len(roll_bangsar14))\n",
    "p2.set_ylim(0,1)\n",
    "    \n",
    "plt.tight_layout()\n",
    "plt.suptitle('Age Group (Count, Percentage)')"
   ]
  },
  {
   "cell_type": "markdown",
   "metadata": {},
   "source": [
    "## ANALYSIS"
   ]
  },
  {
   "cell_type": "markdown",
   "metadata": {},
   "source": [
    "<h5>Bangsar: GE14"
   ]
  },
  {
   "cell_type": "code",
   "execution_count": 83,
   "metadata": {},
   "outputs": [],
   "source": [
    "age_group14_dict_bangsarbaru = dict(age_group_ratio(roll_bangsar14, 'BANGSAR BARU') )\n",
    "age_group14_dict_jlnmaarof = dict(age_group_ratio(roll_bangsar14, 'JALAN MAAROF') )\n",
    "age_group14_dict_tmnlucky = dict(age_group_ratio(roll_bangsar14, 'TAMAN LUCKY') )"
   ]
  },
  {
   "cell_type": "code",
   "execution_count": 84,
   "metadata": {},
   "outputs": [],
   "source": [
    "score_bangsarbaru14 = score_bangsar14[score_bangsar14['NAMA DM']=='BANGSAR BARU']\n",
    "score_jlnmaarof14 = score_bangsar14[score_bangsar14['NAMA DM']=='JALAN MAAROF']\n",
    "score_tmnlucky14 = score_bangsar14[score_bangsar14['NAMA DM']=='TAMAN LUCKY']\n",
    "\n",
    "bangsarbaru_total_released_votes14 = get_released_vote_count(score_bangsar14 , \"BANGSAR BARU\")\n",
    "jlnmaarof_total_released_votes14 = get_released_vote_count(score_bangsar14 , \"JALAN MAAROF\")\n",
    "tmnlucky_total_released_votes14 = get_released_vote_count(score_bangsar14 , \"TAMAN LUCKY\")"
   ]
  },
  {
   "cell_type": "code",
   "execution_count": 85,
   "metadata": {},
   "outputs": [
    {
     "name": "stdout",
     "output_type": "stream",
     "text": [
      "Total votes in Bangsar Baru in GE14:  4399\n",
      "Total votes in Jalan Maarof in GE14:  2731\n",
      "Total votes in Taman Lucky in GE14:  2531\n"
     ]
    }
   ],
   "source": [
    "print('Total votes in Bangsar Baru in GE14: ', bangsarbaru_total_released_votes14)\n",
    "print('Total votes in Jalan Maarof in GE14: ', jlnmaarof_total_released_votes14)\n",
    "print('Total votes in Taman Lucky in GE14: ', tmnlucky_total_released_votes14)"
   ]
  },
  {
   "cell_type": "markdown",
   "metadata": {},
   "source": [
    "<h5>Bangsar: GE13"
   ]
  },
  {
   "cell_type": "code",
   "execution_count": 86,
   "metadata": {},
   "outputs": [],
   "source": [
    "age_group13_dict_bangsarbaru = dict(age_group_ratio(roll_bangsar13, 'BANGSAR BARU') )\n",
    "age_group13_dict_jlnmaarof = dict(age_group_ratio(roll_bangsar13, 'JALAN MAAROF') )\n",
    "age_group13_dict_tmnlucky = dict(age_group_ratio(roll_bangsar13, 'TAMAN LUCKY') )"
   ]
  },
  {
   "cell_type": "code",
   "execution_count": 87,
   "metadata": {},
   "outputs": [],
   "source": [
    "score_bangsarbaru13= score_bangsar13[score_bangsar13['NAMA DM']=='BANGSAR BARU']\n",
    "score_jlnmaarof13 = score_bangsar13[score_bangsar13['NAMA DM']=='JALAN MAAROF']\n",
    "score_tmnlucky13 = score_bangsar13[score_bangsar13['NAMA DM']=='TAMAN LUCKY']\n",
    "\n",
    "bangsarbaru_total_released_votes13 = get_released_vote_count(score_bangsar13 , \"BANGSAR BARU\")\n",
    "jlnmaarof_total_released_votes13 = get_released_vote_count(score_bangsar13 , \"JALAN MAAROF\")\n",
    "tmnlucky_total_released_votes13 = get_released_vote_count(score_bangsar13 , \"TAMAN LUCKY\")"
   ]
  },
  {
   "cell_type": "code",
   "execution_count": 88,
   "metadata": {},
   "outputs": [
    {
     "name": "stdout",
     "output_type": "stream",
     "text": [
      "Total votes in Bangsar Baru in GE13:  4138\n",
      "Total votes in Jalan Maarof in GE13:  2664\n",
      "Total votes in Taman Lucky in GE13:  4702\n"
     ]
    }
   ],
   "source": [
    "print('Total votes in Bangsar Baru in GE13: ', bangsarbaru_total_released_votes13)\n",
    "print('Total votes in Jalan Maarof in GE13: ', jlnmaarof_total_released_votes13)\n",
    "print('Total votes in Taman Lucky in GE13: ', tmnlucky_total_released_votes13)"
   ]
  },
  {
   "cell_type": "code",
   "execution_count": 89,
   "metadata": {},
   "outputs": [
    {
     "data": {
      "text/plain": [
       "Text(0.5,1,'Taman Lucky')"
      ]
     },
     "execution_count": 89,
     "metadata": {},
     "output_type": "execute_result"
    },
    {
     "data": {
      "image/png": "[encoded data removed]",
      "text/plain": [
       "<Figure size 1080x360 with 3 Axes>"
      ]
     },
     "metadata": {},
     "output_type": "display_data"
    }
   ],
   "source": [
    "f,ax = plt.subplots(1,3, figsize=(15,5))\n",
    "pd.DataFrame({'GE13':age_group13_dict_bangsarbaru}).join(pd.DataFrame({'GE14':age_group14_dict_bangsarbaru})).plot.bar(ax=ax[0])\n",
    "pd.DataFrame({'GE13':age_group13_dict_jlnmaarof}).join(pd.DataFrame({'GE14':age_group14_dict_jlnmaarof})).plot.bar(ax=ax[1])\n",
    "pd.DataFrame({'GE13':age_group13_dict_tmnlucky}).join(pd.DataFrame({'GE14':age_group14_dict_tmnlucky})).plot.bar(ax=ax[2])\n",
    "\n",
    "ax[0].set_ylim(0,1)\n",
    "ax[1].set_ylim(0,1)\n",
    "ax[2].set_ylim(0,1)\n",
    "\n",
    "ax[0].set_title('Bangsar Baru')\n",
    "ax[1].set_title('Jalan Maarof')\n",
    "ax[2].set_title('Taman Lucky')\n"
   ]
  },
  {
   "cell_type": "markdown",
   "metadata": {},
   "source": [
    "<h6> Bangsar - Taman Lucky"
   ]
  },
  {
   "cell_type": "markdown",
   "metadata": {},
   "source": [
    "<font size=3> \n",
    "    In GE 13, Pakatan Rakyat won the most votes in Taman Lucky, leading BN by 574 votes.\n",
    "</font>"
   ]
  },
  {
   "cell_type": "code",
   "execution_count": 90,
   "metadata": {},
   "outputs": [
    {
     "data": {
      "text/plain": [
       "JUM TIDAK KELUAR MENGUNDI                       0.0\n",
       "Rejected Votes                                 58.0\n",
       "BIL KERTAS UNDI YG TIDAK DIKEMBALIKAN (D)       0.0\n",
       "Bebas                                           4.0\n",
       "Barisan Nasional                             2033.0\n",
       "Pakatan Rakyat                               2607.0\n",
       "Turnout                                         0.0\n",
       "dtype: float64"
      ]
     },
     "execution_count": 90,
     "metadata": {},
     "output_type": "execute_result"
    }
   ],
   "source": [
    "score_tmnlucky13[['JUM TIDAK KELUAR MENGUNDI','Rejected Votes','BIL KERTAS UNDI YG TIDAK DIKEMBALIKAN (D)','Bebas','Barisan Nasional ','Pakatan Rakyat','Turnout']].sum()"
   ]
  },
  {
   "cell_type": "markdown",
   "metadata": {},
   "source": [
    "Number of votes cast/not cast by Taman Lucky voters who turn out in <b>GE13</b>:"
   ]
  },
  {
   "cell_type": "code",
   "execution_count": 113,
   "metadata": {},
   "outputs": [
    {
     "name": "stdout",
     "output_type": "stream",
     "text": [
      "Rejected Votes:  0.01233517652062952\n",
      "BIL KERTAS UNDI YG TIDAK DIKEMBALIKAN (D):  0.0\n",
      "Bebas:  0.0008507018290089324\n",
      "Barisan Nasional :  0.43236920459378986\n",
      "Pakatan Rakyat:  0.5544449170565716\n"
     ]
    }
   ],
   "source": [
    "for v in ['Rejected Votes','BIL KERTAS UNDI YG TIDAK DIKEMBALIKAN (D)','Bebas','Barisan Nasional ','Pakatan Rakyat']:\n",
    "    print(v + ': ', score_tmnlucky13[v].sum()/tmnlucky_total_released_votes13)"
   ]
  },
  {
   "cell_type": "markdown",
   "metadata": {},
   "source": [
    "Number of votes cast/not cast by Taman Lucky voters who turn out in <b>GE14</b>:"
   ]
  },
  {
   "cell_type": "code",
   "execution_count": 115,
   "metadata": {},
   "outputs": [
    {
     "name": "stdout",
     "output_type": "stream",
     "text": [
      "Rejected Votes:  0.002765705254839984\n",
      "BIL KERTAS UNDI YG TIDAK DIKEMBALIKAN (D):  0.001185302252074279\n",
      "PAS:  0.030422757803239827\n",
      "Barisan Nasional :  0.14776768075859345\n",
      "Pakatan Rakyat:  0.8139075464243382\n"
     ]
    }
   ],
   "source": [
    "for v in ['Rejected Votes','BIL KERTAS UNDI YG TIDAK DIKEMBALIKAN (D)','PAS','Barisan Nasional ','Pakatan Rakyat']:\n",
    "    print(v + ': ', score_tmnlucky14[v].sum()/tmnlucky_total_released_votes14)"
   ]
  },
  {
   "cell_type": "markdown",
   "metadata": {},
   "source": [
    "<h6> Bangsar - Jalan Maarof"
   ]
  },
  {
   "cell_type": "markdown",
   "metadata": {},
   "source": [
    "Number of votes cast/not cast by Jalan Maarof voters who turn out in <b>GE13</b>:"
   ]
  },
  {
   "cell_type": "code",
   "execution_count": 116,
   "metadata": {},
   "outputs": [
    {
     "name": "stdout",
     "output_type": "stream",
     "text": [
      "Rejected Votes:  0.004129129129129129\n",
      "BIL KERTAS UNDI YG TIDAK DIKEMBALIKAN (D):  0.0007507507507507507\n",
      "Bebas:  0.0037537537537537537\n",
      "Barisan Nasional :  0.26576576576576577\n",
      "Pakatan Rakyat:  0.7256006006006006\n"
     ]
    }
   ],
   "source": [
    "for v in ['Rejected Votes','BIL KERTAS UNDI YG TIDAK DIKEMBALIKAN (D)','Bebas','Barisan Nasional ','Pakatan Rakyat']:\n",
    "    print(v + ': ', score_jlnmaarof13[v].sum()/jlnmaarof_total_released_votes13)"
   ]
  },
  {
   "cell_type": "markdown",
   "metadata": {},
   "source": [
    "Number of votes cast/not cast by Jalan Maarof voters who turn out in <b>GE14</b>:"
   ]
  },
  {
   "cell_type": "code",
   "execution_count": 117,
   "metadata": {},
   "outputs": [
    {
     "name": "stdout",
     "output_type": "stream",
     "text": [
      "Rejected Votes:  0.0\n",
      "BIL KERTAS UNDI YG TIDAK DIKEMBALIKAN (D):  0.0\n",
      "PAS:  0.01904064445258147\n",
      "Barisan Nasional :  0.13365067740754302\n",
      "Pakatan Rakyat:  0.8473086781398755\n"
     ]
    }
   ],
   "source": [
    "for v in ['Rejected Votes','BIL KERTAS UNDI YG TIDAK DIKEMBALIKAN (D)','PAS','Barisan Nasional ','Pakatan Rakyat']:\n",
    "    print(v + ': ', score_jlnmaarof14[v].sum()/jlnmaarof_total_released_votes14)"
   ]
  },
  {
   "cell_type": "markdown",
   "metadata": {},
   "source": [
    "<h6> Bangsar - Bangsar Baru"
   ]
  },
  {
   "cell_type": "markdown",
   "metadata": {},
   "source": [
    "Number of votes cast/not cast by Bangsar Baru voters who turn out in <b>GE13</b>:"
   ]
  },
  {
   "cell_type": "code",
   "execution_count": 119,
   "metadata": {},
   "outputs": [
    {
     "name": "stdout",
     "output_type": "stream",
     "text": [
      "Rejected Votes:  0.0028999516674722086\n",
      "BIL KERTAS UNDI YG TIDAK DIKEMBALIKAN (D):  0.0002416626389560174\n",
      "Bebas:  0.0019333011116481392\n",
      "Barisan Nasional :  0.2288545190913485\n",
      "Pakatan Rakyat:  0.7660705654905752\n"
     ]
    }
   ],
   "source": [
    "for v in ['Rejected Votes','BIL KERTAS UNDI YG TIDAK DIKEMBALIKAN (D)','Bebas','Barisan Nasional ','Pakatan Rakyat']:\n",
    "    print(v + ': ', score_bangsarbaru13[v].sum()/bangsarbaru_total_released_votes13)"
   ]
  },
  {
   "cell_type": "markdown",
   "metadata": {},
   "source": [
    "Number of votes cast/not cast by Bangsar Baru voters who turn out in <b>GE14</b>:"
   ]
  },
  {
   "cell_type": "code",
   "execution_count": 118,
   "metadata": {},
   "outputs": [
    {
     "name": "stdout",
     "output_type": "stream",
     "text": [
      "Rejected Votes:  0.0\n",
      "BIL KERTAS UNDI YG TIDAK DIKEMBALIKAN (D):  0.0\n",
      "PAS:  0.0206865196635599\n",
      "Barisan Nasional :  0.10752443737213004\n",
      "Pakatan Rakyat:  0.87178904296431\n"
     ]
    }
   ],
   "source": [
    "for v in ['Rejected Votes','BIL KERTAS UNDI YG TIDAK DIKEMBALIKAN (D)','PAS','Barisan Nasional ','Pakatan Rakyat']:\n",
    "    print(v + ': ', score_bangsarbaru14[v].sum()/bangsarbaru_total_released_votes14)"
   ]
  },
  {
   "cell_type": "code",
   "execution_count": 120,
   "metadata": {},
   "outputs": [],
   "source": [
    "bangsar_dict13 = {'JALAN MAAROF':{'BN': score_jlnmaarof13['Barisan Nasional '].sum() / jlnmaarof_total_released_votes13,\n",
    "                              'Pakatan':score_jlnmaarof13['Pakatan Rakyat'].sum() / jlnmaarof_total_released_votes13,\n",
    "                               'Bebas':score_jlnmaarof13['Bebas'].sum() / jlnmaarof_total_released_votes13,\n",
    "                                'UndiRosak':score_jlnmaarof13['Rejected Votes'].sum() / jlnmaarof_total_released_votes13,\n",
    "                                'NorReturnedVote':score_jlnmaarof13['BIL KERTAS UNDI YG TIDAK DIKEMBALIKAN (D)'].sum() / bangsarbaru_total_released_votes13},\n",
    "               'BANGSAR BARU':{'BN': score_bangsarbaru13['Barisan Nasional '].sum() / bangsarbaru_total_released_votes13,\n",
    "                              'Pakatan':score_bangsarbaru13['Pakatan Rakyat'].sum() / bangsarbaru_total_released_votes13,\n",
    "                               'Bebas':score_bangsarbaru13['Bebas'].sum() / bangsarbaru_total_released_votes13,\n",
    "                                'UndiRosak':score_bangsarbaru13['Rejected Votes'].sum() / bangsarbaru_total_released_votes13,\n",
    "                                'NorReturnedVote':score_bangsarbaru13['BIL KERTAS UNDI YG TIDAK DIKEMBALIKAN (D)'].sum() / jlnmaarof_total_released_votes13},\n",
    "               'TAMAN LUCKY':{'BN': score_tmnlucky13['Barisan Nasional '].sum() / tmnlucky_total_released_votes13,\n",
    "                              'Pakatan':score_tmnlucky13['Pakatan Rakyat'].sum() / tmnlucky_total_released_votes13,\n",
    "                               'Bebas':score_tmnlucky13['Bebas'].sum() / tmnlucky_total_released_votes13,\n",
    "                                'UndiRosak':score_tmnlucky13['Rejected Votes'].sum() / tmnlucky_total_released_votes13,\n",
    "                                'NorReturnedVote':score_tmnlucky13['BIL KERTAS UNDI YG TIDAK DIKEMBALIKAN (D)'].sum() / tmnlucky_total_released_votes13}}\n",
    "\n",
    "bangsar_dict14 = {'JALAN MAAROF':{'BN': score_jlnmaarof14['Barisan Nasional '].sum() / jlnmaarof_total_released_votes14,\n",
    "                              'Pakatan':score_jlnmaarof14['Pakatan Rakyat'].sum() / jlnmaarof_total_released_votes14,\n",
    "                               'PAS':score_jlnmaarof14['PAS'].sum() / jlnmaarof_total_released_votes14,\n",
    "                                'UndiRosak':score_jlnmaarof14['Rejected Votes'].sum() / jlnmaarof_total_released_votes14,\n",
    "                                'NorReturnedVote':score_jlnmaarof14['BIL KERTAS UNDI YG TIDAK DIKEMBALIKAN (D)'].sum() / jlnmaarof_total_released_votes14},\n",
    "               'BANGSAR BARU':{'BN': score_bangsarbaru14['Barisan Nasional '].sum() / bangsarbaru_total_released_votes14,\n",
    "                              'Pakatan':score_bangsarbaru14['Pakatan Rakyat'].sum() / bangsarbaru_total_released_votes14,\n",
    "                               'PAS':score_bangsarbaru14['PAS'].sum() / bangsarbaru_total_released_votes14,\n",
    "                                'UndiRosak':score_bangsarbaru14['Rejected Votes'].sum() / bangsarbaru_total_released_votes14,\n",
    "                                'NorReturnedVote':score_bangsarbaru14['BIL KERTAS UNDI YG TIDAK DIKEMBALIKAN (D)'].sum() / jlnmaarof_total_released_votes13},\n",
    "               'TAMAN LUCKY':{'BN': score_tmnlucky14['Barisan Nasional '].sum() / tmnlucky_total_released_votes14,\n",
    "                              'Pakatan':score_tmnlucky14['Pakatan Rakyat'].sum() / tmnlucky_total_released_votes14,\n",
    "                               'PAS':score_tmnlucky14['PAS'].sum() / tmnlucky_total_released_votes14,\n",
    "                                'UndiRosak':score_tmnlucky14['Rejected Votes'].sum() / tmnlucky_total_released_votes14,\n",
    "                                'NorReturnedVote':score_tmnlucky14['BIL KERTAS UNDI YG TIDAK DIKEMBALIKAN (D)'].sum() / tmnlucky_total_released_votes14}}"
   ]
  },
  {
   "cell_type": "code",
   "execution_count": 121,
   "metadata": {},
   "outputs": [],
   "source": [
    "bb13 = bangsar_dict13['BANGSAR BARU']\n",
    "bb14 = bangsar_dict14['BANGSAR BARU']\n",
    "\n",
    "tl13 = bangsar_dict13['TAMAN LUCKY']\n",
    "tl14 = bangsar_dict14['TAMAN LUCKY']\n",
    "\n",
    "jm13 = bangsar_dict13['JALAN MAAROF']\n",
    "jm14 = bangsar_dict14['JALAN MAAROF']"
   ]
  },
  {
   "cell_type": "code",
   "execution_count": 122,
   "metadata": {},
   "outputs": [],
   "source": [
    "bangsarbaru = pd.DataFrame({'bangsarbaru13':bb13, 'bangsarbaru14':bb14})\n",
    "jalanmaarof = pd.DataFrame({'jalanmaarof13':jm13, 'jalanmaarof14':jm14})\n",
    "tamanlucky = pd.DataFrame({'tamanlucky13':tl13, 'tamanlucky14':tl14})"
   ]
  },
  {
   "cell_type": "code",
   "execution_count": 123,
   "metadata": {},
   "outputs": [],
   "source": [
    "bangsarbaru.loc['Bebas','bangsarbaru14'] = bangsarbaru.loc['PAS','bangsarbaru14']\n",
    "bangsarbaru.drop('PAS', inplace=True)\n",
    "bangsarbaru.index = ['BN', 'Bebas to PAS', 'NorReturnedVote', 'Pakatan', 'UndiRosak']\n",
    "\n",
    "jalanmaarof.loc['Bebas','jalanmaarof14'] = jalanmaarof.loc['PAS','jalanmaarof14']\n",
    "jalanmaarof.drop('PAS', inplace=True)\n",
    "jalanmaarof.index = ['BN', 'Bebas to PAS', 'NorReturnedVote', 'Pakatan', 'UndiRosak']\n",
    "\n",
    "tamanlucky.loc['Bebas','tamanlucky14'] = tamanlucky.loc['PAS','tamanlucky14']\n",
    "tamanlucky.drop('PAS', inplace=True)\n",
    "tamanlucky.index = ['BN', 'Bebas to PAS', 'NorReturnedVote', 'Pakatan', 'UndiRosak']"
   ]
  },
  {
   "cell_type": "code",
   "execution_count": 124,
   "metadata": {},
   "outputs": [
    {
     "data": {
      "text/html": [
       "<div>\n",
       "<style scoped>\n",
       "    .dataframe tbody tr th:only-of-type {\n",
       "        vertical-align: middle;\n",
       "    }\n",
       "\n",
       "    .dataframe tbody tr th {\n",
       "        vertical-align: top;\n",
       "    }\n",
       "\n",
       "    .dataframe thead th {\n",
       "        text-align: right;\n",
       "    }\n",
       "</style>\n",
       "<table border=\"1\" class=\"dataframe\">\n",
       "  <thead>\n",
       "    <tr style=\"text-align: right;\">\n",
       "      <th></th>\n",
       "      <th>bangsarbaru_14</th>\n",
       "      <th>jlnmaarof_14</th>\n",
       "      <th>tmnlucky_14</th>\n",
       "    </tr>\n",
       "  </thead>\n",
       "  <tbody>\n",
       "    <tr>\n",
       "      <th>(20, 30]</th>\n",
       "      <td>0.078201</td>\n",
       "      <td>0.081972</td>\n",
       "      <td>0.058165</td>\n",
       "    </tr>\n",
       "    <tr>\n",
       "      <th>(30, 40]</th>\n",
       "      <td>0.143426</td>\n",
       "      <td>0.138310</td>\n",
       "      <td>0.123484</td>\n",
       "    </tr>\n",
       "    <tr>\n",
       "      <th>(40, 50]</th>\n",
       "      <td>0.199135</td>\n",
       "      <td>0.183099</td>\n",
       "      <td>0.188491</td>\n",
       "    </tr>\n",
       "    <tr>\n",
       "      <th>(50, 60]</th>\n",
       "      <td>0.196713</td>\n",
       "      <td>0.206197</td>\n",
       "      <td>0.233593</td>\n",
       "    </tr>\n",
       "    <tr>\n",
       "      <th>(60, 70]</th>\n",
       "      <td>0.190311</td>\n",
       "      <td>0.214648</td>\n",
       "      <td>0.206843</td>\n",
       "    </tr>\n",
       "    <tr>\n",
       "      <th>(70, 80]</th>\n",
       "      <td>0.142561</td>\n",
       "      <td>0.120000</td>\n",
       "      <td>0.131260</td>\n",
       "    </tr>\n",
       "    <tr>\n",
       "      <th>(80, 109]</th>\n",
       "      <td>0.049654</td>\n",
       "      <td>0.055775</td>\n",
       "      <td>0.058165</td>\n",
       "    </tr>\n",
       "  </tbody>\n",
       "</table>\n",
       "</div>"
      ],
      "text/plain": [
       "           bangsarbaru_14  jlnmaarof_14  tmnlucky_14\n",
       "(20, 30]         0.078201      0.081972     0.058165\n",
       "(30, 40]         0.143426      0.138310     0.123484\n",
       "(40, 50]         0.199135      0.183099     0.188491\n",
       "(50, 60]         0.196713      0.206197     0.233593\n",
       "(60, 70]         0.190311      0.214648     0.206843\n",
       "(70, 80]         0.142561      0.120000     0.131260\n",
       "(80, 109]        0.049654      0.055775     0.058165"
      ]
     },
     "execution_count": 124,
     "metadata": {},
     "output_type": "execute_result"
    }
   ],
   "source": [
    "pd.DataFrame({'bangsarbaru_14':age_group14_dict_bangsarbaru})\\\n",
    ".join(pd.DataFrame({'jlnmaarof_14':age_group14_dict_jlnmaarof}))\\\n",
    ".join(pd.DataFrame({'tmnlucky_14':age_group14_dict_tmnlucky}))"
   ]
  },
  {
   "cell_type": "code",
   "execution_count": 125,
   "metadata": {},
   "outputs": [
    {
     "data": {
      "text/html": [
       "<div>\n",
       "<style scoped>\n",
       "    .dataframe tbody tr th:only-of-type {\n",
       "        vertical-align: middle;\n",
       "    }\n",
       "\n",
       "    .dataframe tbody tr th {\n",
       "        vertical-align: top;\n",
       "    }\n",
       "\n",
       "    .dataframe thead th {\n",
       "        text-align: right;\n",
       "    }\n",
       "</style>\n",
       "<table border=\"1\" class=\"dataframe\">\n",
       "  <thead>\n",
       "    <tr style=\"text-align: right;\">\n",
       "      <th></th>\n",
       "      <th>bangsarbaru_13</th>\n",
       "      <th>jlnmaarof_13</th>\n",
       "      <th>tmnlucky_13</th>\n",
       "    </tr>\n",
       "  </thead>\n",
       "  <tbody>\n",
       "    <tr>\n",
       "      <th>(20, 30]</th>\n",
       "      <td>0.085214</td>\n",
       "      <td>0.087034</td>\n",
       "      <td>0.069496</td>\n",
       "    </tr>\n",
       "    <tr>\n",
       "      <th>(30, 40]</th>\n",
       "      <td>0.163093</td>\n",
       "      <td>0.150385</td>\n",
       "      <td>0.142374</td>\n",
       "    </tr>\n",
       "    <tr>\n",
       "      <th>(40, 50]</th>\n",
       "      <td>0.204289</td>\n",
       "      <td>0.187093</td>\n",
       "      <td>0.206335</td>\n",
       "    </tr>\n",
       "    <tr>\n",
       "      <th>(50, 60]</th>\n",
       "      <td>0.212566</td>\n",
       "      <td>0.239491</td>\n",
       "      <td>0.242927</td>\n",
       "    </tr>\n",
       "    <tr>\n",
       "      <th>(60, 70]</th>\n",
       "      <td>0.189240</td>\n",
       "      <td>0.190941</td>\n",
       "      <td>0.192804</td>\n",
       "    </tr>\n",
       "    <tr>\n",
       "      <th>(70, 80]</th>\n",
       "      <td>0.110798</td>\n",
       "      <td>0.095619</td>\n",
       "      <td>0.106396</td>\n",
       "    </tr>\n",
       "    <tr>\n",
       "      <th>(80, 109]</th>\n",
       "      <td>0.034801</td>\n",
       "      <td>0.049438</td>\n",
       "      <td>0.039668</td>\n",
       "    </tr>\n",
       "  </tbody>\n",
       "</table>\n",
       "</div>"
      ],
      "text/plain": [
       "           bangsarbaru_13  jlnmaarof_13  tmnlucky_13\n",
       "(20, 30]         0.085214      0.087034     0.069496\n",
       "(30, 40]         0.163093      0.150385     0.142374\n",
       "(40, 50]         0.204289      0.187093     0.206335\n",
       "(50, 60]         0.212566      0.239491     0.242927\n",
       "(60, 70]         0.189240      0.190941     0.192804\n",
       "(70, 80]         0.110798      0.095619     0.106396\n",
       "(80, 109]        0.034801      0.049438     0.039668"
      ]
     },
     "execution_count": 125,
     "metadata": {},
     "output_type": "execute_result"
    }
   ],
   "source": [
    "pd.DataFrame({'bangsarbaru_13':age_group13_dict_bangsarbaru})\\\n",
    ".join(pd.DataFrame({'jlnmaarof_13':age_group13_dict_jlnmaarof}))\\\n",
    ".join(pd.DataFrame({'tmnlucky_13':age_group13_dict_tmnlucky}))"
   ]
  },
  {
   "cell_type": "code",
   "execution_count": 144,
   "metadata": {},
   "outputs": [],
   "source": [
    "parties = ['Barisan Nasional ','Pakatan Rakyat','Bebas','Rejected Votes','BIL KERTAS UNDI YG TIDAK DIKEMBALIKAN (D)']\n",
    "parties_short = ['BN','Pakatan','Bebas','Rejected','NotReturned']\n",
    "\n",
    "dict_score_13_bangsarbaru = {}\n",
    "dict_score_13_jlnmaarof = {}\n",
    "dict_score_13_tmnlucky = {}\n",
    "\n",
    "## Storing vote distribution in all 3 bangsar localities, during GE13\n",
    "for p, ps in zip(parties, parties_short):\n",
    "    dict_score_13_bangsarbaru.update({ps:score_bangsarbaru13[p].sum()/bangsarbaru_total_released_votes13})\n",
    "\n",
    "for p, ps in zip(parties, parties_short):\n",
    "    dict_score_13_jlnmaarof.update({ps:score_jlnmaarof13[p].sum()/jlnmaarof_total_released_votes13})\n",
    "\n",
    "for p, ps in zip(parties, parties_short):\n",
    "    dict_score_13_tmnlucky.update({ps:score_tmnlucky13[p].sum()/tmnlucky_total_released_votes13})\n",
    "\n"
   ]
  },
  {
   "cell_type": "code",
   "execution_count": 148,
   "metadata": {},
   "outputs": [],
   "source": [
    "parties_14 = ['Barisan Nasional ','Pakatan Rakyat','PAS','Rejected Votes','BIL KERTAS UNDI YG TIDAK DIKEMBALIKAN (D)']\n",
    "parties_short_14 = ['BN','Pakatan','PAS','Rejected','NotReturned']\n",
    "\n",
    "dict_score_14_bangsarbaru = {}\n",
    "dict_score_14_jlnmaarof = {}\n",
    "dict_score_14_tmnlucky = {}\n",
    "\n",
    "## Storing vote distribution in all 3 bangsar localities, during GE14\n",
    "for p, ps in zip(parties_14, parties_short_14):\n",
    "    dict_score_14_bangsarbaru.update({ps:score_bangsarbaru14[p].sum()/bangsarbaru_total_released_votes14})\n",
    "\n",
    "for p, ps in zip(parties_14, parties_short_14):\n",
    "    dict_score_14_jlnmaarof.update({ps:score_jlnmaarof14[p].sum()/jlnmaarof_total_released_votes14})\n",
    "\n",
    "for p, ps in zip(parties_14, parties_short_14):\n",
    "    dict_score_14_tmnlucky.update({ps:score_tmnlucky14[p].sum()/tmnlucky_total_released_votes14})"
   ]
  },
  {
   "cell_type": "code",
   "execution_count": 154,
   "metadata": {},
   "outputs": [],
   "source": [
    "df_bb_score = pd.DataFrame({'GE13':dict_score_13_bangsarbaru})\\\n",
    ".join(pd.DataFrame({'GE14':dict_score_14_bangsarbaru}), how='outer')\n",
    "\n",
    "df_jm_score = pd.DataFrame({'GE13':dict_score_13_jlnmaarof})\\\n",
    ".join(pd.DataFrame({'GE14':dict_score_14_jlnmaarof}), how='outer')\n",
    "\n",
    "df_tl_score = pd.DataFrame({'GE13':dict_score_13_tmnlucky})\\\n",
    ".join(pd.DataFrame({'GE14':dict_score_14_tmnlucky}), how='outer')\n",
    "\n",
    "for df in [df_bb_score, df_jm_score, df_tl_score]:\n",
    "    df.loc['Bebas','GE14'] = df.loc['PAS','GE14']\n",
    "    df.drop('PAS', inplace=True)\n",
    "    df.index = ['BN', 'Bebas->PAS', 'NotReturned', 'Pakatan', 'Rejected']"
   ]
  },
  {
   "cell_type": "code",
   "execution_count": 155,
   "metadata": {},
   "outputs": [],
   "source": [
    "df_jm = pd.DataFrame({'GE13':{'BN':score_jlnmaarof13['Barisan Nasional '].sum(),\n",
    "'Pakatan':score_jlnmaarof13['Pakatan Rakyat'].sum(),\n",
    "'Bebas->PAS':score_jlnmaarof13['Bebas'].sum(),\n",
    "'Rejected':score_jlnmaarof13['Rejected Votes'].sum(),\n",
    "'NotReturned':score_jlnmaarof13['BIL KERTAS UNDI YG TIDAK DIKEMBALIKAN (D)'].sum()} ,\n",
    "             'GE14':{'BN':score_jlnmaarof14['Barisan Nasional '].sum(),\n",
    "'Pakatan':score_jlnmaarof14['Pakatan Rakyat'].sum(),\n",
    "'Bebas->PAS':score_jlnmaarof14['PAS'].sum(),\n",
    "'Rejected':score_jlnmaarof14['Rejected Votes'].sum(),\n",
    "'NotReturned':score_jlnmaarof14['BIL KERTAS UNDI YG TIDAK DIKEMBALIKAN (D)'].sum()}})\n",
    "\n",
    "df_tl = pd.DataFrame({'GE13':{'BN':score_tmnlucky13['Barisan Nasional '].sum(),\n",
    "'Pakatan':score_tmnlucky13['Pakatan Rakyat'].sum(),\n",
    "'Bebas->PAS':score_tmnlucky13['Bebas'].sum(),\n",
    "'Rejected':score_tmnlucky13['Rejected Votes'].sum(),\n",
    "'NotReturned':score_tmnlucky13['BIL KERTAS UNDI YG TIDAK DIKEMBALIKAN (D)'].sum()} ,\n",
    "             'GE14':{'BN':score_tmnlucky14['Barisan Nasional '].sum(),\n",
    "'Pakatan':score_tmnlucky14['Pakatan Rakyat'].sum(),\n",
    "'Bebas->PAS':score_tmnlucky14['PAS'].sum(),\n",
    "'Rejected':score_tmnlucky14['Rejected Votes'].sum(),\n",
    "'NotReturned':score_tmnlucky14['BIL KERTAS UNDI YG TIDAK DIKEMBALIKAN (D)'].sum()}})\n",
    "\n",
    "df_bb = pd.DataFrame({'GE13':{'BN':score_bangsarbaru13['Barisan Nasional '].sum(),\n",
    "'Pakatan':score_bangsarbaru13['Pakatan Rakyat'].sum(),\n",
    "'Bebas->PAS':score_bangsarbaru13['Bebas'].sum(),\n",
    "'Rejected':score_bangsarbaru13['Rejected Votes'].sum(),\n",
    "'NotReturned':score_bangsarbaru13['BIL KERTAS UNDI YG TIDAK DIKEMBALIKAN (D)'].sum()} ,\n",
    "             'GE14':{'BN':score_bangsarbaru14['Barisan Nasional '].sum(),\n",
    "'Pakatan':score_bangsarbaru14['Pakatan Rakyat'].sum(),\n",
    "'Bebas->PAS':score_bangsarbaru14['PAS'].sum(),\n",
    "'Rejected':score_bangsarbaru14['Rejected Votes'].sum(),\n",
    "'NotReturned':score_bangsarbaru14['BIL KERTAS UNDI YG TIDAK DIKEMBALIKAN (D)'].sum()}})"
   ]
  },
  {
   "cell_type": "code",
   "execution_count": 156,
   "metadata": {},
   "outputs": [
    {
     "data": {
      "text/html": [
       "<div>\n",
       "<style scoped>\n",
       "    .dataframe tbody tr th:only-of-type {\n",
       "        vertical-align: middle;\n",
       "    }\n",
       "\n",
       "    .dataframe tbody tr th {\n",
       "        vertical-align: top;\n",
       "    }\n",
       "\n",
       "    .dataframe thead th {\n",
       "        text-align: right;\n",
       "    }\n",
       "</style>\n",
       "<table border=\"1\" class=\"dataframe\">\n",
       "  <thead>\n",
       "    <tr style=\"text-align: right;\">\n",
       "      <th></th>\n",
       "      <th>VotersNum</th>\n",
       "      <th>JUM TIDAK KELUAR MENGUNDI</th>\n",
       "      <th>VotesByElectors</th>\n",
       "      <th>Rejected Votes</th>\n",
       "      <th>BIL KERTAS UNDI YG TIDAK DIKEMBALIKAN (D)</th>\n",
       "      <th>Bebas</th>\n",
       "      <th>Barisan Nasional</th>\n",
       "      <th>Pakatan Rakyat</th>\n",
       "    </tr>\n",
       "  </thead>\n",
       "  <tbody>\n",
       "    <tr>\n",
       "      <th>35</th>\n",
       "      <td>NaN</td>\n",
       "      <td>NaN</td>\n",
       "      <td>214</td>\n",
       "      <td>2</td>\n",
       "      <td>0</td>\n",
       "      <td>0.0</td>\n",
       "      <td>80</td>\n",
       "      <td>134</td>\n",
       "    </tr>\n",
       "    <tr>\n",
       "      <th>36</th>\n",
       "      <td>NaN</td>\n",
       "      <td>NaN</td>\n",
       "      <td>526</td>\n",
       "      <td>7</td>\n",
       "      <td>0</td>\n",
       "      <td>1.0</td>\n",
       "      <td>188</td>\n",
       "      <td>337</td>\n",
       "    </tr>\n",
       "    <tr>\n",
       "      <th>37</th>\n",
       "      <td>NaN</td>\n",
       "      <td>NaN</td>\n",
       "      <td>539</td>\n",
       "      <td>5</td>\n",
       "      <td>0</td>\n",
       "      <td>0.0</td>\n",
       "      <td>217</td>\n",
       "      <td>322</td>\n",
       "    </tr>\n",
       "    <tr>\n",
       "      <th>38</th>\n",
       "      <td>NaN</td>\n",
       "      <td>NaN</td>\n",
       "      <td>569</td>\n",
       "      <td>5</td>\n",
       "      <td>0</td>\n",
       "      <td>0.0</td>\n",
       "      <td>243</td>\n",
       "      <td>326</td>\n",
       "    </tr>\n",
       "    <tr>\n",
       "      <th>39</th>\n",
       "      <td>NaN</td>\n",
       "      <td>NaN</td>\n",
       "      <td>572</td>\n",
       "      <td>4</td>\n",
       "      <td>0</td>\n",
       "      <td>0.0</td>\n",
       "      <td>271</td>\n",
       "      <td>301</td>\n",
       "    </tr>\n",
       "    <tr>\n",
       "      <th>40</th>\n",
       "      <td>NaN</td>\n",
       "      <td>NaN</td>\n",
       "      <td>583</td>\n",
       "      <td>6</td>\n",
       "      <td>0</td>\n",
       "      <td>0.0</td>\n",
       "      <td>278</td>\n",
       "      <td>305</td>\n",
       "    </tr>\n",
       "    <tr>\n",
       "      <th>41</th>\n",
       "      <td>NaN</td>\n",
       "      <td>NaN</td>\n",
       "      <td>564</td>\n",
       "      <td>6</td>\n",
       "      <td>0</td>\n",
       "      <td>1.0</td>\n",
       "      <td>284</td>\n",
       "      <td>279</td>\n",
       "    </tr>\n",
       "    <tr>\n",
       "      <th>42</th>\n",
       "      <td>NaN</td>\n",
       "      <td>NaN</td>\n",
       "      <td>543</td>\n",
       "      <td>2</td>\n",
       "      <td>0</td>\n",
       "      <td>1.0</td>\n",
       "      <td>226</td>\n",
       "      <td>316</td>\n",
       "    </tr>\n",
       "    <tr>\n",
       "      <th>43</th>\n",
       "      <td>NaN</td>\n",
       "      <td>NaN</td>\n",
       "      <td>534</td>\n",
       "      <td>21</td>\n",
       "      <td>0</td>\n",
       "      <td>1.0</td>\n",
       "      <td>246</td>\n",
       "      <td>287</td>\n",
       "    </tr>\n",
       "  </tbody>\n",
       "</table>\n",
       "</div>"
      ],
      "text/plain": [
       "    VotersNum  JUM TIDAK KELUAR MENGUNDI  VotesByElectors  Rejected Votes  \\\n",
       "35        NaN                        NaN              214               2   \n",
       "36        NaN                        NaN              526               7   \n",
       "37        NaN                        NaN              539               5   \n",
       "38        NaN                        NaN              569               5   \n",
       "39        NaN                        NaN              572               4   \n",
       "40        NaN                        NaN              583               6   \n",
       "41        NaN                        NaN              564               6   \n",
       "42        NaN                        NaN              543               2   \n",
       "43        NaN                        NaN              534              21   \n",
       "\n",
       "    BIL KERTAS UNDI YG TIDAK DIKEMBALIKAN (D)  Bebas  Barisan Nasional   \\\n",
       "35                                          0    0.0                 80   \n",
       "36                                          0    1.0                188   \n",
       "37                                          0    0.0                217   \n",
       "38                                          0    0.0                243   \n",
       "39                                          0    0.0                271   \n",
       "40                                          0    0.0                278   \n",
       "41                                          0    1.0                284   \n",
       "42                                          0    1.0                226   \n",
       "43                                          0    1.0                246   \n",
       "\n",
       "    Pakatan Rakyat  \n",
       "35             134  \n",
       "36             337  \n",
       "37             322  \n",
       "38             326  \n",
       "39             301  \n",
       "40             305  \n",
       "41             279  \n",
       "42             316  \n",
       "43             287  "
      ]
     },
     "execution_count": 156,
     "metadata": {},
     "output_type": "execute_result"
    }
   ],
   "source": [
    "score_tmnlucky13[['VotersNum','JUM TIDAK KELUAR MENGUNDI','VotesByElectors','Rejected Votes','BIL KERTAS UNDI YG TIDAK DIKEMBALIKAN (D)','Bebas','Barisan Nasional ','Pakatan Rakyat']]"
   ]
  },
  {
   "cell_type": "code",
   "execution_count": 157,
   "metadata": {},
   "outputs": [
    {
     "data": {
      "text/html": [
       "<div>\n",
       "<style scoped>\n",
       "    .dataframe tbody tr th:only-of-type {\n",
       "        vertical-align: middle;\n",
       "    }\n",
       "\n",
       "    .dataframe tbody tr th {\n",
       "        vertical-align: top;\n",
       "    }\n",
       "\n",
       "    .dataframe thead th {\n",
       "        text-align: right;\n",
       "    }\n",
       "</style>\n",
       "<table border=\"1\" class=\"dataframe\">\n",
       "  <thead>\n",
       "    <tr style=\"text-align: right;\">\n",
       "      <th></th>\n",
       "      <th>VotersNum</th>\n",
       "      <th>JUM TIDAK KELUAR MENGUNDI</th>\n",
       "      <th>VotesByElectors</th>\n",
       "      <th>Rejected Votes</th>\n",
       "      <th>BIL KERTAS UNDI YG TIDAK DIKEMBALIKAN (D)</th>\n",
       "      <th>PAS</th>\n",
       "      <th>Barisan Nasional</th>\n",
       "      <th>Pakatan Rakyat</th>\n",
       "    </tr>\n",
       "  </thead>\n",
       "  <tbody>\n",
       "    <tr>\n",
       "      <th>9</th>\n",
       "      <td>350.0</td>\n",
       "      <td>117.0</td>\n",
       "      <td>233</td>\n",
       "      <td>0</td>\n",
       "      <td>0</td>\n",
       "      <td>7.0</td>\n",
       "      <td>40</td>\n",
       "      <td>186</td>\n",
       "    </tr>\n",
       "    <tr>\n",
       "      <th>10</th>\n",
       "      <td>572.0</td>\n",
       "      <td>127.0</td>\n",
       "      <td>445</td>\n",
       "      <td>2</td>\n",
       "      <td>0</td>\n",
       "      <td>13.0</td>\n",
       "      <td>93</td>\n",
       "      <td>337</td>\n",
       "    </tr>\n",
       "    <tr>\n",
       "      <th>11</th>\n",
       "      <td>572.0</td>\n",
       "      <td>122.0</td>\n",
       "      <td>450</td>\n",
       "      <td>1</td>\n",
       "      <td>0</td>\n",
       "      <td>10.0</td>\n",
       "      <td>74</td>\n",
       "      <td>365</td>\n",
       "    </tr>\n",
       "    <tr>\n",
       "      <th>12</th>\n",
       "      <td>572.0</td>\n",
       "      <td>125.0</td>\n",
       "      <td>447</td>\n",
       "      <td>1</td>\n",
       "      <td>0</td>\n",
       "      <td>11.0</td>\n",
       "      <td>45</td>\n",
       "      <td>390</td>\n",
       "    </tr>\n",
       "    <tr>\n",
       "      <th>13</th>\n",
       "      <td>572.0</td>\n",
       "      <td>105.0</td>\n",
       "      <td>467</td>\n",
       "      <td>1</td>\n",
       "      <td>2</td>\n",
       "      <td>17.0</td>\n",
       "      <td>52</td>\n",
       "      <td>395</td>\n",
       "    </tr>\n",
       "    <tr>\n",
       "      <th>14</th>\n",
       "      <td>574.0</td>\n",
       "      <td>95.0</td>\n",
       "      <td>479</td>\n",
       "      <td>2</td>\n",
       "      <td>1</td>\n",
       "      <td>19.0</td>\n",
       "      <td>70</td>\n",
       "      <td>387</td>\n",
       "    </tr>\n",
       "  </tbody>\n",
       "</table>\n",
       "</div>"
      ],
      "text/plain": [
       "    VotersNum  JUM TIDAK KELUAR MENGUNDI  VotesByElectors  Rejected Votes  \\\n",
       "9       350.0                      117.0              233               0   \n",
       "10      572.0                      127.0              445               2   \n",
       "11      572.0                      122.0              450               1   \n",
       "12      572.0                      125.0              447               1   \n",
       "13      572.0                      105.0              467               1   \n",
       "14      574.0                       95.0              479               2   \n",
       "\n",
       "    BIL KERTAS UNDI YG TIDAK DIKEMBALIKAN (D)   PAS  Barisan Nasional   \\\n",
       "9                                           0   7.0                 40   \n",
       "10                                          0  13.0                 93   \n",
       "11                                          0  10.0                 74   \n",
       "12                                          0  11.0                 45   \n",
       "13                                          2  17.0                 52   \n",
       "14                                          1  19.0                 70   \n",
       "\n",
       "    Pakatan Rakyat  \n",
       "9              186  \n",
       "10             337  \n",
       "11             365  \n",
       "12             390  \n",
       "13             395  \n",
       "14             387  "
      ]
     },
     "execution_count": 157,
     "metadata": {},
     "output_type": "execute_result"
    }
   ],
   "source": [
    "score_tmnlucky14[['VotersNum','JUM TIDAK KELUAR MENGUNDI','VotesByElectors','Rejected Votes','BIL KERTAS UNDI YG TIDAK DIKEMBALIKAN (D)','PAS','Barisan Nasional ','Pakatan Rakyat']]"
   ]
  },
  {
   "cell_type": "code",
   "execution_count": 158,
   "metadata": {
    "scrolled": false
   },
   "outputs": [
    {
     "data": {
      "image/png": "[encoded data removed]",
      "text/plain": [
       "<Figure size 864x288 with 3 Axes>"
      ]
     },
     "metadata": {},
     "output_type": "display_data"
    }
   ],
   "source": [
    "f, ax = plt.subplots(1,3, figsize=(12,4))\n",
    "\n",
    "p1 = df_bb.plot.bar(ax=ax[0])\n",
    "p2 = df_jm.plot.bar(ax=ax[1], sharey = p1)\n",
    "p3 = df_tl.plot.bar(ax=ax[2], sharey = p1)\n",
    "\n",
    "plt.subplots_adjust(wspace = 0.02)\n",
    "\n",
    "\n",
    "for p, dm in zip([p1,p2,p3], ['Bangsar Baru','Jalan Maarof','Taman Lucky']):\n",
    "    p.set_title('%s (Vote count/ voters)' % dm)\n",
    "    p.set_ylim(0,max(roll_bangsar14['NamaDM'].value_counts()) )\n",
    "    p.legend().remove()\n",
    "    \n",
    "    for patch in p.patches:\n",
    "        try:\n",
    "            if patch.get_height()>0:\n",
    "                p.annotate(' %.2f' % patch.get_height(), xy=( patch.get_x() + patch.get_width()/2 ,patch.get_height()+0.01), ha='center',fontsize=8)\n",
    "        except:\n",
    "            pass\n",
    "    \n",
    "handles, labels = p1.get_legend_handles_labels()\n",
    "plt.figlegend(handles,labels ,loc = 'lower center', ncol=2, bbox_to_anchor=[0.5, 0.])\n",
    "\n",
    "plt.tight_layout()"
   ]
  },
  {
   "cell_type": "code",
   "execution_count": 159,
   "metadata": {},
   "outputs": [
    {
     "data": {
      "image/png": "[encoded data removed]",
      "text/plain": [
       "<Figure size 864x216 with 3 Axes>"
      ]
     },
     "metadata": {},
     "output_type": "display_data"
    }
   ],
   "source": [
    "f, ax = plt.subplots(1,3, figsize=(12,3))\n",
    "\n",
    "p1 = df_bb_score.plot.bar(ax=ax[0])\n",
    "p2 = df_jm_score.plot.bar(ax=ax[1], sharey = p1)\n",
    "p3 = df_tl_score.plot.bar(ax=ax[2], sharey = p1)\n",
    "\n",
    "plt.subplots_adjust(wspace = 0.02)\n",
    "\n",
    "for p, dm in zip([p1,p2,p3], ['Bangsar Baru','Jalan Maarof','Taman Lucky']):\n",
    "    p.set_title('%s (Vote count/ voters)' % dm)\n",
    "    p.set_ylim(0,1)\n",
    "    p.legend().remove()\n",
    "    \n",
    "    for patch in p.patches:\n",
    "        try:\n",
    "            if patch.get_height()>0:\n",
    "                p.annotate(' %.2f' % patch.get_height(), xy=( patch.get_x() + patch.get_width()/2 ,patch.get_height()+0.01), ha='center',fontsize=8)\n",
    "        except:\n",
    "            pass\n",
    "\n",
    "    \n",
    "handles, labels = p1.get_legend_handles_labels()\n",
    "plt.figlegend(handles,labels ,loc = 'lower center', ncol=2, bbox_to_anchor=[0.5, 0.])\n",
    "\n",
    "plt.tight_layout()"
   ]
  },
  {
   "cell_type": "code",
   "execution_count": 139,
   "metadata": {},
   "outputs": [
    {
     "data": {
      "image/png": "[encoded data removed]",
      "text/plain": [
       "<Figure size 864x360 with 2 Axes>"
      ]
     },
     "metadata": {},
     "output_type": "display_data"
    }
   ],
   "source": [
    "f,ax = plt.subplots(1,2, figsize=(12,5))\n",
    "\n",
    "p1 = pd.DataFrame({'score_bangsarbaru_13':dict_score_13_bangsarbaru})\\\n",
    ".join(pd.DataFrame({'score_jlnmaarof_13':dict_score_13_jlnmaarof}))\\\n",
    ".join(pd.DataFrame({'score_tmnlucky_13':dict_score_13_tmnlucky})).plot.bar(ax=ax[0])\n",
    "\n",
    "p2 = pd.DataFrame({'score_bangsarbaru_14':dict_score_14_bangsarbaru})\\\n",
    ".join(pd.DataFrame({'score_jlnmaarof_14':dict_score_14_jlnmaarof}))\\\n",
    ".join(pd.DataFrame({'score_tmnlucky_14':dict_score_14_tmnlucky})).plot.bar(ax=ax[1])\n",
    "\n",
    "\n",
    "for p,ge in zip([p1,p2], ['GE13','GE14']):\n",
    "    \n",
    "    p.set_ylim(0,1)\n",
    "    p.set_title(ge)\n",
    "    \n",
    "    for patch in p.patches:\n",
    "        try:\n",
    "            if patch.get_height()>0:\n",
    "                p.annotate(' %.1f%%' % p.get_height(), xy=( p.get_x() + p.get_width() / 2.,p.get_height()+0.02), ha='center',fontsize=8)\n",
    "        except:\n",
    "            pass"
   ]
  },
  {
   "cell_type": "markdown",
   "metadata": {},
   "source": [
    "<font size=3>\n",
    "<li>The graphs above show that votes for Pakatan Rakyat go up in Bangsar. <br>\n",
    "<li>There is a very obvious spike in favour of Pakatan in Taman Lucky. <br>\n",
    "<li>Votes for BN decrease drastically, especially in Taman Lucky, losing ~50% of their votes in GE13.\n",
    "</font>"
   ]
  },
  {
   "cell_type": "code",
   "execution_count": 134,
   "metadata": {},
   "outputs": [],
   "source": [
    "BN13 = {'bangsarbaru':dict_score_13_bangsarbaru['BN'], 'jlnmaarof':dict_score_13_jlnmaarof['BN'], 'tmnlucky':dict_score_13_tmnlucky['BN']}\n",
    "BN14 = {'bangsarbaru':dict_score_14_bangsarbaru['BN'], 'jlnmaarof':dict_score_14_jlnmaarof['BN'], 'tmnlucky':dict_score_14_tmnlucky['BN']}\n",
    "\n",
    "PR13 = {'bangsarbaru':dict_score_13_bangsarbaru['Pakatan'], 'jlnmaarof':dict_score_13_jlnmaarof['Pakatan'], 'tmnlucky':dict_score_13_tmnlucky['Pakatan']}\n",
    "PR14 = {'bangsarbaru':dict_score_14_bangsarbaru['Pakatan'], 'jlnmaarof':dict_score_14_jlnmaarof['Pakatan'], 'tmnlucky':dict_score_14_tmnlucky['Pakatan']}\n",
    "\n",
    "PAS_BEBAS13 = {'bangsarbaru':dict_score_13_bangsarbaru['Bebas'], 'jlnmaarof':dict_score_13_jlnmaarof['Bebas'], 'tmnlucky':dict_score_13_tmnlucky['Bebas']}\n",
    "PAS_BEBAS14 = {'bangsarbaru':dict_score_14_bangsarbaru['PAS'], 'jlnmaarof':dict_score_14_jlnmaarof['PAS'], 'tmnlucky':dict_score_14_tmnlucky['PAS']}\n",
    "\n",
    "REJ13 = {'bangsarbaru':dict_score_13_bangsarbaru['Rejected'], 'jlnmaarof':dict_score_13_jlnmaarof['Rejected'], 'tmnlucky':dict_score_13_tmnlucky['Rejected']}\n",
    "REJ14 = {'bangsarbaru':dict_score_14_bangsarbaru['Rejected'], 'jlnmaarof':dict_score_14_jlnmaarof['Rejected'], 'tmnlucky':dict_score_14_tmnlucky['Rejected']}\n",
    "\n",
    "NR13 = {'bangsarbaru':dict_score_13_bangsarbaru['NotReturned'], 'jlnmaarof':dict_score_13_jlnmaarof['NotReturned'], 'tmnlucky':dict_score_13_tmnlucky['NotReturned']}\n",
    "NR14 = {'bangsarbaru':dict_score_13_bangsarbaru['NotReturned'], 'jlnmaarof':dict_score_13_jlnmaarof['NotReturned'], 'tmnlucky':dict_score_13_tmnlucky['NotReturned']}"
   ]
  },
  {
   "cell_type": "markdown",
   "metadata": {},
   "source": [
    "age"
   ]
  },
  {
   "cell_type": "code",
   "execution_count": 135,
   "metadata": {
    "collapsed": true
   },
   "outputs": [
    {
     "name": "stderr",
     "output_type": "stream",
     "text": [
      "/Users/kenghooi/miniconda3/envs/basic/lib/python3.6/site-packages/ipykernel_launcher.py:5: SettingWithCopyWarning: \n",
      "A value is trying to be set on a copy of a slice from a DataFrame.\n",
      "Try using .loc[row_indexer,col_indexer] = value instead\n",
      "\n",
      "See the caveats in the documentation: http://pandas.pydata.org/pandas-docs/stable/indexing.html#indexing-view-versus-copy\n",
      "  \"\"\"\n",
      "/Users/kenghooi/miniconda3/envs/basic/lib/python3.6/site-packages/ipykernel_launcher.py:6: SettingWithCopyWarning: \n",
      "A value is trying to be set on a copy of a slice from a DataFrame.\n",
      "Try using .loc[row_indexer,col_indexer] = value instead\n",
      "\n",
      "See the caveats in the documentation: http://pandas.pydata.org/pandas-docs/stable/indexing.html#indexing-view-versus-copy\n",
      "  \n"
     ]
    }
   ],
   "source": [
    "b1 = roll_bangsar13[['Umur','NamaDM']]\n",
    "b2 = roll_bangsar14[['Age','NamaDM']]\n",
    "\n",
    "# assign GE category\n",
    "b1['GE'] = 'GE13'\n",
    "b2['GE'] = 'GE14'\n",
    "\n",
    "b2.columns = ['Umur','NamaDM','GE'] # rename columns\n",
    "\n",
    "bp_data = b1.append(b2)\n",
    "bp_data['Umur2'] = bp_data['Umur'] + 30"
   ]
  },
  {
   "cell_type": "code",
   "execution_count": 136,
   "metadata": {
    "scrolled": false
   },
   "outputs": [
    {
     "data": {
      "image/png": "[encoded data removed]",
      "text/plain": [
       "<Figure size 720x864 with 6 Axes>"
      ]
     },
     "metadata": {},
     "output_type": "display_data"
    }
   ],
   "source": [
    "f,ax = plt.subplots(3,2,figsize=(10,12))\n",
    "p_bn = pd.DataFrame({'GE13':BN13,'GE14':BN14}).plot.bar(ax=ax[0][1])\n",
    "p_pr = pd.DataFrame({'GE13':PR13,'GE14':PR14}).plot.bar(ax=ax[1][0])\n",
    "p_pas_bebas = pd.DataFrame({'GE13':PAS_BEBAS13,'GE14':PAS_BEBAS14}).plot.bar(ax=ax[1][1])\n",
    "p_rej = pd.DataFrame({'GE13':REJ13,'GE14':REJ14}).plot.bar(ax=ax[2][0])\n",
    "p_nr = pd.DataFrame({'GE13':NR13,'GE14':NR14}).plot.bar(ax=ax[2][1])\n",
    "\n",
    "p_bn.set_ylim(0,1)\n",
    "p_pr.set_ylim(0,1)\n",
    "p_pas_bebas.set_ylim(0,1)\n",
    "p_rej.set_ylim(0,1)\n",
    "p_nr.set_ylim(0,1)\n",
    "\n",
    "# boxplot\n",
    "sns.boxplot(x='NamaDM',y='Umur',hue='GE',data=bp_data,ax=ax[0][0],width=0.4, boxprops=dict(alpha=1))\n",
    "ax[0][0].legend().remove()\n",
    "# p_bn2.set_ylim(0,180)\n",
    "\n",
    "ax[0][0].set_title(\"Voters' age\")\n",
    "p_bn.set_title('Votes gained by BN')\n",
    "p_pr.set_title('Votes gained by Pakatan')\n",
    "p_pas_bebas.set_title('Votes gained by PAS(GE14) / Bebas(GE13)')\n",
    "p_rej.set_title('Rejected votes')\n",
    "p_nr.set_title('Votes not returned')\n",
    "\n",
    "plt.tight_layout()"
   ]
  }
 ],
 "metadata": {
  "kernelspec": {
   "display_name": "Python 3",
   "language": "python",
   "name": "python3"
  },
  "language_info": {
   "codemirror_mode": {
    "name": "ipython",
    "version": 3
   },
   "file_extension": ".py",
   "mimetype": "text/x-python",
   "name": "python",
   "nbconvert_exporter": "python",
   "pygments_lexer": "ipython3",
   "version": "3.6.6"
  },
  "varInspector": {
   "cols": {
    "lenName": 16,
    "lenType": 16,
    "lenVar": 40
   },
   "kernels_config": {
    "python": {
     "delete_cmd_postfix": "",
     "delete_cmd_prefix": "del ",
     "library": "var_list.py",
     "varRefreshCmd": "print(var_dic_list())"
    },
    "r": {
     "delete_cmd_postfix": ") ",
     "delete_cmd_prefix": "rm(",
     "library": "var_list.r",
     "varRefreshCmd": "cat(var_dic_list()) "
    }
   },
   "types_to_exclude": [
    "module",
    "function",
    "builtin_function_or_method",
    "instance",
    "_Feature"
   ],
   "window_display": false
  }
 },
 "nbformat": 4,
 "nbformat_minor": 2
}
